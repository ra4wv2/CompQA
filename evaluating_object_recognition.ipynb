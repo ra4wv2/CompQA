{
  "nbformat": 4,
  "nbformat_minor": 0,
  "metadata": {
    "colab": {
      "provenance": [],
      "collapsed_sections": [
        "zoZYjT7dOSYO",
        "upH2HMKXt7yD",
        "vGnGneutQAay",
        "MHZJqc2cBK1R",
        "w5KIS63cWxAh",
        "fgfCnTNyWtgy",
        "Dynr0piqIM4H",
        "sHQot4HtIQSF",
        "neS0lIMWA7v_",
        "pDJl1ARuWoy8",
        "zTHfetSDWj4b",
        "hr7mVl2zRlGq",
        "37HAgFdgRowH",
        "GFrR6Wul_6_d",
        "M-ry7XzeWf1b",
        "6SrSoZcCWYQn",
        "27uzOfCIRye5",
        "CHC_BI6VR5o0",
        "df1P2sYv_n2_",
        "eZUY7xAJWTln",
        "JQlLqqCuWO-D",
        "FWvKSz9kR5vs",
        "7AkUhLx1zn1B",
        "kLUI94Qy0pGi",
        "EhtsE6yy0s1O",
        "OySV6e5Z1DPu",
        "E19bSJfRSDRr",
        "w_difYog_GeZ",
        "B2z7Oqr6WIoB",
        "1ZVDymG7WD2X",
        "PqeGkRNWSIXP",
        "vtm96brcSLya",
        "4cKXS6GB-0-o",
        "oBSIopy0V_2a",
        "rPcsmeh9V5so",
        "evK5tiP7SL3r",
        "zeiFGaCnwD9D",
        "dvv6CZVDVwa7",
        "ffiooyA1Vto7"
      ]
    },
    "kernelspec": {
      "name": "python3",
      "display_name": "Python 3"
    },
    "language_info": {
      "name": "python"
    },
    "widgets": {
      "application/vnd.jupyter.widget-state+json": {
        "a79e958d3b4447f5904f53f460d3d4a5": {
          "model_module": "@jupyter-widgets/controls",
          "model_name": "HBoxModel",
          "model_module_version": "1.5.0",
          "state": {
            "_dom_classes": [],
            "_model_module": "@jupyter-widgets/controls",
            "_model_module_version": "1.5.0",
            "_model_name": "HBoxModel",
            "_view_count": null,
            "_view_module": "@jupyter-widgets/controls",
            "_view_module_version": "1.5.0",
            "_view_name": "HBoxView",
            "box_style": "",
            "children": [
              "IPY_MODEL_13330cffcc4d4bcd9c24341381f67284",
              "IPY_MODEL_d4ba61b775a445119035e9d56f410afc",
              "IPY_MODEL_d48ab3d18ca6444c814d626f8ca472ed"
            ],
            "layout": "IPY_MODEL_a6777ecd56b04a35be3cc58572a1c937"
          }
        },
        "13330cffcc4d4bcd9c24341381f67284": {
          "model_module": "@jupyter-widgets/controls",
          "model_name": "HTMLModel",
          "model_module_version": "1.5.0",
          "state": {
            "_dom_classes": [],
            "_model_module": "@jupyter-widgets/controls",
            "_model_module_version": "1.5.0",
            "_model_name": "HTMLModel",
            "_view_count": null,
            "_view_module": "@jupyter-widgets/controls",
            "_view_module_version": "1.5.0",
            "_view_name": "HTMLView",
            "description": "",
            "description_tooltip": null,
            "layout": "IPY_MODEL_e063dbc241c842feb1efae59363ac8f2",
            "placeholder": "​",
            "style": "IPY_MODEL_8faa85639bf9416eac83574f08b7348a",
            "value": "100%"
          }
        },
        "d4ba61b775a445119035e9d56f410afc": {
          "model_module": "@jupyter-widgets/controls",
          "model_name": "FloatProgressModel",
          "model_module_version": "1.5.0",
          "state": {
            "_dom_classes": [],
            "_model_module": "@jupyter-widgets/controls",
            "_model_module_version": "1.5.0",
            "_model_name": "FloatProgressModel",
            "_view_count": null,
            "_view_module": "@jupyter-widgets/controls",
            "_view_module_version": "1.5.0",
            "_view_name": "ProgressView",
            "bar_style": "success",
            "description": "",
            "description_tooltip": null,
            "layout": "IPY_MODEL_198a18f34be948c7a56004f8a76e243e",
            "max": 3057,
            "min": 0,
            "orientation": "horizontal",
            "style": "IPY_MODEL_39950d0f48b0484c9ef6b14f7d411928",
            "value": 3057
          }
        },
        "d48ab3d18ca6444c814d626f8ca472ed": {
          "model_module": "@jupyter-widgets/controls",
          "model_name": "HTMLModel",
          "model_module_version": "1.5.0",
          "state": {
            "_dom_classes": [],
            "_model_module": "@jupyter-widgets/controls",
            "_model_module_version": "1.5.0",
            "_model_name": "HTMLModel",
            "_view_count": null,
            "_view_module": "@jupyter-widgets/controls",
            "_view_module_version": "1.5.0",
            "_view_name": "HTMLView",
            "description": "",
            "description_tooltip": null,
            "layout": "IPY_MODEL_2e2d909a86564eb0a6f53ba4efbbd91c",
            "placeholder": "​",
            "style": "IPY_MODEL_18e8f82a97e14fef8d326e792defd95a",
            "value": " 3057/3057 [14:33&lt;00:00,  4.37it/s]"
          }
        },
        "a6777ecd56b04a35be3cc58572a1c937": {
          "model_module": "@jupyter-widgets/base",
          "model_name": "LayoutModel",
          "model_module_version": "1.2.0",
          "state": {
            "_model_module": "@jupyter-widgets/base",
            "_model_module_version": "1.2.0",
            "_model_name": "LayoutModel",
            "_view_count": null,
            "_view_module": "@jupyter-widgets/base",
            "_view_module_version": "1.2.0",
            "_view_name": "LayoutView",
            "align_content": null,
            "align_items": null,
            "align_self": null,
            "border": null,
            "bottom": null,
            "display": null,
            "flex": null,
            "flex_flow": null,
            "grid_area": null,
            "grid_auto_columns": null,
            "grid_auto_flow": null,
            "grid_auto_rows": null,
            "grid_column": null,
            "grid_gap": null,
            "grid_row": null,
            "grid_template_areas": null,
            "grid_template_columns": null,
            "grid_template_rows": null,
            "height": null,
            "justify_content": null,
            "justify_items": null,
            "left": null,
            "margin": null,
            "max_height": null,
            "max_width": null,
            "min_height": null,
            "min_width": null,
            "object_fit": null,
            "object_position": null,
            "order": null,
            "overflow": null,
            "overflow_x": null,
            "overflow_y": null,
            "padding": null,
            "right": null,
            "top": null,
            "visibility": null,
            "width": null
          }
        },
        "e063dbc241c842feb1efae59363ac8f2": {
          "model_module": "@jupyter-widgets/base",
          "model_name": "LayoutModel",
          "model_module_version": "1.2.0",
          "state": {
            "_model_module": "@jupyter-widgets/base",
            "_model_module_version": "1.2.0",
            "_model_name": "LayoutModel",
            "_view_count": null,
            "_view_module": "@jupyter-widgets/base",
            "_view_module_version": "1.2.0",
            "_view_name": "LayoutView",
            "align_content": null,
            "align_items": null,
            "align_self": null,
            "border": null,
            "bottom": null,
            "display": null,
            "flex": null,
            "flex_flow": null,
            "grid_area": null,
            "grid_auto_columns": null,
            "grid_auto_flow": null,
            "grid_auto_rows": null,
            "grid_column": null,
            "grid_gap": null,
            "grid_row": null,
            "grid_template_areas": null,
            "grid_template_columns": null,
            "grid_template_rows": null,
            "height": null,
            "justify_content": null,
            "justify_items": null,
            "left": null,
            "margin": null,
            "max_height": null,
            "max_width": null,
            "min_height": null,
            "min_width": null,
            "object_fit": null,
            "object_position": null,
            "order": null,
            "overflow": null,
            "overflow_x": null,
            "overflow_y": null,
            "padding": null,
            "right": null,
            "top": null,
            "visibility": null,
            "width": null
          }
        },
        "8faa85639bf9416eac83574f08b7348a": {
          "model_module": "@jupyter-widgets/controls",
          "model_name": "DescriptionStyleModel",
          "model_module_version": "1.5.0",
          "state": {
            "_model_module": "@jupyter-widgets/controls",
            "_model_module_version": "1.5.0",
            "_model_name": "DescriptionStyleModel",
            "_view_count": null,
            "_view_module": "@jupyter-widgets/base",
            "_view_module_version": "1.2.0",
            "_view_name": "StyleView",
            "description_width": ""
          }
        },
        "198a18f34be948c7a56004f8a76e243e": {
          "model_module": "@jupyter-widgets/base",
          "model_name": "LayoutModel",
          "model_module_version": "1.2.0",
          "state": {
            "_model_module": "@jupyter-widgets/base",
            "_model_module_version": "1.2.0",
            "_model_name": "LayoutModel",
            "_view_count": null,
            "_view_module": "@jupyter-widgets/base",
            "_view_module_version": "1.2.0",
            "_view_name": "LayoutView",
            "align_content": null,
            "align_items": null,
            "align_self": null,
            "border": null,
            "bottom": null,
            "display": null,
            "flex": null,
            "flex_flow": null,
            "grid_area": null,
            "grid_auto_columns": null,
            "grid_auto_flow": null,
            "grid_auto_rows": null,
            "grid_column": null,
            "grid_gap": null,
            "grid_row": null,
            "grid_template_areas": null,
            "grid_template_columns": null,
            "grid_template_rows": null,
            "height": null,
            "justify_content": null,
            "justify_items": null,
            "left": null,
            "margin": null,
            "max_height": null,
            "max_width": null,
            "min_height": null,
            "min_width": null,
            "object_fit": null,
            "object_position": null,
            "order": null,
            "overflow": null,
            "overflow_x": null,
            "overflow_y": null,
            "padding": null,
            "right": null,
            "top": null,
            "visibility": null,
            "width": null
          }
        },
        "39950d0f48b0484c9ef6b14f7d411928": {
          "model_module": "@jupyter-widgets/controls",
          "model_name": "ProgressStyleModel",
          "model_module_version": "1.5.0",
          "state": {
            "_model_module": "@jupyter-widgets/controls",
            "_model_module_version": "1.5.0",
            "_model_name": "ProgressStyleModel",
            "_view_count": null,
            "_view_module": "@jupyter-widgets/base",
            "_view_module_version": "1.2.0",
            "_view_name": "StyleView",
            "bar_color": null,
            "description_width": ""
          }
        },
        "2e2d909a86564eb0a6f53ba4efbbd91c": {
          "model_module": "@jupyter-widgets/base",
          "model_name": "LayoutModel",
          "model_module_version": "1.2.0",
          "state": {
            "_model_module": "@jupyter-widgets/base",
            "_model_module_version": "1.2.0",
            "_model_name": "LayoutModel",
            "_view_count": null,
            "_view_module": "@jupyter-widgets/base",
            "_view_module_version": "1.2.0",
            "_view_name": "LayoutView",
            "align_content": null,
            "align_items": null,
            "align_self": null,
            "border": null,
            "bottom": null,
            "display": null,
            "flex": null,
            "flex_flow": null,
            "grid_area": null,
            "grid_auto_columns": null,
            "grid_auto_flow": null,
            "grid_auto_rows": null,
            "grid_column": null,
            "grid_gap": null,
            "grid_row": null,
            "grid_template_areas": null,
            "grid_template_columns": null,
            "grid_template_rows": null,
            "height": null,
            "justify_content": null,
            "justify_items": null,
            "left": null,
            "margin": null,
            "max_height": null,
            "max_width": null,
            "min_height": null,
            "min_width": null,
            "object_fit": null,
            "object_position": null,
            "order": null,
            "overflow": null,
            "overflow_x": null,
            "overflow_y": null,
            "padding": null,
            "right": null,
            "top": null,
            "visibility": null,
            "width": null
          }
        },
        "18e8f82a97e14fef8d326e792defd95a": {
          "model_module": "@jupyter-widgets/controls",
          "model_name": "DescriptionStyleModel",
          "model_module_version": "1.5.0",
          "state": {
            "_model_module": "@jupyter-widgets/controls",
            "_model_module_version": "1.5.0",
            "_model_name": "DescriptionStyleModel",
            "_view_count": null,
            "_view_module": "@jupyter-widgets/base",
            "_view_module_version": "1.2.0",
            "_view_name": "StyleView",
            "description_width": ""
          }
        },
        "2a5c353bc0ed4f76b3b6e17e5c42dfb1": {
          "model_module": "@jupyter-widgets/controls",
          "model_name": "HBoxModel",
          "model_module_version": "1.5.0",
          "state": {
            "_dom_classes": [],
            "_model_module": "@jupyter-widgets/controls",
            "_model_module_version": "1.5.0",
            "_model_name": "HBoxModel",
            "_view_count": null,
            "_view_module": "@jupyter-widgets/controls",
            "_view_module_version": "1.5.0",
            "_view_name": "HBoxView",
            "box_style": "",
            "children": [
              "IPY_MODEL_bcc2d79bfe664206807d517730e0f7bc",
              "IPY_MODEL_35a85952df224ef8a5848df9c351bfc5",
              "IPY_MODEL_40124d4b8b344c1992eedcc0e8ce5749"
            ],
            "layout": "IPY_MODEL_5a8661f845014600ad80db7363d4eae8"
          }
        },
        "bcc2d79bfe664206807d517730e0f7bc": {
          "model_module": "@jupyter-widgets/controls",
          "model_name": "HTMLModel",
          "model_module_version": "1.5.0",
          "state": {
            "_dom_classes": [],
            "_model_module": "@jupyter-widgets/controls",
            "_model_module_version": "1.5.0",
            "_model_name": "HTMLModel",
            "_view_count": null,
            "_view_module": "@jupyter-widgets/controls",
            "_view_module_version": "1.5.0",
            "_view_name": "HTMLView",
            "description": "",
            "description_tooltip": null,
            "layout": "IPY_MODEL_9abafc84f21b4f7e8ffd40aee026ea00",
            "placeholder": "​",
            "style": "IPY_MODEL_1f09a956482f419fa889a4213348e46c",
            "value": "100%"
          }
        },
        "35a85952df224ef8a5848df9c351bfc5": {
          "model_module": "@jupyter-widgets/controls",
          "model_name": "FloatProgressModel",
          "model_module_version": "1.5.0",
          "state": {
            "_dom_classes": [],
            "_model_module": "@jupyter-widgets/controls",
            "_model_module_version": "1.5.0",
            "_model_name": "FloatProgressModel",
            "_view_count": null,
            "_view_module": "@jupyter-widgets/controls",
            "_view_module_version": "1.5.0",
            "_view_name": "ProgressView",
            "bar_style": "success",
            "description": "",
            "description_tooltip": null,
            "layout": "IPY_MODEL_3088d87ee8f442858a2654bc0c1851d0",
            "max": 3057,
            "min": 0,
            "orientation": "horizontal",
            "style": "IPY_MODEL_39d1048888d24ef893148ea8e3f8b366",
            "value": 3057
          }
        },
        "40124d4b8b344c1992eedcc0e8ce5749": {
          "model_module": "@jupyter-widgets/controls",
          "model_name": "HTMLModel",
          "model_module_version": "1.5.0",
          "state": {
            "_dom_classes": [],
            "_model_module": "@jupyter-widgets/controls",
            "_model_module_version": "1.5.0",
            "_model_name": "HTMLModel",
            "_view_count": null,
            "_view_module": "@jupyter-widgets/controls",
            "_view_module_version": "1.5.0",
            "_view_name": "HTMLView",
            "description": "",
            "description_tooltip": null,
            "layout": "IPY_MODEL_6a43b280544747df82057cc36b92dc25",
            "placeholder": "​",
            "style": "IPY_MODEL_3c9d33986195458384c82fce752d996a",
            "value": " 3057/3057 [18:07&lt;00:00,  3.10it/s]"
          }
        },
        "5a8661f845014600ad80db7363d4eae8": {
          "model_module": "@jupyter-widgets/base",
          "model_name": "LayoutModel",
          "model_module_version": "1.2.0",
          "state": {
            "_model_module": "@jupyter-widgets/base",
            "_model_module_version": "1.2.0",
            "_model_name": "LayoutModel",
            "_view_count": null,
            "_view_module": "@jupyter-widgets/base",
            "_view_module_version": "1.2.0",
            "_view_name": "LayoutView",
            "align_content": null,
            "align_items": null,
            "align_self": null,
            "border": null,
            "bottom": null,
            "display": null,
            "flex": null,
            "flex_flow": null,
            "grid_area": null,
            "grid_auto_columns": null,
            "grid_auto_flow": null,
            "grid_auto_rows": null,
            "grid_column": null,
            "grid_gap": null,
            "grid_row": null,
            "grid_template_areas": null,
            "grid_template_columns": null,
            "grid_template_rows": null,
            "height": null,
            "justify_content": null,
            "justify_items": null,
            "left": null,
            "margin": null,
            "max_height": null,
            "max_width": null,
            "min_height": null,
            "min_width": null,
            "object_fit": null,
            "object_position": null,
            "order": null,
            "overflow": null,
            "overflow_x": null,
            "overflow_y": null,
            "padding": null,
            "right": null,
            "top": null,
            "visibility": null,
            "width": null
          }
        },
        "9abafc84f21b4f7e8ffd40aee026ea00": {
          "model_module": "@jupyter-widgets/base",
          "model_name": "LayoutModel",
          "model_module_version": "1.2.0",
          "state": {
            "_model_module": "@jupyter-widgets/base",
            "_model_module_version": "1.2.0",
            "_model_name": "LayoutModel",
            "_view_count": null,
            "_view_module": "@jupyter-widgets/base",
            "_view_module_version": "1.2.0",
            "_view_name": "LayoutView",
            "align_content": null,
            "align_items": null,
            "align_self": null,
            "border": null,
            "bottom": null,
            "display": null,
            "flex": null,
            "flex_flow": null,
            "grid_area": null,
            "grid_auto_columns": null,
            "grid_auto_flow": null,
            "grid_auto_rows": null,
            "grid_column": null,
            "grid_gap": null,
            "grid_row": null,
            "grid_template_areas": null,
            "grid_template_columns": null,
            "grid_template_rows": null,
            "height": null,
            "justify_content": null,
            "justify_items": null,
            "left": null,
            "margin": null,
            "max_height": null,
            "max_width": null,
            "min_height": null,
            "min_width": null,
            "object_fit": null,
            "object_position": null,
            "order": null,
            "overflow": null,
            "overflow_x": null,
            "overflow_y": null,
            "padding": null,
            "right": null,
            "top": null,
            "visibility": null,
            "width": null
          }
        },
        "1f09a956482f419fa889a4213348e46c": {
          "model_module": "@jupyter-widgets/controls",
          "model_name": "DescriptionStyleModel",
          "model_module_version": "1.5.0",
          "state": {
            "_model_module": "@jupyter-widgets/controls",
            "_model_module_version": "1.5.0",
            "_model_name": "DescriptionStyleModel",
            "_view_count": null,
            "_view_module": "@jupyter-widgets/base",
            "_view_module_version": "1.2.0",
            "_view_name": "StyleView",
            "description_width": ""
          }
        },
        "3088d87ee8f442858a2654bc0c1851d0": {
          "model_module": "@jupyter-widgets/base",
          "model_name": "LayoutModel",
          "model_module_version": "1.2.0",
          "state": {
            "_model_module": "@jupyter-widgets/base",
            "_model_module_version": "1.2.0",
            "_model_name": "LayoutModel",
            "_view_count": null,
            "_view_module": "@jupyter-widgets/base",
            "_view_module_version": "1.2.0",
            "_view_name": "LayoutView",
            "align_content": null,
            "align_items": null,
            "align_self": null,
            "border": null,
            "bottom": null,
            "display": null,
            "flex": null,
            "flex_flow": null,
            "grid_area": null,
            "grid_auto_columns": null,
            "grid_auto_flow": null,
            "grid_auto_rows": null,
            "grid_column": null,
            "grid_gap": null,
            "grid_row": null,
            "grid_template_areas": null,
            "grid_template_columns": null,
            "grid_template_rows": null,
            "height": null,
            "justify_content": null,
            "justify_items": null,
            "left": null,
            "margin": null,
            "max_height": null,
            "max_width": null,
            "min_height": null,
            "min_width": null,
            "object_fit": null,
            "object_position": null,
            "order": null,
            "overflow": null,
            "overflow_x": null,
            "overflow_y": null,
            "padding": null,
            "right": null,
            "top": null,
            "visibility": null,
            "width": null
          }
        },
        "39d1048888d24ef893148ea8e3f8b366": {
          "model_module": "@jupyter-widgets/controls",
          "model_name": "ProgressStyleModel",
          "model_module_version": "1.5.0",
          "state": {
            "_model_module": "@jupyter-widgets/controls",
            "_model_module_version": "1.5.0",
            "_model_name": "ProgressStyleModel",
            "_view_count": null,
            "_view_module": "@jupyter-widgets/base",
            "_view_module_version": "1.2.0",
            "_view_name": "StyleView",
            "bar_color": null,
            "description_width": ""
          }
        },
        "6a43b280544747df82057cc36b92dc25": {
          "model_module": "@jupyter-widgets/base",
          "model_name": "LayoutModel",
          "model_module_version": "1.2.0",
          "state": {
            "_model_module": "@jupyter-widgets/base",
            "_model_module_version": "1.2.0",
            "_model_name": "LayoutModel",
            "_view_count": null,
            "_view_module": "@jupyter-widgets/base",
            "_view_module_version": "1.2.0",
            "_view_name": "LayoutView",
            "align_content": null,
            "align_items": null,
            "align_self": null,
            "border": null,
            "bottom": null,
            "display": null,
            "flex": null,
            "flex_flow": null,
            "grid_area": null,
            "grid_auto_columns": null,
            "grid_auto_flow": null,
            "grid_auto_rows": null,
            "grid_column": null,
            "grid_gap": null,
            "grid_row": null,
            "grid_template_areas": null,
            "grid_template_columns": null,
            "grid_template_rows": null,
            "height": null,
            "justify_content": null,
            "justify_items": null,
            "left": null,
            "margin": null,
            "max_height": null,
            "max_width": null,
            "min_height": null,
            "min_width": null,
            "object_fit": null,
            "object_position": null,
            "order": null,
            "overflow": null,
            "overflow_x": null,
            "overflow_y": null,
            "padding": null,
            "right": null,
            "top": null,
            "visibility": null,
            "width": null
          }
        },
        "3c9d33986195458384c82fce752d996a": {
          "model_module": "@jupyter-widgets/controls",
          "model_name": "DescriptionStyleModel",
          "model_module_version": "1.5.0",
          "state": {
            "_model_module": "@jupyter-widgets/controls",
            "_model_module_version": "1.5.0",
            "_model_name": "DescriptionStyleModel",
            "_view_count": null,
            "_view_module": "@jupyter-widgets/base",
            "_view_module_version": "1.2.0",
            "_view_name": "StyleView",
            "description_width": ""
          }
        },
        "e97f2dba35584d5b86c1157a63e8f806": {
          "model_module": "@jupyter-widgets/controls",
          "model_name": "HBoxModel",
          "model_module_version": "1.5.0",
          "state": {
            "_dom_classes": [],
            "_model_module": "@jupyter-widgets/controls",
            "_model_module_version": "1.5.0",
            "_model_name": "HBoxModel",
            "_view_count": null,
            "_view_module": "@jupyter-widgets/controls",
            "_view_module_version": "1.5.0",
            "_view_name": "HBoxView",
            "box_style": "",
            "children": [
              "IPY_MODEL_126da05237e84ccda70b045210bc4cbe",
              "IPY_MODEL_003e451e836e4765b8714ea8d481ce83",
              "IPY_MODEL_bcb63fd38cd7406f8b3d7492d7ef6750"
            ],
            "layout": "IPY_MODEL_a9a6d65edc9e476bb8d9f7e1180dab9b"
          }
        },
        "126da05237e84ccda70b045210bc4cbe": {
          "model_module": "@jupyter-widgets/controls",
          "model_name": "HTMLModel",
          "model_module_version": "1.5.0",
          "state": {
            "_dom_classes": [],
            "_model_module": "@jupyter-widgets/controls",
            "_model_module_version": "1.5.0",
            "_model_name": "HTMLModel",
            "_view_count": null,
            "_view_module": "@jupyter-widgets/controls",
            "_view_module_version": "1.5.0",
            "_view_name": "HTMLView",
            "description": "",
            "description_tooltip": null,
            "layout": "IPY_MODEL_796005629381488fad5d3f7d735af866",
            "placeholder": "​",
            "style": "IPY_MODEL_54c12ae2bfb14c3c8bfe76ab96d7bb71",
            "value": "100%"
          }
        },
        "003e451e836e4765b8714ea8d481ce83": {
          "model_module": "@jupyter-widgets/controls",
          "model_name": "FloatProgressModel",
          "model_module_version": "1.5.0",
          "state": {
            "_dom_classes": [],
            "_model_module": "@jupyter-widgets/controls",
            "_model_module_version": "1.5.0",
            "_model_name": "FloatProgressModel",
            "_view_count": null,
            "_view_module": "@jupyter-widgets/controls",
            "_view_module_version": "1.5.0",
            "_view_name": "ProgressView",
            "bar_style": "success",
            "description": "",
            "description_tooltip": null,
            "layout": "IPY_MODEL_a9bc197aad6149d296b9a51c5fa2896d",
            "max": 3057,
            "min": 0,
            "orientation": "horizontal",
            "style": "IPY_MODEL_6eddb01a9d504ef5a204a5918802f8fe",
            "value": 3057
          }
        },
        "bcb63fd38cd7406f8b3d7492d7ef6750": {
          "model_module": "@jupyter-widgets/controls",
          "model_name": "HTMLModel",
          "model_module_version": "1.5.0",
          "state": {
            "_dom_classes": [],
            "_model_module": "@jupyter-widgets/controls",
            "_model_module_version": "1.5.0",
            "_model_name": "HTMLModel",
            "_view_count": null,
            "_view_module": "@jupyter-widgets/controls",
            "_view_module_version": "1.5.0",
            "_view_name": "HTMLView",
            "description": "",
            "description_tooltip": null,
            "layout": "IPY_MODEL_5a22e38cee8c439ca9ccc12b4ce80fc7",
            "placeholder": "​",
            "style": "IPY_MODEL_d260a9c066094c9b96f73d479aa5c2ee",
            "value": " 3057/3057 [08:48&lt;00:00,  4.58it/s]"
          }
        },
        "a9a6d65edc9e476bb8d9f7e1180dab9b": {
          "model_module": "@jupyter-widgets/base",
          "model_name": "LayoutModel",
          "model_module_version": "1.2.0",
          "state": {
            "_model_module": "@jupyter-widgets/base",
            "_model_module_version": "1.2.0",
            "_model_name": "LayoutModel",
            "_view_count": null,
            "_view_module": "@jupyter-widgets/base",
            "_view_module_version": "1.2.0",
            "_view_name": "LayoutView",
            "align_content": null,
            "align_items": null,
            "align_self": null,
            "border": null,
            "bottom": null,
            "display": null,
            "flex": null,
            "flex_flow": null,
            "grid_area": null,
            "grid_auto_columns": null,
            "grid_auto_flow": null,
            "grid_auto_rows": null,
            "grid_column": null,
            "grid_gap": null,
            "grid_row": null,
            "grid_template_areas": null,
            "grid_template_columns": null,
            "grid_template_rows": null,
            "height": null,
            "justify_content": null,
            "justify_items": null,
            "left": null,
            "margin": null,
            "max_height": null,
            "max_width": null,
            "min_height": null,
            "min_width": null,
            "object_fit": null,
            "object_position": null,
            "order": null,
            "overflow": null,
            "overflow_x": null,
            "overflow_y": null,
            "padding": null,
            "right": null,
            "top": null,
            "visibility": null,
            "width": null
          }
        },
        "796005629381488fad5d3f7d735af866": {
          "model_module": "@jupyter-widgets/base",
          "model_name": "LayoutModel",
          "model_module_version": "1.2.0",
          "state": {
            "_model_module": "@jupyter-widgets/base",
            "_model_module_version": "1.2.0",
            "_model_name": "LayoutModel",
            "_view_count": null,
            "_view_module": "@jupyter-widgets/base",
            "_view_module_version": "1.2.0",
            "_view_name": "LayoutView",
            "align_content": null,
            "align_items": null,
            "align_self": null,
            "border": null,
            "bottom": null,
            "display": null,
            "flex": null,
            "flex_flow": null,
            "grid_area": null,
            "grid_auto_columns": null,
            "grid_auto_flow": null,
            "grid_auto_rows": null,
            "grid_column": null,
            "grid_gap": null,
            "grid_row": null,
            "grid_template_areas": null,
            "grid_template_columns": null,
            "grid_template_rows": null,
            "height": null,
            "justify_content": null,
            "justify_items": null,
            "left": null,
            "margin": null,
            "max_height": null,
            "max_width": null,
            "min_height": null,
            "min_width": null,
            "object_fit": null,
            "object_position": null,
            "order": null,
            "overflow": null,
            "overflow_x": null,
            "overflow_y": null,
            "padding": null,
            "right": null,
            "top": null,
            "visibility": null,
            "width": null
          }
        },
        "54c12ae2bfb14c3c8bfe76ab96d7bb71": {
          "model_module": "@jupyter-widgets/controls",
          "model_name": "DescriptionStyleModel",
          "model_module_version": "1.5.0",
          "state": {
            "_model_module": "@jupyter-widgets/controls",
            "_model_module_version": "1.5.0",
            "_model_name": "DescriptionStyleModel",
            "_view_count": null,
            "_view_module": "@jupyter-widgets/base",
            "_view_module_version": "1.2.0",
            "_view_name": "StyleView",
            "description_width": ""
          }
        },
        "a9bc197aad6149d296b9a51c5fa2896d": {
          "model_module": "@jupyter-widgets/base",
          "model_name": "LayoutModel",
          "model_module_version": "1.2.0",
          "state": {
            "_model_module": "@jupyter-widgets/base",
            "_model_module_version": "1.2.0",
            "_model_name": "LayoutModel",
            "_view_count": null,
            "_view_module": "@jupyter-widgets/base",
            "_view_module_version": "1.2.0",
            "_view_name": "LayoutView",
            "align_content": null,
            "align_items": null,
            "align_self": null,
            "border": null,
            "bottom": null,
            "display": null,
            "flex": null,
            "flex_flow": null,
            "grid_area": null,
            "grid_auto_columns": null,
            "grid_auto_flow": null,
            "grid_auto_rows": null,
            "grid_column": null,
            "grid_gap": null,
            "grid_row": null,
            "grid_template_areas": null,
            "grid_template_columns": null,
            "grid_template_rows": null,
            "height": null,
            "justify_content": null,
            "justify_items": null,
            "left": null,
            "margin": null,
            "max_height": null,
            "max_width": null,
            "min_height": null,
            "min_width": null,
            "object_fit": null,
            "object_position": null,
            "order": null,
            "overflow": null,
            "overflow_x": null,
            "overflow_y": null,
            "padding": null,
            "right": null,
            "top": null,
            "visibility": null,
            "width": null
          }
        },
        "6eddb01a9d504ef5a204a5918802f8fe": {
          "model_module": "@jupyter-widgets/controls",
          "model_name": "ProgressStyleModel",
          "model_module_version": "1.5.0",
          "state": {
            "_model_module": "@jupyter-widgets/controls",
            "_model_module_version": "1.5.0",
            "_model_name": "ProgressStyleModel",
            "_view_count": null,
            "_view_module": "@jupyter-widgets/base",
            "_view_module_version": "1.2.0",
            "_view_name": "StyleView",
            "bar_color": null,
            "description_width": ""
          }
        },
        "5a22e38cee8c439ca9ccc12b4ce80fc7": {
          "model_module": "@jupyter-widgets/base",
          "model_name": "LayoutModel",
          "model_module_version": "1.2.0",
          "state": {
            "_model_module": "@jupyter-widgets/base",
            "_model_module_version": "1.2.0",
            "_model_name": "LayoutModel",
            "_view_count": null,
            "_view_module": "@jupyter-widgets/base",
            "_view_module_version": "1.2.0",
            "_view_name": "LayoutView",
            "align_content": null,
            "align_items": null,
            "align_self": null,
            "border": null,
            "bottom": null,
            "display": null,
            "flex": null,
            "flex_flow": null,
            "grid_area": null,
            "grid_auto_columns": null,
            "grid_auto_flow": null,
            "grid_auto_rows": null,
            "grid_column": null,
            "grid_gap": null,
            "grid_row": null,
            "grid_template_areas": null,
            "grid_template_columns": null,
            "grid_template_rows": null,
            "height": null,
            "justify_content": null,
            "justify_items": null,
            "left": null,
            "margin": null,
            "max_height": null,
            "max_width": null,
            "min_height": null,
            "min_width": null,
            "object_fit": null,
            "object_position": null,
            "order": null,
            "overflow": null,
            "overflow_x": null,
            "overflow_y": null,
            "padding": null,
            "right": null,
            "top": null,
            "visibility": null,
            "width": null
          }
        },
        "d260a9c066094c9b96f73d479aa5c2ee": {
          "model_module": "@jupyter-widgets/controls",
          "model_name": "DescriptionStyleModel",
          "model_module_version": "1.5.0",
          "state": {
            "_model_module": "@jupyter-widgets/controls",
            "_model_module_version": "1.5.0",
            "_model_name": "DescriptionStyleModel",
            "_view_count": null,
            "_view_module": "@jupyter-widgets/base",
            "_view_module_version": "1.2.0",
            "_view_name": "StyleView",
            "description_width": ""
          }
        },
        "a2df2e39b34343d6a445225806a58039": {
          "model_module": "@jupyter-widgets/controls",
          "model_name": "HBoxModel",
          "model_module_version": "1.5.0",
          "state": {
            "_dom_classes": [],
            "_model_module": "@jupyter-widgets/controls",
            "_model_module_version": "1.5.0",
            "_model_name": "HBoxModel",
            "_view_count": null,
            "_view_module": "@jupyter-widgets/controls",
            "_view_module_version": "1.5.0",
            "_view_name": "HBoxView",
            "box_style": "",
            "children": [
              "IPY_MODEL_b0ffb307b3d44a748e4fc26c947b6ae3",
              "IPY_MODEL_74834565ce524fccbaa1dd7d0b1c470c",
              "IPY_MODEL_1a7466e6d7ca4f6c9986cad327b36ddf"
            ],
            "layout": "IPY_MODEL_4dbba5faac404727b3e9526f8caea01c"
          }
        },
        "b0ffb307b3d44a748e4fc26c947b6ae3": {
          "model_module": "@jupyter-widgets/controls",
          "model_name": "HTMLModel",
          "model_module_version": "1.5.0",
          "state": {
            "_dom_classes": [],
            "_model_module": "@jupyter-widgets/controls",
            "_model_module_version": "1.5.0",
            "_model_name": "HTMLModel",
            "_view_count": null,
            "_view_module": "@jupyter-widgets/controls",
            "_view_module_version": "1.5.0",
            "_view_name": "HTMLView",
            "description": "",
            "description_tooltip": null,
            "layout": "IPY_MODEL_59b465002244484189cb6460b85f83e0",
            "placeholder": "​",
            "style": "IPY_MODEL_b9240810675340a5a15852d0d822786a",
            "value": "100%"
          }
        },
        "74834565ce524fccbaa1dd7d0b1c470c": {
          "model_module": "@jupyter-widgets/controls",
          "model_name": "FloatProgressModel",
          "model_module_version": "1.5.0",
          "state": {
            "_dom_classes": [],
            "_model_module": "@jupyter-widgets/controls",
            "_model_module_version": "1.5.0",
            "_model_name": "FloatProgressModel",
            "_view_count": null,
            "_view_module": "@jupyter-widgets/controls",
            "_view_module_version": "1.5.0",
            "_view_name": "ProgressView",
            "bar_style": "success",
            "description": "",
            "description_tooltip": null,
            "layout": "IPY_MODEL_81501e73c8c04d56a728bbfbf73295d6",
            "max": 3057,
            "min": 0,
            "orientation": "horizontal",
            "style": "IPY_MODEL_ab06f15e5c3748e29840dcbbe9216d49",
            "value": 3057
          }
        },
        "1a7466e6d7ca4f6c9986cad327b36ddf": {
          "model_module": "@jupyter-widgets/controls",
          "model_name": "HTMLModel",
          "model_module_version": "1.5.0",
          "state": {
            "_dom_classes": [],
            "_model_module": "@jupyter-widgets/controls",
            "_model_module_version": "1.5.0",
            "_model_name": "HTMLModel",
            "_view_count": null,
            "_view_module": "@jupyter-widgets/controls",
            "_view_module_version": "1.5.0",
            "_view_name": "HTMLView",
            "description": "",
            "description_tooltip": null,
            "layout": "IPY_MODEL_79ca479eb1de4f56988332e956f24f39",
            "placeholder": "​",
            "style": "IPY_MODEL_78f5662255c04d12bb93bf2f4d44247e",
            "value": " 3057/3057 [08:24&lt;00:00,  7.43it/s]"
          }
        },
        "4dbba5faac404727b3e9526f8caea01c": {
          "model_module": "@jupyter-widgets/base",
          "model_name": "LayoutModel",
          "model_module_version": "1.2.0",
          "state": {
            "_model_module": "@jupyter-widgets/base",
            "_model_module_version": "1.2.0",
            "_model_name": "LayoutModel",
            "_view_count": null,
            "_view_module": "@jupyter-widgets/base",
            "_view_module_version": "1.2.0",
            "_view_name": "LayoutView",
            "align_content": null,
            "align_items": null,
            "align_self": null,
            "border": null,
            "bottom": null,
            "display": null,
            "flex": null,
            "flex_flow": null,
            "grid_area": null,
            "grid_auto_columns": null,
            "grid_auto_flow": null,
            "grid_auto_rows": null,
            "grid_column": null,
            "grid_gap": null,
            "grid_row": null,
            "grid_template_areas": null,
            "grid_template_columns": null,
            "grid_template_rows": null,
            "height": null,
            "justify_content": null,
            "justify_items": null,
            "left": null,
            "margin": null,
            "max_height": null,
            "max_width": null,
            "min_height": null,
            "min_width": null,
            "object_fit": null,
            "object_position": null,
            "order": null,
            "overflow": null,
            "overflow_x": null,
            "overflow_y": null,
            "padding": null,
            "right": null,
            "top": null,
            "visibility": null,
            "width": null
          }
        },
        "59b465002244484189cb6460b85f83e0": {
          "model_module": "@jupyter-widgets/base",
          "model_name": "LayoutModel",
          "model_module_version": "1.2.0",
          "state": {
            "_model_module": "@jupyter-widgets/base",
            "_model_module_version": "1.2.0",
            "_model_name": "LayoutModel",
            "_view_count": null,
            "_view_module": "@jupyter-widgets/base",
            "_view_module_version": "1.2.0",
            "_view_name": "LayoutView",
            "align_content": null,
            "align_items": null,
            "align_self": null,
            "border": null,
            "bottom": null,
            "display": null,
            "flex": null,
            "flex_flow": null,
            "grid_area": null,
            "grid_auto_columns": null,
            "grid_auto_flow": null,
            "grid_auto_rows": null,
            "grid_column": null,
            "grid_gap": null,
            "grid_row": null,
            "grid_template_areas": null,
            "grid_template_columns": null,
            "grid_template_rows": null,
            "height": null,
            "justify_content": null,
            "justify_items": null,
            "left": null,
            "margin": null,
            "max_height": null,
            "max_width": null,
            "min_height": null,
            "min_width": null,
            "object_fit": null,
            "object_position": null,
            "order": null,
            "overflow": null,
            "overflow_x": null,
            "overflow_y": null,
            "padding": null,
            "right": null,
            "top": null,
            "visibility": null,
            "width": null
          }
        },
        "b9240810675340a5a15852d0d822786a": {
          "model_module": "@jupyter-widgets/controls",
          "model_name": "DescriptionStyleModel",
          "model_module_version": "1.5.0",
          "state": {
            "_model_module": "@jupyter-widgets/controls",
            "_model_module_version": "1.5.0",
            "_model_name": "DescriptionStyleModel",
            "_view_count": null,
            "_view_module": "@jupyter-widgets/base",
            "_view_module_version": "1.2.0",
            "_view_name": "StyleView",
            "description_width": ""
          }
        },
        "81501e73c8c04d56a728bbfbf73295d6": {
          "model_module": "@jupyter-widgets/base",
          "model_name": "LayoutModel",
          "model_module_version": "1.2.0",
          "state": {
            "_model_module": "@jupyter-widgets/base",
            "_model_module_version": "1.2.0",
            "_model_name": "LayoutModel",
            "_view_count": null,
            "_view_module": "@jupyter-widgets/base",
            "_view_module_version": "1.2.0",
            "_view_name": "LayoutView",
            "align_content": null,
            "align_items": null,
            "align_self": null,
            "border": null,
            "bottom": null,
            "display": null,
            "flex": null,
            "flex_flow": null,
            "grid_area": null,
            "grid_auto_columns": null,
            "grid_auto_flow": null,
            "grid_auto_rows": null,
            "grid_column": null,
            "grid_gap": null,
            "grid_row": null,
            "grid_template_areas": null,
            "grid_template_columns": null,
            "grid_template_rows": null,
            "height": null,
            "justify_content": null,
            "justify_items": null,
            "left": null,
            "margin": null,
            "max_height": null,
            "max_width": null,
            "min_height": null,
            "min_width": null,
            "object_fit": null,
            "object_position": null,
            "order": null,
            "overflow": null,
            "overflow_x": null,
            "overflow_y": null,
            "padding": null,
            "right": null,
            "top": null,
            "visibility": null,
            "width": null
          }
        },
        "ab06f15e5c3748e29840dcbbe9216d49": {
          "model_module": "@jupyter-widgets/controls",
          "model_name": "ProgressStyleModel",
          "model_module_version": "1.5.0",
          "state": {
            "_model_module": "@jupyter-widgets/controls",
            "_model_module_version": "1.5.0",
            "_model_name": "ProgressStyleModel",
            "_view_count": null,
            "_view_module": "@jupyter-widgets/base",
            "_view_module_version": "1.2.0",
            "_view_name": "StyleView",
            "bar_color": null,
            "description_width": ""
          }
        },
        "79ca479eb1de4f56988332e956f24f39": {
          "model_module": "@jupyter-widgets/base",
          "model_name": "LayoutModel",
          "model_module_version": "1.2.0",
          "state": {
            "_model_module": "@jupyter-widgets/base",
            "_model_module_version": "1.2.0",
            "_model_name": "LayoutModel",
            "_view_count": null,
            "_view_module": "@jupyter-widgets/base",
            "_view_module_version": "1.2.0",
            "_view_name": "LayoutView",
            "align_content": null,
            "align_items": null,
            "align_self": null,
            "border": null,
            "bottom": null,
            "display": null,
            "flex": null,
            "flex_flow": null,
            "grid_area": null,
            "grid_auto_columns": null,
            "grid_auto_flow": null,
            "grid_auto_rows": null,
            "grid_column": null,
            "grid_gap": null,
            "grid_row": null,
            "grid_template_areas": null,
            "grid_template_columns": null,
            "grid_template_rows": null,
            "height": null,
            "justify_content": null,
            "justify_items": null,
            "left": null,
            "margin": null,
            "max_height": null,
            "max_width": null,
            "min_height": null,
            "min_width": null,
            "object_fit": null,
            "object_position": null,
            "order": null,
            "overflow": null,
            "overflow_x": null,
            "overflow_y": null,
            "padding": null,
            "right": null,
            "top": null,
            "visibility": null,
            "width": null
          }
        },
        "78f5662255c04d12bb93bf2f4d44247e": {
          "model_module": "@jupyter-widgets/controls",
          "model_name": "DescriptionStyleModel",
          "model_module_version": "1.5.0",
          "state": {
            "_model_module": "@jupyter-widgets/controls",
            "_model_module_version": "1.5.0",
            "_model_name": "DescriptionStyleModel",
            "_view_count": null,
            "_view_module": "@jupyter-widgets/base",
            "_view_module_version": "1.2.0",
            "_view_name": "StyleView",
            "description_width": ""
          }
        },
        "52ca712baab74e278ce5e2492ac647c0": {
          "model_module": "@jupyter-widgets/controls",
          "model_name": "HBoxModel",
          "model_module_version": "1.5.0",
          "state": {
            "_dom_classes": [],
            "_model_module": "@jupyter-widgets/controls",
            "_model_module_version": "1.5.0",
            "_model_name": "HBoxModel",
            "_view_count": null,
            "_view_module": "@jupyter-widgets/controls",
            "_view_module_version": "1.5.0",
            "_view_name": "HBoxView",
            "box_style": "",
            "children": [
              "IPY_MODEL_ed82276911244ee6a9ab477271771314",
              "IPY_MODEL_536cc2a3965d434abf57e04ad528812a",
              "IPY_MODEL_939f38034382482281cba1b0438a0c5f"
            ],
            "layout": "IPY_MODEL_bb8bc91ecc13405eb2cc5f072bcbd1a1"
          }
        },
        "ed82276911244ee6a9ab477271771314": {
          "model_module": "@jupyter-widgets/controls",
          "model_name": "HTMLModel",
          "model_module_version": "1.5.0",
          "state": {
            "_dom_classes": [],
            "_model_module": "@jupyter-widgets/controls",
            "_model_module_version": "1.5.0",
            "_model_name": "HTMLModel",
            "_view_count": null,
            "_view_module": "@jupyter-widgets/controls",
            "_view_module_version": "1.5.0",
            "_view_name": "HTMLView",
            "description": "",
            "description_tooltip": null,
            "layout": "IPY_MODEL_0d3a3d22b7dc460895112ae0c5a46e16",
            "placeholder": "​",
            "style": "IPY_MODEL_e3c7b13ab00244b183c6006867fc1096",
            "value": "100%"
          }
        },
        "536cc2a3965d434abf57e04ad528812a": {
          "model_module": "@jupyter-widgets/controls",
          "model_name": "FloatProgressModel",
          "model_module_version": "1.5.0",
          "state": {
            "_dom_classes": [],
            "_model_module": "@jupyter-widgets/controls",
            "_model_module_version": "1.5.0",
            "_model_name": "FloatProgressModel",
            "_view_count": null,
            "_view_module": "@jupyter-widgets/controls",
            "_view_module_version": "1.5.0",
            "_view_name": "ProgressView",
            "bar_style": "success",
            "description": "",
            "description_tooltip": null,
            "layout": "IPY_MODEL_bb34420837fa4df19e6c6d12e436c314",
            "max": 3057,
            "min": 0,
            "orientation": "horizontal",
            "style": "IPY_MODEL_0db35fd3fa8f49ca8e3300e9e61cb22a",
            "value": 3057
          }
        },
        "939f38034382482281cba1b0438a0c5f": {
          "model_module": "@jupyter-widgets/controls",
          "model_name": "HTMLModel",
          "model_module_version": "1.5.0",
          "state": {
            "_dom_classes": [],
            "_model_module": "@jupyter-widgets/controls",
            "_model_module_version": "1.5.0",
            "_model_name": "HTMLModel",
            "_view_count": null,
            "_view_module": "@jupyter-widgets/controls",
            "_view_module_version": "1.5.0",
            "_view_name": "HTMLView",
            "description": "",
            "description_tooltip": null,
            "layout": "IPY_MODEL_f15143eec21e479bb0409a4698d0c991",
            "placeholder": "​",
            "style": "IPY_MODEL_ff082c4be5e14ddc9275f004e8313c93",
            "value": " 3057/3057 [07:47&lt;00:00,  7.51it/s]"
          }
        },
        "bb8bc91ecc13405eb2cc5f072bcbd1a1": {
          "model_module": "@jupyter-widgets/base",
          "model_name": "LayoutModel",
          "model_module_version": "1.2.0",
          "state": {
            "_model_module": "@jupyter-widgets/base",
            "_model_module_version": "1.2.0",
            "_model_name": "LayoutModel",
            "_view_count": null,
            "_view_module": "@jupyter-widgets/base",
            "_view_module_version": "1.2.0",
            "_view_name": "LayoutView",
            "align_content": null,
            "align_items": null,
            "align_self": null,
            "border": null,
            "bottom": null,
            "display": null,
            "flex": null,
            "flex_flow": null,
            "grid_area": null,
            "grid_auto_columns": null,
            "grid_auto_flow": null,
            "grid_auto_rows": null,
            "grid_column": null,
            "grid_gap": null,
            "grid_row": null,
            "grid_template_areas": null,
            "grid_template_columns": null,
            "grid_template_rows": null,
            "height": null,
            "justify_content": null,
            "justify_items": null,
            "left": null,
            "margin": null,
            "max_height": null,
            "max_width": null,
            "min_height": null,
            "min_width": null,
            "object_fit": null,
            "object_position": null,
            "order": null,
            "overflow": null,
            "overflow_x": null,
            "overflow_y": null,
            "padding": null,
            "right": null,
            "top": null,
            "visibility": null,
            "width": null
          }
        },
        "0d3a3d22b7dc460895112ae0c5a46e16": {
          "model_module": "@jupyter-widgets/base",
          "model_name": "LayoutModel",
          "model_module_version": "1.2.0",
          "state": {
            "_model_module": "@jupyter-widgets/base",
            "_model_module_version": "1.2.0",
            "_model_name": "LayoutModel",
            "_view_count": null,
            "_view_module": "@jupyter-widgets/base",
            "_view_module_version": "1.2.0",
            "_view_name": "LayoutView",
            "align_content": null,
            "align_items": null,
            "align_self": null,
            "border": null,
            "bottom": null,
            "display": null,
            "flex": null,
            "flex_flow": null,
            "grid_area": null,
            "grid_auto_columns": null,
            "grid_auto_flow": null,
            "grid_auto_rows": null,
            "grid_column": null,
            "grid_gap": null,
            "grid_row": null,
            "grid_template_areas": null,
            "grid_template_columns": null,
            "grid_template_rows": null,
            "height": null,
            "justify_content": null,
            "justify_items": null,
            "left": null,
            "margin": null,
            "max_height": null,
            "max_width": null,
            "min_height": null,
            "min_width": null,
            "object_fit": null,
            "object_position": null,
            "order": null,
            "overflow": null,
            "overflow_x": null,
            "overflow_y": null,
            "padding": null,
            "right": null,
            "top": null,
            "visibility": null,
            "width": null
          }
        },
        "e3c7b13ab00244b183c6006867fc1096": {
          "model_module": "@jupyter-widgets/controls",
          "model_name": "DescriptionStyleModel",
          "model_module_version": "1.5.0",
          "state": {
            "_model_module": "@jupyter-widgets/controls",
            "_model_module_version": "1.5.0",
            "_model_name": "DescriptionStyleModel",
            "_view_count": null,
            "_view_module": "@jupyter-widgets/base",
            "_view_module_version": "1.2.0",
            "_view_name": "StyleView",
            "description_width": ""
          }
        },
        "bb34420837fa4df19e6c6d12e436c314": {
          "model_module": "@jupyter-widgets/base",
          "model_name": "LayoutModel",
          "model_module_version": "1.2.0",
          "state": {
            "_model_module": "@jupyter-widgets/base",
            "_model_module_version": "1.2.0",
            "_model_name": "LayoutModel",
            "_view_count": null,
            "_view_module": "@jupyter-widgets/base",
            "_view_module_version": "1.2.0",
            "_view_name": "LayoutView",
            "align_content": null,
            "align_items": null,
            "align_self": null,
            "border": null,
            "bottom": null,
            "display": null,
            "flex": null,
            "flex_flow": null,
            "grid_area": null,
            "grid_auto_columns": null,
            "grid_auto_flow": null,
            "grid_auto_rows": null,
            "grid_column": null,
            "grid_gap": null,
            "grid_row": null,
            "grid_template_areas": null,
            "grid_template_columns": null,
            "grid_template_rows": null,
            "height": null,
            "justify_content": null,
            "justify_items": null,
            "left": null,
            "margin": null,
            "max_height": null,
            "max_width": null,
            "min_height": null,
            "min_width": null,
            "object_fit": null,
            "object_position": null,
            "order": null,
            "overflow": null,
            "overflow_x": null,
            "overflow_y": null,
            "padding": null,
            "right": null,
            "top": null,
            "visibility": null,
            "width": null
          }
        },
        "0db35fd3fa8f49ca8e3300e9e61cb22a": {
          "model_module": "@jupyter-widgets/controls",
          "model_name": "ProgressStyleModel",
          "model_module_version": "1.5.0",
          "state": {
            "_model_module": "@jupyter-widgets/controls",
            "_model_module_version": "1.5.0",
            "_model_name": "ProgressStyleModel",
            "_view_count": null,
            "_view_module": "@jupyter-widgets/base",
            "_view_module_version": "1.2.0",
            "_view_name": "StyleView",
            "bar_color": null,
            "description_width": ""
          }
        },
        "f15143eec21e479bb0409a4698d0c991": {
          "model_module": "@jupyter-widgets/base",
          "model_name": "LayoutModel",
          "model_module_version": "1.2.0",
          "state": {
            "_model_module": "@jupyter-widgets/base",
            "_model_module_version": "1.2.0",
            "_model_name": "LayoutModel",
            "_view_count": null,
            "_view_module": "@jupyter-widgets/base",
            "_view_module_version": "1.2.0",
            "_view_name": "LayoutView",
            "align_content": null,
            "align_items": null,
            "align_self": null,
            "border": null,
            "bottom": null,
            "display": null,
            "flex": null,
            "flex_flow": null,
            "grid_area": null,
            "grid_auto_columns": null,
            "grid_auto_flow": null,
            "grid_auto_rows": null,
            "grid_column": null,
            "grid_gap": null,
            "grid_row": null,
            "grid_template_areas": null,
            "grid_template_columns": null,
            "grid_template_rows": null,
            "height": null,
            "justify_content": null,
            "justify_items": null,
            "left": null,
            "margin": null,
            "max_height": null,
            "max_width": null,
            "min_height": null,
            "min_width": null,
            "object_fit": null,
            "object_position": null,
            "order": null,
            "overflow": null,
            "overflow_x": null,
            "overflow_y": null,
            "padding": null,
            "right": null,
            "top": null,
            "visibility": null,
            "width": null
          }
        },
        "ff082c4be5e14ddc9275f004e8313c93": {
          "model_module": "@jupyter-widgets/controls",
          "model_name": "DescriptionStyleModel",
          "model_module_version": "1.5.0",
          "state": {
            "_model_module": "@jupyter-widgets/controls",
            "_model_module_version": "1.5.0",
            "_model_name": "DescriptionStyleModel",
            "_view_count": null,
            "_view_module": "@jupyter-widgets/base",
            "_view_module_version": "1.2.0",
            "_view_name": "StyleView",
            "description_width": ""
          }
        },
        "f6a5adb74b95453f83cbb20150fcb11f": {
          "model_module": "@jupyter-widgets/controls",
          "model_name": "HBoxModel",
          "model_module_version": "1.5.0",
          "state": {
            "_dom_classes": [],
            "_model_module": "@jupyter-widgets/controls",
            "_model_module_version": "1.5.0",
            "_model_name": "HBoxModel",
            "_view_count": null,
            "_view_module": "@jupyter-widgets/controls",
            "_view_module_version": "1.5.0",
            "_view_name": "HBoxView",
            "box_style": "",
            "children": [
              "IPY_MODEL_ca2d43bfe5f2469dbf864dd54a5bbcd9",
              "IPY_MODEL_0dff9630649648b2ab924e7efb39b655",
              "IPY_MODEL_c061a396cf04417f80e5a553db602f51"
            ],
            "layout": "IPY_MODEL_26f2e5a5e71d4bcf9355fff415bed0d9"
          }
        },
        "ca2d43bfe5f2469dbf864dd54a5bbcd9": {
          "model_module": "@jupyter-widgets/controls",
          "model_name": "HTMLModel",
          "model_module_version": "1.5.0",
          "state": {
            "_dom_classes": [],
            "_model_module": "@jupyter-widgets/controls",
            "_model_module_version": "1.5.0",
            "_model_name": "HTMLModel",
            "_view_count": null,
            "_view_module": "@jupyter-widgets/controls",
            "_view_module_version": "1.5.0",
            "_view_name": "HTMLView",
            "description": "",
            "description_tooltip": null,
            "layout": "IPY_MODEL_a32cf3f0785f4ab8bc35458a6c77f888",
            "placeholder": "​",
            "style": "IPY_MODEL_82e9a5faf9754ca687b7d7c54b192b50",
            "value": "100%"
          }
        },
        "0dff9630649648b2ab924e7efb39b655": {
          "model_module": "@jupyter-widgets/controls",
          "model_name": "FloatProgressModel",
          "model_module_version": "1.5.0",
          "state": {
            "_dom_classes": [],
            "_model_module": "@jupyter-widgets/controls",
            "_model_module_version": "1.5.0",
            "_model_name": "FloatProgressModel",
            "_view_count": null,
            "_view_module": "@jupyter-widgets/controls",
            "_view_module_version": "1.5.0",
            "_view_name": "ProgressView",
            "bar_style": "success",
            "description": "",
            "description_tooltip": null,
            "layout": "IPY_MODEL_f4e02da88d404ccfbb11314ee7ec3f3b",
            "max": 500,
            "min": 0,
            "orientation": "horizontal",
            "style": "IPY_MODEL_ba63dbc03fba4c908cbb512a6bf28f5d",
            "value": 500
          }
        },
        "c061a396cf04417f80e5a553db602f51": {
          "model_module": "@jupyter-widgets/controls",
          "model_name": "HTMLModel",
          "model_module_version": "1.5.0",
          "state": {
            "_dom_classes": [],
            "_model_module": "@jupyter-widgets/controls",
            "_model_module_version": "1.5.0",
            "_model_name": "HTMLModel",
            "_view_count": null,
            "_view_module": "@jupyter-widgets/controls",
            "_view_module_version": "1.5.0",
            "_view_name": "HTMLView",
            "description": "",
            "description_tooltip": null,
            "layout": "IPY_MODEL_7a48accd7a9443938f3a46770d9c73ff",
            "placeholder": "​",
            "style": "IPY_MODEL_8fca4d31c7dc4744ba13350760edafa7",
            "value": " 500/500 [03:23&lt;00:00,  2.16it/s]"
          }
        },
        "26f2e5a5e71d4bcf9355fff415bed0d9": {
          "model_module": "@jupyter-widgets/base",
          "model_name": "LayoutModel",
          "model_module_version": "1.2.0",
          "state": {
            "_model_module": "@jupyter-widgets/base",
            "_model_module_version": "1.2.0",
            "_model_name": "LayoutModel",
            "_view_count": null,
            "_view_module": "@jupyter-widgets/base",
            "_view_module_version": "1.2.0",
            "_view_name": "LayoutView",
            "align_content": null,
            "align_items": null,
            "align_self": null,
            "border": null,
            "bottom": null,
            "display": null,
            "flex": null,
            "flex_flow": null,
            "grid_area": null,
            "grid_auto_columns": null,
            "grid_auto_flow": null,
            "grid_auto_rows": null,
            "grid_column": null,
            "grid_gap": null,
            "grid_row": null,
            "grid_template_areas": null,
            "grid_template_columns": null,
            "grid_template_rows": null,
            "height": null,
            "justify_content": null,
            "justify_items": null,
            "left": null,
            "margin": null,
            "max_height": null,
            "max_width": null,
            "min_height": null,
            "min_width": null,
            "object_fit": null,
            "object_position": null,
            "order": null,
            "overflow": null,
            "overflow_x": null,
            "overflow_y": null,
            "padding": null,
            "right": null,
            "top": null,
            "visibility": null,
            "width": null
          }
        },
        "a32cf3f0785f4ab8bc35458a6c77f888": {
          "model_module": "@jupyter-widgets/base",
          "model_name": "LayoutModel",
          "model_module_version": "1.2.0",
          "state": {
            "_model_module": "@jupyter-widgets/base",
            "_model_module_version": "1.2.0",
            "_model_name": "LayoutModel",
            "_view_count": null,
            "_view_module": "@jupyter-widgets/base",
            "_view_module_version": "1.2.0",
            "_view_name": "LayoutView",
            "align_content": null,
            "align_items": null,
            "align_self": null,
            "border": null,
            "bottom": null,
            "display": null,
            "flex": null,
            "flex_flow": null,
            "grid_area": null,
            "grid_auto_columns": null,
            "grid_auto_flow": null,
            "grid_auto_rows": null,
            "grid_column": null,
            "grid_gap": null,
            "grid_row": null,
            "grid_template_areas": null,
            "grid_template_columns": null,
            "grid_template_rows": null,
            "height": null,
            "justify_content": null,
            "justify_items": null,
            "left": null,
            "margin": null,
            "max_height": null,
            "max_width": null,
            "min_height": null,
            "min_width": null,
            "object_fit": null,
            "object_position": null,
            "order": null,
            "overflow": null,
            "overflow_x": null,
            "overflow_y": null,
            "padding": null,
            "right": null,
            "top": null,
            "visibility": null,
            "width": null
          }
        },
        "82e9a5faf9754ca687b7d7c54b192b50": {
          "model_module": "@jupyter-widgets/controls",
          "model_name": "DescriptionStyleModel",
          "model_module_version": "1.5.0",
          "state": {
            "_model_module": "@jupyter-widgets/controls",
            "_model_module_version": "1.5.0",
            "_model_name": "DescriptionStyleModel",
            "_view_count": null,
            "_view_module": "@jupyter-widgets/base",
            "_view_module_version": "1.2.0",
            "_view_name": "StyleView",
            "description_width": ""
          }
        },
        "f4e02da88d404ccfbb11314ee7ec3f3b": {
          "model_module": "@jupyter-widgets/base",
          "model_name": "LayoutModel",
          "model_module_version": "1.2.0",
          "state": {
            "_model_module": "@jupyter-widgets/base",
            "_model_module_version": "1.2.0",
            "_model_name": "LayoutModel",
            "_view_count": null,
            "_view_module": "@jupyter-widgets/base",
            "_view_module_version": "1.2.0",
            "_view_name": "LayoutView",
            "align_content": null,
            "align_items": null,
            "align_self": null,
            "border": null,
            "bottom": null,
            "display": null,
            "flex": null,
            "flex_flow": null,
            "grid_area": null,
            "grid_auto_columns": null,
            "grid_auto_flow": null,
            "grid_auto_rows": null,
            "grid_column": null,
            "grid_gap": null,
            "grid_row": null,
            "grid_template_areas": null,
            "grid_template_columns": null,
            "grid_template_rows": null,
            "height": null,
            "justify_content": null,
            "justify_items": null,
            "left": null,
            "margin": null,
            "max_height": null,
            "max_width": null,
            "min_height": null,
            "min_width": null,
            "object_fit": null,
            "object_position": null,
            "order": null,
            "overflow": null,
            "overflow_x": null,
            "overflow_y": null,
            "padding": null,
            "right": null,
            "top": null,
            "visibility": null,
            "width": null
          }
        },
        "ba63dbc03fba4c908cbb512a6bf28f5d": {
          "model_module": "@jupyter-widgets/controls",
          "model_name": "ProgressStyleModel",
          "model_module_version": "1.5.0",
          "state": {
            "_model_module": "@jupyter-widgets/controls",
            "_model_module_version": "1.5.0",
            "_model_name": "ProgressStyleModel",
            "_view_count": null,
            "_view_module": "@jupyter-widgets/base",
            "_view_module_version": "1.2.0",
            "_view_name": "StyleView",
            "bar_color": null,
            "description_width": ""
          }
        },
        "7a48accd7a9443938f3a46770d9c73ff": {
          "model_module": "@jupyter-widgets/base",
          "model_name": "LayoutModel",
          "model_module_version": "1.2.0",
          "state": {
            "_model_module": "@jupyter-widgets/base",
            "_model_module_version": "1.2.0",
            "_model_name": "LayoutModel",
            "_view_count": null,
            "_view_module": "@jupyter-widgets/base",
            "_view_module_version": "1.2.0",
            "_view_name": "LayoutView",
            "align_content": null,
            "align_items": null,
            "align_self": null,
            "border": null,
            "bottom": null,
            "display": null,
            "flex": null,
            "flex_flow": null,
            "grid_area": null,
            "grid_auto_columns": null,
            "grid_auto_flow": null,
            "grid_auto_rows": null,
            "grid_column": null,
            "grid_gap": null,
            "grid_row": null,
            "grid_template_areas": null,
            "grid_template_columns": null,
            "grid_template_rows": null,
            "height": null,
            "justify_content": null,
            "justify_items": null,
            "left": null,
            "margin": null,
            "max_height": null,
            "max_width": null,
            "min_height": null,
            "min_width": null,
            "object_fit": null,
            "object_position": null,
            "order": null,
            "overflow": null,
            "overflow_x": null,
            "overflow_y": null,
            "padding": null,
            "right": null,
            "top": null,
            "visibility": null,
            "width": null
          }
        },
        "8fca4d31c7dc4744ba13350760edafa7": {
          "model_module": "@jupyter-widgets/controls",
          "model_name": "DescriptionStyleModel",
          "model_module_version": "1.5.0",
          "state": {
            "_model_module": "@jupyter-widgets/controls",
            "_model_module_version": "1.5.0",
            "_model_name": "DescriptionStyleModel",
            "_view_count": null,
            "_view_module": "@jupyter-widgets/base",
            "_view_module_version": "1.2.0",
            "_view_name": "StyleView",
            "description_width": ""
          }
        },
        "d6738c14d20f45d2a5b039b3af93f5a5": {
          "model_module": "@jupyter-widgets/controls",
          "model_name": "HBoxModel",
          "model_module_version": "1.5.0",
          "state": {
            "_dom_classes": [],
            "_model_module": "@jupyter-widgets/controls",
            "_model_module_version": "1.5.0",
            "_model_name": "HBoxModel",
            "_view_count": null,
            "_view_module": "@jupyter-widgets/controls",
            "_view_module_version": "1.5.0",
            "_view_name": "HBoxView",
            "box_style": "",
            "children": [
              "IPY_MODEL_dea77cd0a6964865b73919a63b8f3b11",
              "IPY_MODEL_572d24e328dd43ccaab36b36e4a31402",
              "IPY_MODEL_226fca7c8478410f8c3f10dd7911e19d"
            ],
            "layout": "IPY_MODEL_950d7d3eca5444d5967f864c2a48cca8"
          }
        },
        "dea77cd0a6964865b73919a63b8f3b11": {
          "model_module": "@jupyter-widgets/controls",
          "model_name": "HTMLModel",
          "model_module_version": "1.5.0",
          "state": {
            "_dom_classes": [],
            "_model_module": "@jupyter-widgets/controls",
            "_model_module_version": "1.5.0",
            "_model_name": "HTMLModel",
            "_view_count": null,
            "_view_module": "@jupyter-widgets/controls",
            "_view_module_version": "1.5.0",
            "_view_name": "HTMLView",
            "description": "",
            "description_tooltip": null,
            "layout": "IPY_MODEL_52a72ae1ad684f929faf53368e87b41e",
            "placeholder": "​",
            "style": "IPY_MODEL_cb85bea14121481095b8fbac0d1182d4",
            "value": "100%"
          }
        },
        "572d24e328dd43ccaab36b36e4a31402": {
          "model_module": "@jupyter-widgets/controls",
          "model_name": "FloatProgressModel",
          "model_module_version": "1.5.0",
          "state": {
            "_dom_classes": [],
            "_model_module": "@jupyter-widgets/controls",
            "_model_module_version": "1.5.0",
            "_model_name": "FloatProgressModel",
            "_view_count": null,
            "_view_module": "@jupyter-widgets/controls",
            "_view_module_version": "1.5.0",
            "_view_name": "ProgressView",
            "bar_style": "success",
            "description": "",
            "description_tooltip": null,
            "layout": "IPY_MODEL_d457cb9df74142b6973803858c4ee9db",
            "max": 500,
            "min": 0,
            "orientation": "horizontal",
            "style": "IPY_MODEL_da2fa9483b1d4e56954dae1747561420",
            "value": 500
          }
        },
        "226fca7c8478410f8c3f10dd7911e19d": {
          "model_module": "@jupyter-widgets/controls",
          "model_name": "HTMLModel",
          "model_module_version": "1.5.0",
          "state": {
            "_dom_classes": [],
            "_model_module": "@jupyter-widgets/controls",
            "_model_module_version": "1.5.0",
            "_model_name": "HTMLModel",
            "_view_count": null,
            "_view_module": "@jupyter-widgets/controls",
            "_view_module_version": "1.5.0",
            "_view_name": "HTMLView",
            "description": "",
            "description_tooltip": null,
            "layout": "IPY_MODEL_3cf02d76ac1a4e649ec0d45c7dd5ea84",
            "placeholder": "​",
            "style": "IPY_MODEL_a74d3f85a27745508ea078bc0ab4b074",
            "value": " 500/500 [03:48&lt;00:00,  2.28it/s]"
          }
        },
        "950d7d3eca5444d5967f864c2a48cca8": {
          "model_module": "@jupyter-widgets/base",
          "model_name": "LayoutModel",
          "model_module_version": "1.2.0",
          "state": {
            "_model_module": "@jupyter-widgets/base",
            "_model_module_version": "1.2.0",
            "_model_name": "LayoutModel",
            "_view_count": null,
            "_view_module": "@jupyter-widgets/base",
            "_view_module_version": "1.2.0",
            "_view_name": "LayoutView",
            "align_content": null,
            "align_items": null,
            "align_self": null,
            "border": null,
            "bottom": null,
            "display": null,
            "flex": null,
            "flex_flow": null,
            "grid_area": null,
            "grid_auto_columns": null,
            "grid_auto_flow": null,
            "grid_auto_rows": null,
            "grid_column": null,
            "grid_gap": null,
            "grid_row": null,
            "grid_template_areas": null,
            "grid_template_columns": null,
            "grid_template_rows": null,
            "height": null,
            "justify_content": null,
            "justify_items": null,
            "left": null,
            "margin": null,
            "max_height": null,
            "max_width": null,
            "min_height": null,
            "min_width": null,
            "object_fit": null,
            "object_position": null,
            "order": null,
            "overflow": null,
            "overflow_x": null,
            "overflow_y": null,
            "padding": null,
            "right": null,
            "top": null,
            "visibility": null,
            "width": null
          }
        },
        "52a72ae1ad684f929faf53368e87b41e": {
          "model_module": "@jupyter-widgets/base",
          "model_name": "LayoutModel",
          "model_module_version": "1.2.0",
          "state": {
            "_model_module": "@jupyter-widgets/base",
            "_model_module_version": "1.2.0",
            "_model_name": "LayoutModel",
            "_view_count": null,
            "_view_module": "@jupyter-widgets/base",
            "_view_module_version": "1.2.0",
            "_view_name": "LayoutView",
            "align_content": null,
            "align_items": null,
            "align_self": null,
            "border": null,
            "bottom": null,
            "display": null,
            "flex": null,
            "flex_flow": null,
            "grid_area": null,
            "grid_auto_columns": null,
            "grid_auto_flow": null,
            "grid_auto_rows": null,
            "grid_column": null,
            "grid_gap": null,
            "grid_row": null,
            "grid_template_areas": null,
            "grid_template_columns": null,
            "grid_template_rows": null,
            "height": null,
            "justify_content": null,
            "justify_items": null,
            "left": null,
            "margin": null,
            "max_height": null,
            "max_width": null,
            "min_height": null,
            "min_width": null,
            "object_fit": null,
            "object_position": null,
            "order": null,
            "overflow": null,
            "overflow_x": null,
            "overflow_y": null,
            "padding": null,
            "right": null,
            "top": null,
            "visibility": null,
            "width": null
          }
        },
        "cb85bea14121481095b8fbac0d1182d4": {
          "model_module": "@jupyter-widgets/controls",
          "model_name": "DescriptionStyleModel",
          "model_module_version": "1.5.0",
          "state": {
            "_model_module": "@jupyter-widgets/controls",
            "_model_module_version": "1.5.0",
            "_model_name": "DescriptionStyleModel",
            "_view_count": null,
            "_view_module": "@jupyter-widgets/base",
            "_view_module_version": "1.2.0",
            "_view_name": "StyleView",
            "description_width": ""
          }
        },
        "d457cb9df74142b6973803858c4ee9db": {
          "model_module": "@jupyter-widgets/base",
          "model_name": "LayoutModel",
          "model_module_version": "1.2.0",
          "state": {
            "_model_module": "@jupyter-widgets/base",
            "_model_module_version": "1.2.0",
            "_model_name": "LayoutModel",
            "_view_count": null,
            "_view_module": "@jupyter-widgets/base",
            "_view_module_version": "1.2.0",
            "_view_name": "LayoutView",
            "align_content": null,
            "align_items": null,
            "align_self": null,
            "border": null,
            "bottom": null,
            "display": null,
            "flex": null,
            "flex_flow": null,
            "grid_area": null,
            "grid_auto_columns": null,
            "grid_auto_flow": null,
            "grid_auto_rows": null,
            "grid_column": null,
            "grid_gap": null,
            "grid_row": null,
            "grid_template_areas": null,
            "grid_template_columns": null,
            "grid_template_rows": null,
            "height": null,
            "justify_content": null,
            "justify_items": null,
            "left": null,
            "margin": null,
            "max_height": null,
            "max_width": null,
            "min_height": null,
            "min_width": null,
            "object_fit": null,
            "object_position": null,
            "order": null,
            "overflow": null,
            "overflow_x": null,
            "overflow_y": null,
            "padding": null,
            "right": null,
            "top": null,
            "visibility": null,
            "width": null
          }
        },
        "da2fa9483b1d4e56954dae1747561420": {
          "model_module": "@jupyter-widgets/controls",
          "model_name": "ProgressStyleModel",
          "model_module_version": "1.5.0",
          "state": {
            "_model_module": "@jupyter-widgets/controls",
            "_model_module_version": "1.5.0",
            "_model_name": "ProgressStyleModel",
            "_view_count": null,
            "_view_module": "@jupyter-widgets/base",
            "_view_module_version": "1.2.0",
            "_view_name": "StyleView",
            "bar_color": null,
            "description_width": ""
          }
        },
        "3cf02d76ac1a4e649ec0d45c7dd5ea84": {
          "model_module": "@jupyter-widgets/base",
          "model_name": "LayoutModel",
          "model_module_version": "1.2.0",
          "state": {
            "_model_module": "@jupyter-widgets/base",
            "_model_module_version": "1.2.0",
            "_model_name": "LayoutModel",
            "_view_count": null,
            "_view_module": "@jupyter-widgets/base",
            "_view_module_version": "1.2.0",
            "_view_name": "LayoutView",
            "align_content": null,
            "align_items": null,
            "align_self": null,
            "border": null,
            "bottom": null,
            "display": null,
            "flex": null,
            "flex_flow": null,
            "grid_area": null,
            "grid_auto_columns": null,
            "grid_auto_flow": null,
            "grid_auto_rows": null,
            "grid_column": null,
            "grid_gap": null,
            "grid_row": null,
            "grid_template_areas": null,
            "grid_template_columns": null,
            "grid_template_rows": null,
            "height": null,
            "justify_content": null,
            "justify_items": null,
            "left": null,
            "margin": null,
            "max_height": null,
            "max_width": null,
            "min_height": null,
            "min_width": null,
            "object_fit": null,
            "object_position": null,
            "order": null,
            "overflow": null,
            "overflow_x": null,
            "overflow_y": null,
            "padding": null,
            "right": null,
            "top": null,
            "visibility": null,
            "width": null
          }
        },
        "a74d3f85a27745508ea078bc0ab4b074": {
          "model_module": "@jupyter-widgets/controls",
          "model_name": "DescriptionStyleModel",
          "model_module_version": "1.5.0",
          "state": {
            "_model_module": "@jupyter-widgets/controls",
            "_model_module_version": "1.5.0",
            "_model_name": "DescriptionStyleModel",
            "_view_count": null,
            "_view_module": "@jupyter-widgets/base",
            "_view_module_version": "1.2.0",
            "_view_name": "StyleView",
            "description_width": ""
          }
        },
        "1b2f769772db4cc0af976eba23f8cd01": {
          "model_module": "@jupyter-widgets/controls",
          "model_name": "HBoxModel",
          "model_module_version": "1.5.0",
          "state": {
            "_dom_classes": [],
            "_model_module": "@jupyter-widgets/controls",
            "_model_module_version": "1.5.0",
            "_model_name": "HBoxModel",
            "_view_count": null,
            "_view_module": "@jupyter-widgets/controls",
            "_view_module_version": "1.5.0",
            "_view_name": "HBoxView",
            "box_style": "",
            "children": [
              "IPY_MODEL_66e26b07cadd46c38d7050b2f84553e7",
              "IPY_MODEL_15ad94941367401981310256188b45ba",
              "IPY_MODEL_bcd4648c3c51416a884e7e2f4451e133"
            ],
            "layout": "IPY_MODEL_6c983791c05346cd897fb6f4e83b0d6e"
          }
        },
        "66e26b07cadd46c38d7050b2f84553e7": {
          "model_module": "@jupyter-widgets/controls",
          "model_name": "HTMLModel",
          "model_module_version": "1.5.0",
          "state": {
            "_dom_classes": [],
            "_model_module": "@jupyter-widgets/controls",
            "_model_module_version": "1.5.0",
            "_model_name": "HTMLModel",
            "_view_count": null,
            "_view_module": "@jupyter-widgets/controls",
            "_view_module_version": "1.5.0",
            "_view_name": "HTMLView",
            "description": "",
            "description_tooltip": null,
            "layout": "IPY_MODEL_66f963a14cee49b1884c01ccd2222e29",
            "placeholder": "​",
            "style": "IPY_MODEL_60610604730843d8a8cc6d1c35dd8cb1",
            "value": "100%"
          }
        },
        "15ad94941367401981310256188b45ba": {
          "model_module": "@jupyter-widgets/controls",
          "model_name": "FloatProgressModel",
          "model_module_version": "1.5.0",
          "state": {
            "_dom_classes": [],
            "_model_module": "@jupyter-widgets/controls",
            "_model_module_version": "1.5.0",
            "_model_name": "FloatProgressModel",
            "_view_count": null,
            "_view_module": "@jupyter-widgets/controls",
            "_view_module_version": "1.5.0",
            "_view_name": "ProgressView",
            "bar_style": "success",
            "description": "",
            "description_tooltip": null,
            "layout": "IPY_MODEL_87de61b96679431d8ca399f568dc0b9a",
            "max": 500,
            "min": 0,
            "orientation": "horizontal",
            "style": "IPY_MODEL_d4ff295135334fc79ad23568c31ce97f",
            "value": 500
          }
        },
        "bcd4648c3c51416a884e7e2f4451e133": {
          "model_module": "@jupyter-widgets/controls",
          "model_name": "HTMLModel",
          "model_module_version": "1.5.0",
          "state": {
            "_dom_classes": [],
            "_model_module": "@jupyter-widgets/controls",
            "_model_module_version": "1.5.0",
            "_model_name": "HTMLModel",
            "_view_count": null,
            "_view_module": "@jupyter-widgets/controls",
            "_view_module_version": "1.5.0",
            "_view_name": "HTMLView",
            "description": "",
            "description_tooltip": null,
            "layout": "IPY_MODEL_f33a3f4a3d0248d687072819e8550cf9",
            "placeholder": "​",
            "style": "IPY_MODEL_60bf23da31d6488bb6a5cc67e028e29c",
            "value": " 500/500 [04:07&lt;00:00,  2.11it/s]"
          }
        },
        "6c983791c05346cd897fb6f4e83b0d6e": {
          "model_module": "@jupyter-widgets/base",
          "model_name": "LayoutModel",
          "model_module_version": "1.2.0",
          "state": {
            "_model_module": "@jupyter-widgets/base",
            "_model_module_version": "1.2.0",
            "_model_name": "LayoutModel",
            "_view_count": null,
            "_view_module": "@jupyter-widgets/base",
            "_view_module_version": "1.2.0",
            "_view_name": "LayoutView",
            "align_content": null,
            "align_items": null,
            "align_self": null,
            "border": null,
            "bottom": null,
            "display": null,
            "flex": null,
            "flex_flow": null,
            "grid_area": null,
            "grid_auto_columns": null,
            "grid_auto_flow": null,
            "grid_auto_rows": null,
            "grid_column": null,
            "grid_gap": null,
            "grid_row": null,
            "grid_template_areas": null,
            "grid_template_columns": null,
            "grid_template_rows": null,
            "height": null,
            "justify_content": null,
            "justify_items": null,
            "left": null,
            "margin": null,
            "max_height": null,
            "max_width": null,
            "min_height": null,
            "min_width": null,
            "object_fit": null,
            "object_position": null,
            "order": null,
            "overflow": null,
            "overflow_x": null,
            "overflow_y": null,
            "padding": null,
            "right": null,
            "top": null,
            "visibility": null,
            "width": null
          }
        },
        "66f963a14cee49b1884c01ccd2222e29": {
          "model_module": "@jupyter-widgets/base",
          "model_name": "LayoutModel",
          "model_module_version": "1.2.0",
          "state": {
            "_model_module": "@jupyter-widgets/base",
            "_model_module_version": "1.2.0",
            "_model_name": "LayoutModel",
            "_view_count": null,
            "_view_module": "@jupyter-widgets/base",
            "_view_module_version": "1.2.0",
            "_view_name": "LayoutView",
            "align_content": null,
            "align_items": null,
            "align_self": null,
            "border": null,
            "bottom": null,
            "display": null,
            "flex": null,
            "flex_flow": null,
            "grid_area": null,
            "grid_auto_columns": null,
            "grid_auto_flow": null,
            "grid_auto_rows": null,
            "grid_column": null,
            "grid_gap": null,
            "grid_row": null,
            "grid_template_areas": null,
            "grid_template_columns": null,
            "grid_template_rows": null,
            "height": null,
            "justify_content": null,
            "justify_items": null,
            "left": null,
            "margin": null,
            "max_height": null,
            "max_width": null,
            "min_height": null,
            "min_width": null,
            "object_fit": null,
            "object_position": null,
            "order": null,
            "overflow": null,
            "overflow_x": null,
            "overflow_y": null,
            "padding": null,
            "right": null,
            "top": null,
            "visibility": null,
            "width": null
          }
        },
        "60610604730843d8a8cc6d1c35dd8cb1": {
          "model_module": "@jupyter-widgets/controls",
          "model_name": "DescriptionStyleModel",
          "model_module_version": "1.5.0",
          "state": {
            "_model_module": "@jupyter-widgets/controls",
            "_model_module_version": "1.5.0",
            "_model_name": "DescriptionStyleModel",
            "_view_count": null,
            "_view_module": "@jupyter-widgets/base",
            "_view_module_version": "1.2.0",
            "_view_name": "StyleView",
            "description_width": ""
          }
        },
        "87de61b96679431d8ca399f568dc0b9a": {
          "model_module": "@jupyter-widgets/base",
          "model_name": "LayoutModel",
          "model_module_version": "1.2.0",
          "state": {
            "_model_module": "@jupyter-widgets/base",
            "_model_module_version": "1.2.0",
            "_model_name": "LayoutModel",
            "_view_count": null,
            "_view_module": "@jupyter-widgets/base",
            "_view_module_version": "1.2.0",
            "_view_name": "LayoutView",
            "align_content": null,
            "align_items": null,
            "align_self": null,
            "border": null,
            "bottom": null,
            "display": null,
            "flex": null,
            "flex_flow": null,
            "grid_area": null,
            "grid_auto_columns": null,
            "grid_auto_flow": null,
            "grid_auto_rows": null,
            "grid_column": null,
            "grid_gap": null,
            "grid_row": null,
            "grid_template_areas": null,
            "grid_template_columns": null,
            "grid_template_rows": null,
            "height": null,
            "justify_content": null,
            "justify_items": null,
            "left": null,
            "margin": null,
            "max_height": null,
            "max_width": null,
            "min_height": null,
            "min_width": null,
            "object_fit": null,
            "object_position": null,
            "order": null,
            "overflow": null,
            "overflow_x": null,
            "overflow_y": null,
            "padding": null,
            "right": null,
            "top": null,
            "visibility": null,
            "width": null
          }
        },
        "d4ff295135334fc79ad23568c31ce97f": {
          "model_module": "@jupyter-widgets/controls",
          "model_name": "ProgressStyleModel",
          "model_module_version": "1.5.0",
          "state": {
            "_model_module": "@jupyter-widgets/controls",
            "_model_module_version": "1.5.0",
            "_model_name": "ProgressStyleModel",
            "_view_count": null,
            "_view_module": "@jupyter-widgets/base",
            "_view_module_version": "1.2.0",
            "_view_name": "StyleView",
            "bar_color": null,
            "description_width": ""
          }
        },
        "f33a3f4a3d0248d687072819e8550cf9": {
          "model_module": "@jupyter-widgets/base",
          "model_name": "LayoutModel",
          "model_module_version": "1.2.0",
          "state": {
            "_model_module": "@jupyter-widgets/base",
            "_model_module_version": "1.2.0",
            "_model_name": "LayoutModel",
            "_view_count": null,
            "_view_module": "@jupyter-widgets/base",
            "_view_module_version": "1.2.0",
            "_view_name": "LayoutView",
            "align_content": null,
            "align_items": null,
            "align_self": null,
            "border": null,
            "bottom": null,
            "display": null,
            "flex": null,
            "flex_flow": null,
            "grid_area": null,
            "grid_auto_columns": null,
            "grid_auto_flow": null,
            "grid_auto_rows": null,
            "grid_column": null,
            "grid_gap": null,
            "grid_row": null,
            "grid_template_areas": null,
            "grid_template_columns": null,
            "grid_template_rows": null,
            "height": null,
            "justify_content": null,
            "justify_items": null,
            "left": null,
            "margin": null,
            "max_height": null,
            "max_width": null,
            "min_height": null,
            "min_width": null,
            "object_fit": null,
            "object_position": null,
            "order": null,
            "overflow": null,
            "overflow_x": null,
            "overflow_y": null,
            "padding": null,
            "right": null,
            "top": null,
            "visibility": null,
            "width": null
          }
        },
        "60bf23da31d6488bb6a5cc67e028e29c": {
          "model_module": "@jupyter-widgets/controls",
          "model_name": "DescriptionStyleModel",
          "model_module_version": "1.5.0",
          "state": {
            "_model_module": "@jupyter-widgets/controls",
            "_model_module_version": "1.5.0",
            "_model_name": "DescriptionStyleModel",
            "_view_count": null,
            "_view_module": "@jupyter-widgets/base",
            "_view_module_version": "1.2.0",
            "_view_name": "StyleView",
            "description_width": ""
          }
        },
        "bd533afeea8c47c29a046f1702e6c02e": {
          "model_module": "@jupyter-widgets/controls",
          "model_name": "HBoxModel",
          "model_module_version": "1.5.0",
          "state": {
            "_dom_classes": [],
            "_model_module": "@jupyter-widgets/controls",
            "_model_module_version": "1.5.0",
            "_model_name": "HBoxModel",
            "_view_count": null,
            "_view_module": "@jupyter-widgets/controls",
            "_view_module_version": "1.5.0",
            "_view_name": "HBoxView",
            "box_style": "",
            "children": [
              "IPY_MODEL_9d71b732e82b432bb6ba03b47630c692",
              "IPY_MODEL_00e4650ff1574b54b08b7466716f4c97",
              "IPY_MODEL_ca5ed48f32ec4a18a2b55e1cbdddd05b"
            ],
            "layout": "IPY_MODEL_9d7bf15b5a7940089fe73b284b3de576"
          }
        },
        "9d71b732e82b432bb6ba03b47630c692": {
          "model_module": "@jupyter-widgets/controls",
          "model_name": "HTMLModel",
          "model_module_version": "1.5.0",
          "state": {
            "_dom_classes": [],
            "_model_module": "@jupyter-widgets/controls",
            "_model_module_version": "1.5.0",
            "_model_name": "HTMLModel",
            "_view_count": null,
            "_view_module": "@jupyter-widgets/controls",
            "_view_module_version": "1.5.0",
            "_view_name": "HTMLView",
            "description": "",
            "description_tooltip": null,
            "layout": "IPY_MODEL_f36ec294b40a4f5a9d3cb72e86a873fb",
            "placeholder": "​",
            "style": "IPY_MODEL_c60c6d66dc444f6d9acbc6b2def59b79",
            "value": "100%"
          }
        },
        "00e4650ff1574b54b08b7466716f4c97": {
          "model_module": "@jupyter-widgets/controls",
          "model_name": "FloatProgressModel",
          "model_module_version": "1.5.0",
          "state": {
            "_dom_classes": [],
            "_model_module": "@jupyter-widgets/controls",
            "_model_module_version": "1.5.0",
            "_model_name": "FloatProgressModel",
            "_view_count": null,
            "_view_module": "@jupyter-widgets/controls",
            "_view_module_version": "1.5.0",
            "_view_name": "ProgressView",
            "bar_style": "success",
            "description": "",
            "description_tooltip": null,
            "layout": "IPY_MODEL_bf61c5ef20e24c5a9d8d6c091388f539",
            "max": 500,
            "min": 0,
            "orientation": "horizontal",
            "style": "IPY_MODEL_42615e36682849b7b9ccaf897960a4d7",
            "value": 500
          }
        },
        "ca5ed48f32ec4a18a2b55e1cbdddd05b": {
          "model_module": "@jupyter-widgets/controls",
          "model_name": "HTMLModel",
          "model_module_version": "1.5.0",
          "state": {
            "_dom_classes": [],
            "_model_module": "@jupyter-widgets/controls",
            "_model_module_version": "1.5.0",
            "_model_name": "HTMLModel",
            "_view_count": null,
            "_view_module": "@jupyter-widgets/controls",
            "_view_module_version": "1.5.0",
            "_view_name": "HTMLView",
            "description": "",
            "description_tooltip": null,
            "layout": "IPY_MODEL_6d6fae738f1e4bf589067db34f274312",
            "placeholder": "​",
            "style": "IPY_MODEL_8561b15d27a146d4ade491a25ef4fb88",
            "value": " 500/500 [02:59&lt;00:00,  2.47it/s]"
          }
        },
        "9d7bf15b5a7940089fe73b284b3de576": {
          "model_module": "@jupyter-widgets/base",
          "model_name": "LayoutModel",
          "model_module_version": "1.2.0",
          "state": {
            "_model_module": "@jupyter-widgets/base",
            "_model_module_version": "1.2.0",
            "_model_name": "LayoutModel",
            "_view_count": null,
            "_view_module": "@jupyter-widgets/base",
            "_view_module_version": "1.2.0",
            "_view_name": "LayoutView",
            "align_content": null,
            "align_items": null,
            "align_self": null,
            "border": null,
            "bottom": null,
            "display": null,
            "flex": null,
            "flex_flow": null,
            "grid_area": null,
            "grid_auto_columns": null,
            "grid_auto_flow": null,
            "grid_auto_rows": null,
            "grid_column": null,
            "grid_gap": null,
            "grid_row": null,
            "grid_template_areas": null,
            "grid_template_columns": null,
            "grid_template_rows": null,
            "height": null,
            "justify_content": null,
            "justify_items": null,
            "left": null,
            "margin": null,
            "max_height": null,
            "max_width": null,
            "min_height": null,
            "min_width": null,
            "object_fit": null,
            "object_position": null,
            "order": null,
            "overflow": null,
            "overflow_x": null,
            "overflow_y": null,
            "padding": null,
            "right": null,
            "top": null,
            "visibility": null,
            "width": null
          }
        },
        "f36ec294b40a4f5a9d3cb72e86a873fb": {
          "model_module": "@jupyter-widgets/base",
          "model_name": "LayoutModel",
          "model_module_version": "1.2.0",
          "state": {
            "_model_module": "@jupyter-widgets/base",
            "_model_module_version": "1.2.0",
            "_model_name": "LayoutModel",
            "_view_count": null,
            "_view_module": "@jupyter-widgets/base",
            "_view_module_version": "1.2.0",
            "_view_name": "LayoutView",
            "align_content": null,
            "align_items": null,
            "align_self": null,
            "border": null,
            "bottom": null,
            "display": null,
            "flex": null,
            "flex_flow": null,
            "grid_area": null,
            "grid_auto_columns": null,
            "grid_auto_flow": null,
            "grid_auto_rows": null,
            "grid_column": null,
            "grid_gap": null,
            "grid_row": null,
            "grid_template_areas": null,
            "grid_template_columns": null,
            "grid_template_rows": null,
            "height": null,
            "justify_content": null,
            "justify_items": null,
            "left": null,
            "margin": null,
            "max_height": null,
            "max_width": null,
            "min_height": null,
            "min_width": null,
            "object_fit": null,
            "object_position": null,
            "order": null,
            "overflow": null,
            "overflow_x": null,
            "overflow_y": null,
            "padding": null,
            "right": null,
            "top": null,
            "visibility": null,
            "width": null
          }
        },
        "c60c6d66dc444f6d9acbc6b2def59b79": {
          "model_module": "@jupyter-widgets/controls",
          "model_name": "DescriptionStyleModel",
          "model_module_version": "1.5.0",
          "state": {
            "_model_module": "@jupyter-widgets/controls",
            "_model_module_version": "1.5.0",
            "_model_name": "DescriptionStyleModel",
            "_view_count": null,
            "_view_module": "@jupyter-widgets/base",
            "_view_module_version": "1.2.0",
            "_view_name": "StyleView",
            "description_width": ""
          }
        },
        "bf61c5ef20e24c5a9d8d6c091388f539": {
          "model_module": "@jupyter-widgets/base",
          "model_name": "LayoutModel",
          "model_module_version": "1.2.0",
          "state": {
            "_model_module": "@jupyter-widgets/base",
            "_model_module_version": "1.2.0",
            "_model_name": "LayoutModel",
            "_view_count": null,
            "_view_module": "@jupyter-widgets/base",
            "_view_module_version": "1.2.0",
            "_view_name": "LayoutView",
            "align_content": null,
            "align_items": null,
            "align_self": null,
            "border": null,
            "bottom": null,
            "display": null,
            "flex": null,
            "flex_flow": null,
            "grid_area": null,
            "grid_auto_columns": null,
            "grid_auto_flow": null,
            "grid_auto_rows": null,
            "grid_column": null,
            "grid_gap": null,
            "grid_row": null,
            "grid_template_areas": null,
            "grid_template_columns": null,
            "grid_template_rows": null,
            "height": null,
            "justify_content": null,
            "justify_items": null,
            "left": null,
            "margin": null,
            "max_height": null,
            "max_width": null,
            "min_height": null,
            "min_width": null,
            "object_fit": null,
            "object_position": null,
            "order": null,
            "overflow": null,
            "overflow_x": null,
            "overflow_y": null,
            "padding": null,
            "right": null,
            "top": null,
            "visibility": null,
            "width": null
          }
        },
        "42615e36682849b7b9ccaf897960a4d7": {
          "model_module": "@jupyter-widgets/controls",
          "model_name": "ProgressStyleModel",
          "model_module_version": "1.5.0",
          "state": {
            "_model_module": "@jupyter-widgets/controls",
            "_model_module_version": "1.5.0",
            "_model_name": "ProgressStyleModel",
            "_view_count": null,
            "_view_module": "@jupyter-widgets/base",
            "_view_module_version": "1.2.0",
            "_view_name": "StyleView",
            "bar_color": null,
            "description_width": ""
          }
        },
        "6d6fae738f1e4bf589067db34f274312": {
          "model_module": "@jupyter-widgets/base",
          "model_name": "LayoutModel",
          "model_module_version": "1.2.0",
          "state": {
            "_model_module": "@jupyter-widgets/base",
            "_model_module_version": "1.2.0",
            "_model_name": "LayoutModel",
            "_view_count": null,
            "_view_module": "@jupyter-widgets/base",
            "_view_module_version": "1.2.0",
            "_view_name": "LayoutView",
            "align_content": null,
            "align_items": null,
            "align_self": null,
            "border": null,
            "bottom": null,
            "display": null,
            "flex": null,
            "flex_flow": null,
            "grid_area": null,
            "grid_auto_columns": null,
            "grid_auto_flow": null,
            "grid_auto_rows": null,
            "grid_column": null,
            "grid_gap": null,
            "grid_row": null,
            "grid_template_areas": null,
            "grid_template_columns": null,
            "grid_template_rows": null,
            "height": null,
            "justify_content": null,
            "justify_items": null,
            "left": null,
            "margin": null,
            "max_height": null,
            "max_width": null,
            "min_height": null,
            "min_width": null,
            "object_fit": null,
            "object_position": null,
            "order": null,
            "overflow": null,
            "overflow_x": null,
            "overflow_y": null,
            "padding": null,
            "right": null,
            "top": null,
            "visibility": null,
            "width": null
          }
        },
        "8561b15d27a146d4ade491a25ef4fb88": {
          "model_module": "@jupyter-widgets/controls",
          "model_name": "DescriptionStyleModel",
          "model_module_version": "1.5.0",
          "state": {
            "_model_module": "@jupyter-widgets/controls",
            "_model_module_version": "1.5.0",
            "_model_name": "DescriptionStyleModel",
            "_view_count": null,
            "_view_module": "@jupyter-widgets/base",
            "_view_module_version": "1.2.0",
            "_view_name": "StyleView",
            "description_width": ""
          }
        },
        "5db4a71d98ab44b4bf1d40d3e7f038c5": {
          "model_module": "@jupyter-widgets/controls",
          "model_name": "HBoxModel",
          "model_module_version": "1.5.0",
          "state": {
            "_dom_classes": [],
            "_model_module": "@jupyter-widgets/controls",
            "_model_module_version": "1.5.0",
            "_model_name": "HBoxModel",
            "_view_count": null,
            "_view_module": "@jupyter-widgets/controls",
            "_view_module_version": "1.5.0",
            "_view_name": "HBoxView",
            "box_style": "",
            "children": [
              "IPY_MODEL_ea6182de4bde4fda85e786ad59f05d19",
              "IPY_MODEL_5925faf2fd33474e8ab1dd5fc26941c6",
              "IPY_MODEL_ab7928df3628407faf6c1a8d26e488b3"
            ],
            "layout": "IPY_MODEL_4209e858400e458c84658831572d8d41"
          }
        },
        "ea6182de4bde4fda85e786ad59f05d19": {
          "model_module": "@jupyter-widgets/controls",
          "model_name": "HTMLModel",
          "model_module_version": "1.5.0",
          "state": {
            "_dom_classes": [],
            "_model_module": "@jupyter-widgets/controls",
            "_model_module_version": "1.5.0",
            "_model_name": "HTMLModel",
            "_view_count": null,
            "_view_module": "@jupyter-widgets/controls",
            "_view_module_version": "1.5.0",
            "_view_name": "HTMLView",
            "description": "",
            "description_tooltip": null,
            "layout": "IPY_MODEL_4aae9b9f2b3d47edbcfca0fb021087f5",
            "placeholder": "​",
            "style": "IPY_MODEL_6f18a472abd645218ec4dd2de2b34b32",
            "value": "100%"
          }
        },
        "5925faf2fd33474e8ab1dd5fc26941c6": {
          "model_module": "@jupyter-widgets/controls",
          "model_name": "FloatProgressModel",
          "model_module_version": "1.5.0",
          "state": {
            "_dom_classes": [],
            "_model_module": "@jupyter-widgets/controls",
            "_model_module_version": "1.5.0",
            "_model_name": "FloatProgressModel",
            "_view_count": null,
            "_view_module": "@jupyter-widgets/controls",
            "_view_module_version": "1.5.0",
            "_view_name": "ProgressView",
            "bar_style": "success",
            "description": "",
            "description_tooltip": null,
            "layout": "IPY_MODEL_19441e874fcc479f802337ab3b8fa7c1",
            "max": 500,
            "min": 0,
            "orientation": "horizontal",
            "style": "IPY_MODEL_864d7f55549f4eeaa41ffd1181773926",
            "value": 500
          }
        },
        "ab7928df3628407faf6c1a8d26e488b3": {
          "model_module": "@jupyter-widgets/controls",
          "model_name": "HTMLModel",
          "model_module_version": "1.5.0",
          "state": {
            "_dom_classes": [],
            "_model_module": "@jupyter-widgets/controls",
            "_model_module_version": "1.5.0",
            "_model_name": "HTMLModel",
            "_view_count": null,
            "_view_module": "@jupyter-widgets/controls",
            "_view_module_version": "1.5.0",
            "_view_name": "HTMLView",
            "description": "",
            "description_tooltip": null,
            "layout": "IPY_MODEL_1d80a673b0a8470bb251e8f135769e8c",
            "placeholder": "​",
            "style": "IPY_MODEL_44b3ad02d309436c880a89a4fc7099a5",
            "value": " 500/500 [03:18&lt;00:00,  2.25it/s]"
          }
        },
        "4209e858400e458c84658831572d8d41": {
          "model_module": "@jupyter-widgets/base",
          "model_name": "LayoutModel",
          "model_module_version": "1.2.0",
          "state": {
            "_model_module": "@jupyter-widgets/base",
            "_model_module_version": "1.2.0",
            "_model_name": "LayoutModel",
            "_view_count": null,
            "_view_module": "@jupyter-widgets/base",
            "_view_module_version": "1.2.0",
            "_view_name": "LayoutView",
            "align_content": null,
            "align_items": null,
            "align_self": null,
            "border": null,
            "bottom": null,
            "display": null,
            "flex": null,
            "flex_flow": null,
            "grid_area": null,
            "grid_auto_columns": null,
            "grid_auto_flow": null,
            "grid_auto_rows": null,
            "grid_column": null,
            "grid_gap": null,
            "grid_row": null,
            "grid_template_areas": null,
            "grid_template_columns": null,
            "grid_template_rows": null,
            "height": null,
            "justify_content": null,
            "justify_items": null,
            "left": null,
            "margin": null,
            "max_height": null,
            "max_width": null,
            "min_height": null,
            "min_width": null,
            "object_fit": null,
            "object_position": null,
            "order": null,
            "overflow": null,
            "overflow_x": null,
            "overflow_y": null,
            "padding": null,
            "right": null,
            "top": null,
            "visibility": null,
            "width": null
          }
        },
        "4aae9b9f2b3d47edbcfca0fb021087f5": {
          "model_module": "@jupyter-widgets/base",
          "model_name": "LayoutModel",
          "model_module_version": "1.2.0",
          "state": {
            "_model_module": "@jupyter-widgets/base",
            "_model_module_version": "1.2.0",
            "_model_name": "LayoutModel",
            "_view_count": null,
            "_view_module": "@jupyter-widgets/base",
            "_view_module_version": "1.2.0",
            "_view_name": "LayoutView",
            "align_content": null,
            "align_items": null,
            "align_self": null,
            "border": null,
            "bottom": null,
            "display": null,
            "flex": null,
            "flex_flow": null,
            "grid_area": null,
            "grid_auto_columns": null,
            "grid_auto_flow": null,
            "grid_auto_rows": null,
            "grid_column": null,
            "grid_gap": null,
            "grid_row": null,
            "grid_template_areas": null,
            "grid_template_columns": null,
            "grid_template_rows": null,
            "height": null,
            "justify_content": null,
            "justify_items": null,
            "left": null,
            "margin": null,
            "max_height": null,
            "max_width": null,
            "min_height": null,
            "min_width": null,
            "object_fit": null,
            "object_position": null,
            "order": null,
            "overflow": null,
            "overflow_x": null,
            "overflow_y": null,
            "padding": null,
            "right": null,
            "top": null,
            "visibility": null,
            "width": null
          }
        },
        "6f18a472abd645218ec4dd2de2b34b32": {
          "model_module": "@jupyter-widgets/controls",
          "model_name": "DescriptionStyleModel",
          "model_module_version": "1.5.0",
          "state": {
            "_model_module": "@jupyter-widgets/controls",
            "_model_module_version": "1.5.0",
            "_model_name": "DescriptionStyleModel",
            "_view_count": null,
            "_view_module": "@jupyter-widgets/base",
            "_view_module_version": "1.2.0",
            "_view_name": "StyleView",
            "description_width": ""
          }
        },
        "19441e874fcc479f802337ab3b8fa7c1": {
          "model_module": "@jupyter-widgets/base",
          "model_name": "LayoutModel",
          "model_module_version": "1.2.0",
          "state": {
            "_model_module": "@jupyter-widgets/base",
            "_model_module_version": "1.2.0",
            "_model_name": "LayoutModel",
            "_view_count": null,
            "_view_module": "@jupyter-widgets/base",
            "_view_module_version": "1.2.0",
            "_view_name": "LayoutView",
            "align_content": null,
            "align_items": null,
            "align_self": null,
            "border": null,
            "bottom": null,
            "display": null,
            "flex": null,
            "flex_flow": null,
            "grid_area": null,
            "grid_auto_columns": null,
            "grid_auto_flow": null,
            "grid_auto_rows": null,
            "grid_column": null,
            "grid_gap": null,
            "grid_row": null,
            "grid_template_areas": null,
            "grid_template_columns": null,
            "grid_template_rows": null,
            "height": null,
            "justify_content": null,
            "justify_items": null,
            "left": null,
            "margin": null,
            "max_height": null,
            "max_width": null,
            "min_height": null,
            "min_width": null,
            "object_fit": null,
            "object_position": null,
            "order": null,
            "overflow": null,
            "overflow_x": null,
            "overflow_y": null,
            "padding": null,
            "right": null,
            "top": null,
            "visibility": null,
            "width": null
          }
        },
        "864d7f55549f4eeaa41ffd1181773926": {
          "model_module": "@jupyter-widgets/controls",
          "model_name": "ProgressStyleModel",
          "model_module_version": "1.5.0",
          "state": {
            "_model_module": "@jupyter-widgets/controls",
            "_model_module_version": "1.5.0",
            "_model_name": "ProgressStyleModel",
            "_view_count": null,
            "_view_module": "@jupyter-widgets/base",
            "_view_module_version": "1.2.0",
            "_view_name": "StyleView",
            "bar_color": null,
            "description_width": ""
          }
        },
        "1d80a673b0a8470bb251e8f135769e8c": {
          "model_module": "@jupyter-widgets/base",
          "model_name": "LayoutModel",
          "model_module_version": "1.2.0",
          "state": {
            "_model_module": "@jupyter-widgets/base",
            "_model_module_version": "1.2.0",
            "_model_name": "LayoutModel",
            "_view_count": null,
            "_view_module": "@jupyter-widgets/base",
            "_view_module_version": "1.2.0",
            "_view_name": "LayoutView",
            "align_content": null,
            "align_items": null,
            "align_self": null,
            "border": null,
            "bottom": null,
            "display": null,
            "flex": null,
            "flex_flow": null,
            "grid_area": null,
            "grid_auto_columns": null,
            "grid_auto_flow": null,
            "grid_auto_rows": null,
            "grid_column": null,
            "grid_gap": null,
            "grid_row": null,
            "grid_template_areas": null,
            "grid_template_columns": null,
            "grid_template_rows": null,
            "height": null,
            "justify_content": null,
            "justify_items": null,
            "left": null,
            "margin": null,
            "max_height": null,
            "max_width": null,
            "min_height": null,
            "min_width": null,
            "object_fit": null,
            "object_position": null,
            "order": null,
            "overflow": null,
            "overflow_x": null,
            "overflow_y": null,
            "padding": null,
            "right": null,
            "top": null,
            "visibility": null,
            "width": null
          }
        },
        "44b3ad02d309436c880a89a4fc7099a5": {
          "model_module": "@jupyter-widgets/controls",
          "model_name": "DescriptionStyleModel",
          "model_module_version": "1.5.0",
          "state": {
            "_model_module": "@jupyter-widgets/controls",
            "_model_module_version": "1.5.0",
            "_model_name": "DescriptionStyleModel",
            "_view_count": null,
            "_view_module": "@jupyter-widgets/base",
            "_view_module_version": "1.2.0",
            "_view_name": "StyleView",
            "description_width": ""
          }
        },
        "ef4944f36294486a9224122067ad6db5": {
          "model_module": "@jupyter-widgets/controls",
          "model_name": "HBoxModel",
          "model_module_version": "1.5.0",
          "state": {
            "_dom_classes": [],
            "_model_module": "@jupyter-widgets/controls",
            "_model_module_version": "1.5.0",
            "_model_name": "HBoxModel",
            "_view_count": null,
            "_view_module": "@jupyter-widgets/controls",
            "_view_module_version": "1.5.0",
            "_view_name": "HBoxView",
            "box_style": "",
            "children": [
              "IPY_MODEL_fa28974fc9834b688991b00eba67ba29",
              "IPY_MODEL_8a9491fcdae44c5ea460d88854c81cbb",
              "IPY_MODEL_7d0013d0ab144a5097a4702b07b25231"
            ],
            "layout": "IPY_MODEL_22c03da8e3fc4c3bbe23e006c85f7c4a"
          }
        },
        "fa28974fc9834b688991b00eba67ba29": {
          "model_module": "@jupyter-widgets/controls",
          "model_name": "HTMLModel",
          "model_module_version": "1.5.0",
          "state": {
            "_dom_classes": [],
            "_model_module": "@jupyter-widgets/controls",
            "_model_module_version": "1.5.0",
            "_model_name": "HTMLModel",
            "_view_count": null,
            "_view_module": "@jupyter-widgets/controls",
            "_view_module_version": "1.5.0",
            "_view_name": "HTMLView",
            "description": "",
            "description_tooltip": null,
            "layout": "IPY_MODEL_73a294a467d3406e88d7aa1ecf7d3691",
            "placeholder": "​",
            "style": "IPY_MODEL_2da96faadb4a42328d950b4533441a46",
            "value": "100%"
          }
        },
        "8a9491fcdae44c5ea460d88854c81cbb": {
          "model_module": "@jupyter-widgets/controls",
          "model_name": "FloatProgressModel",
          "model_module_version": "1.5.0",
          "state": {
            "_dom_classes": [],
            "_model_module": "@jupyter-widgets/controls",
            "_model_module_version": "1.5.0",
            "_model_name": "FloatProgressModel",
            "_view_count": null,
            "_view_module": "@jupyter-widgets/controls",
            "_view_module_version": "1.5.0",
            "_view_name": "ProgressView",
            "bar_style": "success",
            "description": "",
            "description_tooltip": null,
            "layout": "IPY_MODEL_873b302f6933453eb988dd2ac7686e86",
            "max": 500,
            "min": 0,
            "orientation": "horizontal",
            "style": "IPY_MODEL_476365bc51d849b19faf0716092aa5f7",
            "value": 500
          }
        },
        "7d0013d0ab144a5097a4702b07b25231": {
          "model_module": "@jupyter-widgets/controls",
          "model_name": "HTMLModel",
          "model_module_version": "1.5.0",
          "state": {
            "_dom_classes": [],
            "_model_module": "@jupyter-widgets/controls",
            "_model_module_version": "1.5.0",
            "_model_name": "HTMLModel",
            "_view_count": null,
            "_view_module": "@jupyter-widgets/controls",
            "_view_module_version": "1.5.0",
            "_view_name": "HTMLView",
            "description": "",
            "description_tooltip": null,
            "layout": "IPY_MODEL_7b269deec2cb455f87257c58672fa779",
            "placeholder": "​",
            "style": "IPY_MODEL_8e00f4901e0848d7bd016bb227fc6d3a",
            "value": " 500/500 [03:29&lt;00:00,  2.16it/s]"
          }
        },
        "22c03da8e3fc4c3bbe23e006c85f7c4a": {
          "model_module": "@jupyter-widgets/base",
          "model_name": "LayoutModel",
          "model_module_version": "1.2.0",
          "state": {
            "_model_module": "@jupyter-widgets/base",
            "_model_module_version": "1.2.0",
            "_model_name": "LayoutModel",
            "_view_count": null,
            "_view_module": "@jupyter-widgets/base",
            "_view_module_version": "1.2.0",
            "_view_name": "LayoutView",
            "align_content": null,
            "align_items": null,
            "align_self": null,
            "border": null,
            "bottom": null,
            "display": null,
            "flex": null,
            "flex_flow": null,
            "grid_area": null,
            "grid_auto_columns": null,
            "grid_auto_flow": null,
            "grid_auto_rows": null,
            "grid_column": null,
            "grid_gap": null,
            "grid_row": null,
            "grid_template_areas": null,
            "grid_template_columns": null,
            "grid_template_rows": null,
            "height": null,
            "justify_content": null,
            "justify_items": null,
            "left": null,
            "margin": null,
            "max_height": null,
            "max_width": null,
            "min_height": null,
            "min_width": null,
            "object_fit": null,
            "object_position": null,
            "order": null,
            "overflow": null,
            "overflow_x": null,
            "overflow_y": null,
            "padding": null,
            "right": null,
            "top": null,
            "visibility": null,
            "width": null
          }
        },
        "73a294a467d3406e88d7aa1ecf7d3691": {
          "model_module": "@jupyter-widgets/base",
          "model_name": "LayoutModel",
          "model_module_version": "1.2.0",
          "state": {
            "_model_module": "@jupyter-widgets/base",
            "_model_module_version": "1.2.0",
            "_model_name": "LayoutModel",
            "_view_count": null,
            "_view_module": "@jupyter-widgets/base",
            "_view_module_version": "1.2.0",
            "_view_name": "LayoutView",
            "align_content": null,
            "align_items": null,
            "align_self": null,
            "border": null,
            "bottom": null,
            "display": null,
            "flex": null,
            "flex_flow": null,
            "grid_area": null,
            "grid_auto_columns": null,
            "grid_auto_flow": null,
            "grid_auto_rows": null,
            "grid_column": null,
            "grid_gap": null,
            "grid_row": null,
            "grid_template_areas": null,
            "grid_template_columns": null,
            "grid_template_rows": null,
            "height": null,
            "justify_content": null,
            "justify_items": null,
            "left": null,
            "margin": null,
            "max_height": null,
            "max_width": null,
            "min_height": null,
            "min_width": null,
            "object_fit": null,
            "object_position": null,
            "order": null,
            "overflow": null,
            "overflow_x": null,
            "overflow_y": null,
            "padding": null,
            "right": null,
            "top": null,
            "visibility": null,
            "width": null
          }
        },
        "2da96faadb4a42328d950b4533441a46": {
          "model_module": "@jupyter-widgets/controls",
          "model_name": "DescriptionStyleModel",
          "model_module_version": "1.5.0",
          "state": {
            "_model_module": "@jupyter-widgets/controls",
            "_model_module_version": "1.5.0",
            "_model_name": "DescriptionStyleModel",
            "_view_count": null,
            "_view_module": "@jupyter-widgets/base",
            "_view_module_version": "1.2.0",
            "_view_name": "StyleView",
            "description_width": ""
          }
        },
        "873b302f6933453eb988dd2ac7686e86": {
          "model_module": "@jupyter-widgets/base",
          "model_name": "LayoutModel",
          "model_module_version": "1.2.0",
          "state": {
            "_model_module": "@jupyter-widgets/base",
            "_model_module_version": "1.2.0",
            "_model_name": "LayoutModel",
            "_view_count": null,
            "_view_module": "@jupyter-widgets/base",
            "_view_module_version": "1.2.0",
            "_view_name": "LayoutView",
            "align_content": null,
            "align_items": null,
            "align_self": null,
            "border": null,
            "bottom": null,
            "display": null,
            "flex": null,
            "flex_flow": null,
            "grid_area": null,
            "grid_auto_columns": null,
            "grid_auto_flow": null,
            "grid_auto_rows": null,
            "grid_column": null,
            "grid_gap": null,
            "grid_row": null,
            "grid_template_areas": null,
            "grid_template_columns": null,
            "grid_template_rows": null,
            "height": null,
            "justify_content": null,
            "justify_items": null,
            "left": null,
            "margin": null,
            "max_height": null,
            "max_width": null,
            "min_height": null,
            "min_width": null,
            "object_fit": null,
            "object_position": null,
            "order": null,
            "overflow": null,
            "overflow_x": null,
            "overflow_y": null,
            "padding": null,
            "right": null,
            "top": null,
            "visibility": null,
            "width": null
          }
        },
        "476365bc51d849b19faf0716092aa5f7": {
          "model_module": "@jupyter-widgets/controls",
          "model_name": "ProgressStyleModel",
          "model_module_version": "1.5.0",
          "state": {
            "_model_module": "@jupyter-widgets/controls",
            "_model_module_version": "1.5.0",
            "_model_name": "ProgressStyleModel",
            "_view_count": null,
            "_view_module": "@jupyter-widgets/base",
            "_view_module_version": "1.2.0",
            "_view_name": "StyleView",
            "bar_color": null,
            "description_width": ""
          }
        },
        "7b269deec2cb455f87257c58672fa779": {
          "model_module": "@jupyter-widgets/base",
          "model_name": "LayoutModel",
          "model_module_version": "1.2.0",
          "state": {
            "_model_module": "@jupyter-widgets/base",
            "_model_module_version": "1.2.0",
            "_model_name": "LayoutModel",
            "_view_count": null,
            "_view_module": "@jupyter-widgets/base",
            "_view_module_version": "1.2.0",
            "_view_name": "LayoutView",
            "align_content": null,
            "align_items": null,
            "align_self": null,
            "border": null,
            "bottom": null,
            "display": null,
            "flex": null,
            "flex_flow": null,
            "grid_area": null,
            "grid_auto_columns": null,
            "grid_auto_flow": null,
            "grid_auto_rows": null,
            "grid_column": null,
            "grid_gap": null,
            "grid_row": null,
            "grid_template_areas": null,
            "grid_template_columns": null,
            "grid_template_rows": null,
            "height": null,
            "justify_content": null,
            "justify_items": null,
            "left": null,
            "margin": null,
            "max_height": null,
            "max_width": null,
            "min_height": null,
            "min_width": null,
            "object_fit": null,
            "object_position": null,
            "order": null,
            "overflow": null,
            "overflow_x": null,
            "overflow_y": null,
            "padding": null,
            "right": null,
            "top": null,
            "visibility": null,
            "width": null
          }
        },
        "8e00f4901e0848d7bd016bb227fc6d3a": {
          "model_module": "@jupyter-widgets/controls",
          "model_name": "DescriptionStyleModel",
          "model_module_version": "1.5.0",
          "state": {
            "_model_module": "@jupyter-widgets/controls",
            "_model_module_version": "1.5.0",
            "_model_name": "DescriptionStyleModel",
            "_view_count": null,
            "_view_module": "@jupyter-widgets/base",
            "_view_module_version": "1.2.0",
            "_view_name": "StyleView",
            "description_width": ""
          }
        },
        "9f1a543459df4ac2bba9fd15898ae6a4": {
          "model_module": "@jupyter-widgets/controls",
          "model_name": "HBoxModel",
          "model_module_version": "1.5.0",
          "state": {
            "_dom_classes": [],
            "_model_module": "@jupyter-widgets/controls",
            "_model_module_version": "1.5.0",
            "_model_name": "HBoxModel",
            "_view_count": null,
            "_view_module": "@jupyter-widgets/controls",
            "_view_module_version": "1.5.0",
            "_view_name": "HBoxView",
            "box_style": "",
            "children": [
              "IPY_MODEL_9cc7864f50404011832858af8b8be7e6",
              "IPY_MODEL_a4b2c2d3cb914b6c8c0c973724b82efa",
              "IPY_MODEL_750fb5ef1f7c4d8ab992eb1caf0b96cf"
            ],
            "layout": "IPY_MODEL_38e0d974e9af40e3bfafb7a7a03c4bdc"
          }
        },
        "9cc7864f50404011832858af8b8be7e6": {
          "model_module": "@jupyter-widgets/controls",
          "model_name": "HTMLModel",
          "model_module_version": "1.5.0",
          "state": {
            "_dom_classes": [],
            "_model_module": "@jupyter-widgets/controls",
            "_model_module_version": "1.5.0",
            "_model_name": "HTMLModel",
            "_view_count": null,
            "_view_module": "@jupyter-widgets/controls",
            "_view_module_version": "1.5.0",
            "_view_name": "HTMLView",
            "description": "",
            "description_tooltip": null,
            "layout": "IPY_MODEL_0c1035632cfc4d45ac959cc2ea619484",
            "placeholder": "​",
            "style": "IPY_MODEL_b9f55c2d54c843deb7c3145ff3c4ad5f",
            "value": "100%"
          }
        },
        "a4b2c2d3cb914b6c8c0c973724b82efa": {
          "model_module": "@jupyter-widgets/controls",
          "model_name": "FloatProgressModel",
          "model_module_version": "1.5.0",
          "state": {
            "_dom_classes": [],
            "_model_module": "@jupyter-widgets/controls",
            "_model_module_version": "1.5.0",
            "_model_name": "FloatProgressModel",
            "_view_count": null,
            "_view_module": "@jupyter-widgets/controls",
            "_view_module_version": "1.5.0",
            "_view_name": "ProgressView",
            "bar_style": "success",
            "description": "",
            "description_tooltip": null,
            "layout": "IPY_MODEL_7c81deed14cd46339eda3b43d79f17ce",
            "max": 3057,
            "min": 0,
            "orientation": "horizontal",
            "style": "IPY_MODEL_2d277e267d3e4254b6591e77efdd8895",
            "value": 3057
          }
        },
        "750fb5ef1f7c4d8ab992eb1caf0b96cf": {
          "model_module": "@jupyter-widgets/controls",
          "model_name": "HTMLModel",
          "model_module_version": "1.5.0",
          "state": {
            "_dom_classes": [],
            "_model_module": "@jupyter-widgets/controls",
            "_model_module_version": "1.5.0",
            "_model_name": "HTMLModel",
            "_view_count": null,
            "_view_module": "@jupyter-widgets/controls",
            "_view_module_version": "1.5.0",
            "_view_name": "HTMLView",
            "description": "",
            "description_tooltip": null,
            "layout": "IPY_MODEL_6adc3e501f5d4110acd31710027193c6",
            "placeholder": "​",
            "style": "IPY_MODEL_178c5bc9108e4c8090f450d5e4d7e135",
            "value": " 3057/3057 [16:36&lt;00:00,  2.98it/s]"
          }
        },
        "38e0d974e9af40e3bfafb7a7a03c4bdc": {
          "model_module": "@jupyter-widgets/base",
          "model_name": "LayoutModel",
          "model_module_version": "1.2.0",
          "state": {
            "_model_module": "@jupyter-widgets/base",
            "_model_module_version": "1.2.0",
            "_model_name": "LayoutModel",
            "_view_count": null,
            "_view_module": "@jupyter-widgets/base",
            "_view_module_version": "1.2.0",
            "_view_name": "LayoutView",
            "align_content": null,
            "align_items": null,
            "align_self": null,
            "border": null,
            "bottom": null,
            "display": null,
            "flex": null,
            "flex_flow": null,
            "grid_area": null,
            "grid_auto_columns": null,
            "grid_auto_flow": null,
            "grid_auto_rows": null,
            "grid_column": null,
            "grid_gap": null,
            "grid_row": null,
            "grid_template_areas": null,
            "grid_template_columns": null,
            "grid_template_rows": null,
            "height": null,
            "justify_content": null,
            "justify_items": null,
            "left": null,
            "margin": null,
            "max_height": null,
            "max_width": null,
            "min_height": null,
            "min_width": null,
            "object_fit": null,
            "object_position": null,
            "order": null,
            "overflow": null,
            "overflow_x": null,
            "overflow_y": null,
            "padding": null,
            "right": null,
            "top": null,
            "visibility": null,
            "width": null
          }
        },
        "0c1035632cfc4d45ac959cc2ea619484": {
          "model_module": "@jupyter-widgets/base",
          "model_name": "LayoutModel",
          "model_module_version": "1.2.0",
          "state": {
            "_model_module": "@jupyter-widgets/base",
            "_model_module_version": "1.2.0",
            "_model_name": "LayoutModel",
            "_view_count": null,
            "_view_module": "@jupyter-widgets/base",
            "_view_module_version": "1.2.0",
            "_view_name": "LayoutView",
            "align_content": null,
            "align_items": null,
            "align_self": null,
            "border": null,
            "bottom": null,
            "display": null,
            "flex": null,
            "flex_flow": null,
            "grid_area": null,
            "grid_auto_columns": null,
            "grid_auto_flow": null,
            "grid_auto_rows": null,
            "grid_column": null,
            "grid_gap": null,
            "grid_row": null,
            "grid_template_areas": null,
            "grid_template_columns": null,
            "grid_template_rows": null,
            "height": null,
            "justify_content": null,
            "justify_items": null,
            "left": null,
            "margin": null,
            "max_height": null,
            "max_width": null,
            "min_height": null,
            "min_width": null,
            "object_fit": null,
            "object_position": null,
            "order": null,
            "overflow": null,
            "overflow_x": null,
            "overflow_y": null,
            "padding": null,
            "right": null,
            "top": null,
            "visibility": null,
            "width": null
          }
        },
        "b9f55c2d54c843deb7c3145ff3c4ad5f": {
          "model_module": "@jupyter-widgets/controls",
          "model_name": "DescriptionStyleModel",
          "model_module_version": "1.5.0",
          "state": {
            "_model_module": "@jupyter-widgets/controls",
            "_model_module_version": "1.5.0",
            "_model_name": "DescriptionStyleModel",
            "_view_count": null,
            "_view_module": "@jupyter-widgets/base",
            "_view_module_version": "1.2.0",
            "_view_name": "StyleView",
            "description_width": ""
          }
        },
        "7c81deed14cd46339eda3b43d79f17ce": {
          "model_module": "@jupyter-widgets/base",
          "model_name": "LayoutModel",
          "model_module_version": "1.2.0",
          "state": {
            "_model_module": "@jupyter-widgets/base",
            "_model_module_version": "1.2.0",
            "_model_name": "LayoutModel",
            "_view_count": null,
            "_view_module": "@jupyter-widgets/base",
            "_view_module_version": "1.2.0",
            "_view_name": "LayoutView",
            "align_content": null,
            "align_items": null,
            "align_self": null,
            "border": null,
            "bottom": null,
            "display": null,
            "flex": null,
            "flex_flow": null,
            "grid_area": null,
            "grid_auto_columns": null,
            "grid_auto_flow": null,
            "grid_auto_rows": null,
            "grid_column": null,
            "grid_gap": null,
            "grid_row": null,
            "grid_template_areas": null,
            "grid_template_columns": null,
            "grid_template_rows": null,
            "height": null,
            "justify_content": null,
            "justify_items": null,
            "left": null,
            "margin": null,
            "max_height": null,
            "max_width": null,
            "min_height": null,
            "min_width": null,
            "object_fit": null,
            "object_position": null,
            "order": null,
            "overflow": null,
            "overflow_x": null,
            "overflow_y": null,
            "padding": null,
            "right": null,
            "top": null,
            "visibility": null,
            "width": null
          }
        },
        "2d277e267d3e4254b6591e77efdd8895": {
          "model_module": "@jupyter-widgets/controls",
          "model_name": "ProgressStyleModel",
          "model_module_version": "1.5.0",
          "state": {
            "_model_module": "@jupyter-widgets/controls",
            "_model_module_version": "1.5.0",
            "_model_name": "ProgressStyleModel",
            "_view_count": null,
            "_view_module": "@jupyter-widgets/base",
            "_view_module_version": "1.2.0",
            "_view_name": "StyleView",
            "bar_color": null,
            "description_width": ""
          }
        },
        "6adc3e501f5d4110acd31710027193c6": {
          "model_module": "@jupyter-widgets/base",
          "model_name": "LayoutModel",
          "model_module_version": "1.2.0",
          "state": {
            "_model_module": "@jupyter-widgets/base",
            "_model_module_version": "1.2.0",
            "_model_name": "LayoutModel",
            "_view_count": null,
            "_view_module": "@jupyter-widgets/base",
            "_view_module_version": "1.2.0",
            "_view_name": "LayoutView",
            "align_content": null,
            "align_items": null,
            "align_self": null,
            "border": null,
            "bottom": null,
            "display": null,
            "flex": null,
            "flex_flow": null,
            "grid_area": null,
            "grid_auto_columns": null,
            "grid_auto_flow": null,
            "grid_auto_rows": null,
            "grid_column": null,
            "grid_gap": null,
            "grid_row": null,
            "grid_template_areas": null,
            "grid_template_columns": null,
            "grid_template_rows": null,
            "height": null,
            "justify_content": null,
            "justify_items": null,
            "left": null,
            "margin": null,
            "max_height": null,
            "max_width": null,
            "min_height": null,
            "min_width": null,
            "object_fit": null,
            "object_position": null,
            "order": null,
            "overflow": null,
            "overflow_x": null,
            "overflow_y": null,
            "padding": null,
            "right": null,
            "top": null,
            "visibility": null,
            "width": null
          }
        },
        "178c5bc9108e4c8090f450d5e4d7e135": {
          "model_module": "@jupyter-widgets/controls",
          "model_name": "DescriptionStyleModel",
          "model_module_version": "1.5.0",
          "state": {
            "_model_module": "@jupyter-widgets/controls",
            "_model_module_version": "1.5.0",
            "_model_name": "DescriptionStyleModel",
            "_view_count": null,
            "_view_module": "@jupyter-widgets/base",
            "_view_module_version": "1.2.0",
            "_view_name": "StyleView",
            "description_width": ""
          }
        },
        "b507126bbb454388be4cb844788ddb63": {
          "model_module": "@jupyter-widgets/controls",
          "model_name": "HBoxModel",
          "model_module_version": "1.5.0",
          "state": {
            "_dom_classes": [],
            "_model_module": "@jupyter-widgets/controls",
            "_model_module_version": "1.5.0",
            "_model_name": "HBoxModel",
            "_view_count": null,
            "_view_module": "@jupyter-widgets/controls",
            "_view_module_version": "1.5.0",
            "_view_name": "HBoxView",
            "box_style": "",
            "children": [
              "IPY_MODEL_62f5519bb40f4bfb9c44bb9e720bafef",
              "IPY_MODEL_26dd2f325c9f46be9545f7b0343e898c",
              "IPY_MODEL_97809a9dc73f402aac7aec06f2e1a7f2"
            ],
            "layout": "IPY_MODEL_2a849820852d4f2e930fb47d22a531c0"
          }
        },
        "62f5519bb40f4bfb9c44bb9e720bafef": {
          "model_module": "@jupyter-widgets/controls",
          "model_name": "HTMLModel",
          "model_module_version": "1.5.0",
          "state": {
            "_dom_classes": [],
            "_model_module": "@jupyter-widgets/controls",
            "_model_module_version": "1.5.0",
            "_model_name": "HTMLModel",
            "_view_count": null,
            "_view_module": "@jupyter-widgets/controls",
            "_view_module_version": "1.5.0",
            "_view_name": "HTMLView",
            "description": "",
            "description_tooltip": null,
            "layout": "IPY_MODEL_e90f485260db4f3c80e4a162138e025f",
            "placeholder": "​",
            "style": "IPY_MODEL_2f2290d3bc2f4565ba1301c62d4b8665",
            "value": "100%"
          }
        },
        "26dd2f325c9f46be9545f7b0343e898c": {
          "model_module": "@jupyter-widgets/controls",
          "model_name": "FloatProgressModel",
          "model_module_version": "1.5.0",
          "state": {
            "_dom_classes": [],
            "_model_module": "@jupyter-widgets/controls",
            "_model_module_version": "1.5.0",
            "_model_name": "FloatProgressModel",
            "_view_count": null,
            "_view_module": "@jupyter-widgets/controls",
            "_view_module_version": "1.5.0",
            "_view_name": "ProgressView",
            "bar_style": "success",
            "description": "",
            "description_tooltip": null,
            "layout": "IPY_MODEL_595421cb09164f219b234c2f9b352d3f",
            "max": 3057,
            "min": 0,
            "orientation": "horizontal",
            "style": "IPY_MODEL_5bef5db1320740ba9a582e214a97ecf7",
            "value": 3057
          }
        },
        "97809a9dc73f402aac7aec06f2e1a7f2": {
          "model_module": "@jupyter-widgets/controls",
          "model_name": "HTMLModel",
          "model_module_version": "1.5.0",
          "state": {
            "_dom_classes": [],
            "_model_module": "@jupyter-widgets/controls",
            "_model_module_version": "1.5.0",
            "_model_name": "HTMLModel",
            "_view_count": null,
            "_view_module": "@jupyter-widgets/controls",
            "_view_module_version": "1.5.0",
            "_view_name": "HTMLView",
            "description": "",
            "description_tooltip": null,
            "layout": "IPY_MODEL_0b34b95bd4e944ac8aa954f1d1987de8",
            "placeholder": "​",
            "style": "IPY_MODEL_b18ce9b31f8646a68a5e8c06174fe347",
            "value": " 3057/3057 [16:36&lt;00:00,  2.06it/s]"
          }
        },
        "2a849820852d4f2e930fb47d22a531c0": {
          "model_module": "@jupyter-widgets/base",
          "model_name": "LayoutModel",
          "model_module_version": "1.2.0",
          "state": {
            "_model_module": "@jupyter-widgets/base",
            "_model_module_version": "1.2.0",
            "_model_name": "LayoutModel",
            "_view_count": null,
            "_view_module": "@jupyter-widgets/base",
            "_view_module_version": "1.2.0",
            "_view_name": "LayoutView",
            "align_content": null,
            "align_items": null,
            "align_self": null,
            "border": null,
            "bottom": null,
            "display": null,
            "flex": null,
            "flex_flow": null,
            "grid_area": null,
            "grid_auto_columns": null,
            "grid_auto_flow": null,
            "grid_auto_rows": null,
            "grid_column": null,
            "grid_gap": null,
            "grid_row": null,
            "grid_template_areas": null,
            "grid_template_columns": null,
            "grid_template_rows": null,
            "height": null,
            "justify_content": null,
            "justify_items": null,
            "left": null,
            "margin": null,
            "max_height": null,
            "max_width": null,
            "min_height": null,
            "min_width": null,
            "object_fit": null,
            "object_position": null,
            "order": null,
            "overflow": null,
            "overflow_x": null,
            "overflow_y": null,
            "padding": null,
            "right": null,
            "top": null,
            "visibility": null,
            "width": null
          }
        },
        "e90f485260db4f3c80e4a162138e025f": {
          "model_module": "@jupyter-widgets/base",
          "model_name": "LayoutModel",
          "model_module_version": "1.2.0",
          "state": {
            "_model_module": "@jupyter-widgets/base",
            "_model_module_version": "1.2.0",
            "_model_name": "LayoutModel",
            "_view_count": null,
            "_view_module": "@jupyter-widgets/base",
            "_view_module_version": "1.2.0",
            "_view_name": "LayoutView",
            "align_content": null,
            "align_items": null,
            "align_self": null,
            "border": null,
            "bottom": null,
            "display": null,
            "flex": null,
            "flex_flow": null,
            "grid_area": null,
            "grid_auto_columns": null,
            "grid_auto_flow": null,
            "grid_auto_rows": null,
            "grid_column": null,
            "grid_gap": null,
            "grid_row": null,
            "grid_template_areas": null,
            "grid_template_columns": null,
            "grid_template_rows": null,
            "height": null,
            "justify_content": null,
            "justify_items": null,
            "left": null,
            "margin": null,
            "max_height": null,
            "max_width": null,
            "min_height": null,
            "min_width": null,
            "object_fit": null,
            "object_position": null,
            "order": null,
            "overflow": null,
            "overflow_x": null,
            "overflow_y": null,
            "padding": null,
            "right": null,
            "top": null,
            "visibility": null,
            "width": null
          }
        },
        "2f2290d3bc2f4565ba1301c62d4b8665": {
          "model_module": "@jupyter-widgets/controls",
          "model_name": "DescriptionStyleModel",
          "model_module_version": "1.5.0",
          "state": {
            "_model_module": "@jupyter-widgets/controls",
            "_model_module_version": "1.5.0",
            "_model_name": "DescriptionStyleModel",
            "_view_count": null,
            "_view_module": "@jupyter-widgets/base",
            "_view_module_version": "1.2.0",
            "_view_name": "StyleView",
            "description_width": ""
          }
        },
        "595421cb09164f219b234c2f9b352d3f": {
          "model_module": "@jupyter-widgets/base",
          "model_name": "LayoutModel",
          "model_module_version": "1.2.0",
          "state": {
            "_model_module": "@jupyter-widgets/base",
            "_model_module_version": "1.2.0",
            "_model_name": "LayoutModel",
            "_view_count": null,
            "_view_module": "@jupyter-widgets/base",
            "_view_module_version": "1.2.0",
            "_view_name": "LayoutView",
            "align_content": null,
            "align_items": null,
            "align_self": null,
            "border": null,
            "bottom": null,
            "display": null,
            "flex": null,
            "flex_flow": null,
            "grid_area": null,
            "grid_auto_columns": null,
            "grid_auto_flow": null,
            "grid_auto_rows": null,
            "grid_column": null,
            "grid_gap": null,
            "grid_row": null,
            "grid_template_areas": null,
            "grid_template_columns": null,
            "grid_template_rows": null,
            "height": null,
            "justify_content": null,
            "justify_items": null,
            "left": null,
            "margin": null,
            "max_height": null,
            "max_width": null,
            "min_height": null,
            "min_width": null,
            "object_fit": null,
            "object_position": null,
            "order": null,
            "overflow": null,
            "overflow_x": null,
            "overflow_y": null,
            "padding": null,
            "right": null,
            "top": null,
            "visibility": null,
            "width": null
          }
        },
        "5bef5db1320740ba9a582e214a97ecf7": {
          "model_module": "@jupyter-widgets/controls",
          "model_name": "ProgressStyleModel",
          "model_module_version": "1.5.0",
          "state": {
            "_model_module": "@jupyter-widgets/controls",
            "_model_module_version": "1.5.0",
            "_model_name": "ProgressStyleModel",
            "_view_count": null,
            "_view_module": "@jupyter-widgets/base",
            "_view_module_version": "1.2.0",
            "_view_name": "StyleView",
            "bar_color": null,
            "description_width": ""
          }
        },
        "0b34b95bd4e944ac8aa954f1d1987de8": {
          "model_module": "@jupyter-widgets/base",
          "model_name": "LayoutModel",
          "model_module_version": "1.2.0",
          "state": {
            "_model_module": "@jupyter-widgets/base",
            "_model_module_version": "1.2.0",
            "_model_name": "LayoutModel",
            "_view_count": null,
            "_view_module": "@jupyter-widgets/base",
            "_view_module_version": "1.2.0",
            "_view_name": "LayoutView",
            "align_content": null,
            "align_items": null,
            "align_self": null,
            "border": null,
            "bottom": null,
            "display": null,
            "flex": null,
            "flex_flow": null,
            "grid_area": null,
            "grid_auto_columns": null,
            "grid_auto_flow": null,
            "grid_auto_rows": null,
            "grid_column": null,
            "grid_gap": null,
            "grid_row": null,
            "grid_template_areas": null,
            "grid_template_columns": null,
            "grid_template_rows": null,
            "height": null,
            "justify_content": null,
            "justify_items": null,
            "left": null,
            "margin": null,
            "max_height": null,
            "max_width": null,
            "min_height": null,
            "min_width": null,
            "object_fit": null,
            "object_position": null,
            "order": null,
            "overflow": null,
            "overflow_x": null,
            "overflow_y": null,
            "padding": null,
            "right": null,
            "top": null,
            "visibility": null,
            "width": null
          }
        },
        "b18ce9b31f8646a68a5e8c06174fe347": {
          "model_module": "@jupyter-widgets/controls",
          "model_name": "DescriptionStyleModel",
          "model_module_version": "1.5.0",
          "state": {
            "_model_module": "@jupyter-widgets/controls",
            "_model_module_version": "1.5.0",
            "_model_name": "DescriptionStyleModel",
            "_view_count": null,
            "_view_module": "@jupyter-widgets/base",
            "_view_module_version": "1.2.0",
            "_view_name": "StyleView",
            "description_width": ""
          }
        },
        "8bea3c3c3cec4fce851cbd68e60e064d": {
          "model_module": "@jupyter-widgets/controls",
          "model_name": "HBoxModel",
          "model_module_version": "1.5.0",
          "state": {
            "_dom_classes": [],
            "_model_module": "@jupyter-widgets/controls",
            "_model_module_version": "1.5.0",
            "_model_name": "HBoxModel",
            "_view_count": null,
            "_view_module": "@jupyter-widgets/controls",
            "_view_module_version": "1.5.0",
            "_view_name": "HBoxView",
            "box_style": "",
            "children": [
              "IPY_MODEL_e01183d81cb54400926b4910d54ae6f9",
              "IPY_MODEL_4ebe693a8f7d4f0cbb87504debda6a1f",
              "IPY_MODEL_d77dc83c4f544ba8bf45c5000c2c7105"
            ],
            "layout": "IPY_MODEL_9b81f37b489246df85fe2a1440766da0"
          }
        },
        "e01183d81cb54400926b4910d54ae6f9": {
          "model_module": "@jupyter-widgets/controls",
          "model_name": "HTMLModel",
          "model_module_version": "1.5.0",
          "state": {
            "_dom_classes": [],
            "_model_module": "@jupyter-widgets/controls",
            "_model_module_version": "1.5.0",
            "_model_name": "HTMLModel",
            "_view_count": null,
            "_view_module": "@jupyter-widgets/controls",
            "_view_module_version": "1.5.0",
            "_view_name": "HTMLView",
            "description": "",
            "description_tooltip": null,
            "layout": "IPY_MODEL_e2ba2836b63249ea812cd600a7b16569",
            "placeholder": "​",
            "style": "IPY_MODEL_7004cf6b5d594c459da70d61e7f6f31c",
            "value": "100%"
          }
        },
        "4ebe693a8f7d4f0cbb87504debda6a1f": {
          "model_module": "@jupyter-widgets/controls",
          "model_name": "FloatProgressModel",
          "model_module_version": "1.5.0",
          "state": {
            "_dom_classes": [],
            "_model_module": "@jupyter-widgets/controls",
            "_model_module_version": "1.5.0",
            "_model_name": "FloatProgressModel",
            "_view_count": null,
            "_view_module": "@jupyter-widgets/controls",
            "_view_module_version": "1.5.0",
            "_view_name": "ProgressView",
            "bar_style": "success",
            "description": "",
            "description_tooltip": null,
            "layout": "IPY_MODEL_dc23fa640fae40be815e28f52b29857e",
            "max": 3057,
            "min": 0,
            "orientation": "horizontal",
            "style": "IPY_MODEL_ecb27e16ab804c419e91d758ab8f40c3",
            "value": 3057
          }
        },
        "d77dc83c4f544ba8bf45c5000c2c7105": {
          "model_module": "@jupyter-widgets/controls",
          "model_name": "HTMLModel",
          "model_module_version": "1.5.0",
          "state": {
            "_dom_classes": [],
            "_model_module": "@jupyter-widgets/controls",
            "_model_module_version": "1.5.0",
            "_model_name": "HTMLModel",
            "_view_count": null,
            "_view_module": "@jupyter-widgets/controls",
            "_view_module_version": "1.5.0",
            "_view_name": "HTMLView",
            "description": "",
            "description_tooltip": null,
            "layout": "IPY_MODEL_3953b57196a84579838a6ea4642c6264",
            "placeholder": "​",
            "style": "IPY_MODEL_5f52a75538474f9890144d84d24d547f",
            "value": " 3057/3057 [16:43&lt;00:00,  2.71it/s]"
          }
        },
        "9b81f37b489246df85fe2a1440766da0": {
          "model_module": "@jupyter-widgets/base",
          "model_name": "LayoutModel",
          "model_module_version": "1.2.0",
          "state": {
            "_model_module": "@jupyter-widgets/base",
            "_model_module_version": "1.2.0",
            "_model_name": "LayoutModel",
            "_view_count": null,
            "_view_module": "@jupyter-widgets/base",
            "_view_module_version": "1.2.0",
            "_view_name": "LayoutView",
            "align_content": null,
            "align_items": null,
            "align_self": null,
            "border": null,
            "bottom": null,
            "display": null,
            "flex": null,
            "flex_flow": null,
            "grid_area": null,
            "grid_auto_columns": null,
            "grid_auto_flow": null,
            "grid_auto_rows": null,
            "grid_column": null,
            "grid_gap": null,
            "grid_row": null,
            "grid_template_areas": null,
            "grid_template_columns": null,
            "grid_template_rows": null,
            "height": null,
            "justify_content": null,
            "justify_items": null,
            "left": null,
            "margin": null,
            "max_height": null,
            "max_width": null,
            "min_height": null,
            "min_width": null,
            "object_fit": null,
            "object_position": null,
            "order": null,
            "overflow": null,
            "overflow_x": null,
            "overflow_y": null,
            "padding": null,
            "right": null,
            "top": null,
            "visibility": null,
            "width": null
          }
        },
        "e2ba2836b63249ea812cd600a7b16569": {
          "model_module": "@jupyter-widgets/base",
          "model_name": "LayoutModel",
          "model_module_version": "1.2.0",
          "state": {
            "_model_module": "@jupyter-widgets/base",
            "_model_module_version": "1.2.0",
            "_model_name": "LayoutModel",
            "_view_count": null,
            "_view_module": "@jupyter-widgets/base",
            "_view_module_version": "1.2.0",
            "_view_name": "LayoutView",
            "align_content": null,
            "align_items": null,
            "align_self": null,
            "border": null,
            "bottom": null,
            "display": null,
            "flex": null,
            "flex_flow": null,
            "grid_area": null,
            "grid_auto_columns": null,
            "grid_auto_flow": null,
            "grid_auto_rows": null,
            "grid_column": null,
            "grid_gap": null,
            "grid_row": null,
            "grid_template_areas": null,
            "grid_template_columns": null,
            "grid_template_rows": null,
            "height": null,
            "justify_content": null,
            "justify_items": null,
            "left": null,
            "margin": null,
            "max_height": null,
            "max_width": null,
            "min_height": null,
            "min_width": null,
            "object_fit": null,
            "object_position": null,
            "order": null,
            "overflow": null,
            "overflow_x": null,
            "overflow_y": null,
            "padding": null,
            "right": null,
            "top": null,
            "visibility": null,
            "width": null
          }
        },
        "7004cf6b5d594c459da70d61e7f6f31c": {
          "model_module": "@jupyter-widgets/controls",
          "model_name": "DescriptionStyleModel",
          "model_module_version": "1.5.0",
          "state": {
            "_model_module": "@jupyter-widgets/controls",
            "_model_module_version": "1.5.0",
            "_model_name": "DescriptionStyleModel",
            "_view_count": null,
            "_view_module": "@jupyter-widgets/base",
            "_view_module_version": "1.2.0",
            "_view_name": "StyleView",
            "description_width": ""
          }
        },
        "dc23fa640fae40be815e28f52b29857e": {
          "model_module": "@jupyter-widgets/base",
          "model_name": "LayoutModel",
          "model_module_version": "1.2.0",
          "state": {
            "_model_module": "@jupyter-widgets/base",
            "_model_module_version": "1.2.0",
            "_model_name": "LayoutModel",
            "_view_count": null,
            "_view_module": "@jupyter-widgets/base",
            "_view_module_version": "1.2.0",
            "_view_name": "LayoutView",
            "align_content": null,
            "align_items": null,
            "align_self": null,
            "border": null,
            "bottom": null,
            "display": null,
            "flex": null,
            "flex_flow": null,
            "grid_area": null,
            "grid_auto_columns": null,
            "grid_auto_flow": null,
            "grid_auto_rows": null,
            "grid_column": null,
            "grid_gap": null,
            "grid_row": null,
            "grid_template_areas": null,
            "grid_template_columns": null,
            "grid_template_rows": null,
            "height": null,
            "justify_content": null,
            "justify_items": null,
            "left": null,
            "margin": null,
            "max_height": null,
            "max_width": null,
            "min_height": null,
            "min_width": null,
            "object_fit": null,
            "object_position": null,
            "order": null,
            "overflow": null,
            "overflow_x": null,
            "overflow_y": null,
            "padding": null,
            "right": null,
            "top": null,
            "visibility": null,
            "width": null
          }
        },
        "ecb27e16ab804c419e91d758ab8f40c3": {
          "model_module": "@jupyter-widgets/controls",
          "model_name": "ProgressStyleModel",
          "model_module_version": "1.5.0",
          "state": {
            "_model_module": "@jupyter-widgets/controls",
            "_model_module_version": "1.5.0",
            "_model_name": "ProgressStyleModel",
            "_view_count": null,
            "_view_module": "@jupyter-widgets/base",
            "_view_module_version": "1.2.0",
            "_view_name": "StyleView",
            "bar_color": null,
            "description_width": ""
          }
        },
        "3953b57196a84579838a6ea4642c6264": {
          "model_module": "@jupyter-widgets/base",
          "model_name": "LayoutModel",
          "model_module_version": "1.2.0",
          "state": {
            "_model_module": "@jupyter-widgets/base",
            "_model_module_version": "1.2.0",
            "_model_name": "LayoutModel",
            "_view_count": null,
            "_view_module": "@jupyter-widgets/base",
            "_view_module_version": "1.2.0",
            "_view_name": "LayoutView",
            "align_content": null,
            "align_items": null,
            "align_self": null,
            "border": null,
            "bottom": null,
            "display": null,
            "flex": null,
            "flex_flow": null,
            "grid_area": null,
            "grid_auto_columns": null,
            "grid_auto_flow": null,
            "grid_auto_rows": null,
            "grid_column": null,
            "grid_gap": null,
            "grid_row": null,
            "grid_template_areas": null,
            "grid_template_columns": null,
            "grid_template_rows": null,
            "height": null,
            "justify_content": null,
            "justify_items": null,
            "left": null,
            "margin": null,
            "max_height": null,
            "max_width": null,
            "min_height": null,
            "min_width": null,
            "object_fit": null,
            "object_position": null,
            "order": null,
            "overflow": null,
            "overflow_x": null,
            "overflow_y": null,
            "padding": null,
            "right": null,
            "top": null,
            "visibility": null,
            "width": null
          }
        },
        "5f52a75538474f9890144d84d24d547f": {
          "model_module": "@jupyter-widgets/controls",
          "model_name": "DescriptionStyleModel",
          "model_module_version": "1.5.0",
          "state": {
            "_model_module": "@jupyter-widgets/controls",
            "_model_module_version": "1.5.0",
            "_model_name": "DescriptionStyleModel",
            "_view_count": null,
            "_view_module": "@jupyter-widgets/base",
            "_view_module_version": "1.2.0",
            "_view_name": "StyleView",
            "description_width": ""
          }
        },
        "02371bbeb9c14c1ab128a02b90cfd903": {
          "model_module": "@jupyter-widgets/controls",
          "model_name": "HBoxModel",
          "model_module_version": "1.5.0",
          "state": {
            "_dom_classes": [],
            "_model_module": "@jupyter-widgets/controls",
            "_model_module_version": "1.5.0",
            "_model_name": "HBoxModel",
            "_view_count": null,
            "_view_module": "@jupyter-widgets/controls",
            "_view_module_version": "1.5.0",
            "_view_name": "HBoxView",
            "box_style": "",
            "children": [
              "IPY_MODEL_889af13a2a4844869e8beba03bcc5022",
              "IPY_MODEL_12f2456b54224cacb35e7fbcaaaae428",
              "IPY_MODEL_996684fac725473a94cc98d39e1c6baf"
            ],
            "layout": "IPY_MODEL_d9397aadf16245ab9f828c54a0a87bf1"
          }
        },
        "889af13a2a4844869e8beba03bcc5022": {
          "model_module": "@jupyter-widgets/controls",
          "model_name": "HTMLModel",
          "model_module_version": "1.5.0",
          "state": {
            "_dom_classes": [],
            "_model_module": "@jupyter-widgets/controls",
            "_model_module_version": "1.5.0",
            "_model_name": "HTMLModel",
            "_view_count": null,
            "_view_module": "@jupyter-widgets/controls",
            "_view_module_version": "1.5.0",
            "_view_name": "HTMLView",
            "description": "",
            "description_tooltip": null,
            "layout": "IPY_MODEL_be0e406b586042e2ab8ef128f2199349",
            "placeholder": "​",
            "style": "IPY_MODEL_4dc544a2652f41638fc21bf8574030eb",
            "value": "100%"
          }
        },
        "12f2456b54224cacb35e7fbcaaaae428": {
          "model_module": "@jupyter-widgets/controls",
          "model_name": "FloatProgressModel",
          "model_module_version": "1.5.0",
          "state": {
            "_dom_classes": [],
            "_model_module": "@jupyter-widgets/controls",
            "_model_module_version": "1.5.0",
            "_model_name": "FloatProgressModel",
            "_view_count": null,
            "_view_module": "@jupyter-widgets/controls",
            "_view_module_version": "1.5.0",
            "_view_name": "ProgressView",
            "bar_style": "success",
            "description": "",
            "description_tooltip": null,
            "layout": "IPY_MODEL_6347641365b64e71be168f7c83f95bb6",
            "max": 500,
            "min": 0,
            "orientation": "horizontal",
            "style": "IPY_MODEL_49d566486a0f4ecfad7607b1d868b000",
            "value": 500
          }
        },
        "996684fac725473a94cc98d39e1c6baf": {
          "model_module": "@jupyter-widgets/controls",
          "model_name": "HTMLModel",
          "model_module_version": "1.5.0",
          "state": {
            "_dom_classes": [],
            "_model_module": "@jupyter-widgets/controls",
            "_model_module_version": "1.5.0",
            "_model_name": "HTMLModel",
            "_view_count": null,
            "_view_module": "@jupyter-widgets/controls",
            "_view_module_version": "1.5.0",
            "_view_name": "HTMLView",
            "description": "",
            "description_tooltip": null,
            "layout": "IPY_MODEL_b8af85d46af84e8894864555d8b94e18",
            "placeholder": "​",
            "style": "IPY_MODEL_070c8d301680459ba9c44612c20742e9",
            "value": " 500/500 [01:34&lt;00:00,  5.14it/s]"
          }
        },
        "d9397aadf16245ab9f828c54a0a87bf1": {
          "model_module": "@jupyter-widgets/base",
          "model_name": "LayoutModel",
          "model_module_version": "1.2.0",
          "state": {
            "_model_module": "@jupyter-widgets/base",
            "_model_module_version": "1.2.0",
            "_model_name": "LayoutModel",
            "_view_count": null,
            "_view_module": "@jupyter-widgets/base",
            "_view_module_version": "1.2.0",
            "_view_name": "LayoutView",
            "align_content": null,
            "align_items": null,
            "align_self": null,
            "border": null,
            "bottom": null,
            "display": null,
            "flex": null,
            "flex_flow": null,
            "grid_area": null,
            "grid_auto_columns": null,
            "grid_auto_flow": null,
            "grid_auto_rows": null,
            "grid_column": null,
            "grid_gap": null,
            "grid_row": null,
            "grid_template_areas": null,
            "grid_template_columns": null,
            "grid_template_rows": null,
            "height": null,
            "justify_content": null,
            "justify_items": null,
            "left": null,
            "margin": null,
            "max_height": null,
            "max_width": null,
            "min_height": null,
            "min_width": null,
            "object_fit": null,
            "object_position": null,
            "order": null,
            "overflow": null,
            "overflow_x": null,
            "overflow_y": null,
            "padding": null,
            "right": null,
            "top": null,
            "visibility": null,
            "width": null
          }
        },
        "be0e406b586042e2ab8ef128f2199349": {
          "model_module": "@jupyter-widgets/base",
          "model_name": "LayoutModel",
          "model_module_version": "1.2.0",
          "state": {
            "_model_module": "@jupyter-widgets/base",
            "_model_module_version": "1.2.0",
            "_model_name": "LayoutModel",
            "_view_count": null,
            "_view_module": "@jupyter-widgets/base",
            "_view_module_version": "1.2.0",
            "_view_name": "LayoutView",
            "align_content": null,
            "align_items": null,
            "align_self": null,
            "border": null,
            "bottom": null,
            "display": null,
            "flex": null,
            "flex_flow": null,
            "grid_area": null,
            "grid_auto_columns": null,
            "grid_auto_flow": null,
            "grid_auto_rows": null,
            "grid_column": null,
            "grid_gap": null,
            "grid_row": null,
            "grid_template_areas": null,
            "grid_template_columns": null,
            "grid_template_rows": null,
            "height": null,
            "justify_content": null,
            "justify_items": null,
            "left": null,
            "margin": null,
            "max_height": null,
            "max_width": null,
            "min_height": null,
            "min_width": null,
            "object_fit": null,
            "object_position": null,
            "order": null,
            "overflow": null,
            "overflow_x": null,
            "overflow_y": null,
            "padding": null,
            "right": null,
            "top": null,
            "visibility": null,
            "width": null
          }
        },
        "4dc544a2652f41638fc21bf8574030eb": {
          "model_module": "@jupyter-widgets/controls",
          "model_name": "DescriptionStyleModel",
          "model_module_version": "1.5.0",
          "state": {
            "_model_module": "@jupyter-widgets/controls",
            "_model_module_version": "1.5.0",
            "_model_name": "DescriptionStyleModel",
            "_view_count": null,
            "_view_module": "@jupyter-widgets/base",
            "_view_module_version": "1.2.0",
            "_view_name": "StyleView",
            "description_width": ""
          }
        },
        "6347641365b64e71be168f7c83f95bb6": {
          "model_module": "@jupyter-widgets/base",
          "model_name": "LayoutModel",
          "model_module_version": "1.2.0",
          "state": {
            "_model_module": "@jupyter-widgets/base",
            "_model_module_version": "1.2.0",
            "_model_name": "LayoutModel",
            "_view_count": null,
            "_view_module": "@jupyter-widgets/base",
            "_view_module_version": "1.2.0",
            "_view_name": "LayoutView",
            "align_content": null,
            "align_items": null,
            "align_self": null,
            "border": null,
            "bottom": null,
            "display": null,
            "flex": null,
            "flex_flow": null,
            "grid_area": null,
            "grid_auto_columns": null,
            "grid_auto_flow": null,
            "grid_auto_rows": null,
            "grid_column": null,
            "grid_gap": null,
            "grid_row": null,
            "grid_template_areas": null,
            "grid_template_columns": null,
            "grid_template_rows": null,
            "height": null,
            "justify_content": null,
            "justify_items": null,
            "left": null,
            "margin": null,
            "max_height": null,
            "max_width": null,
            "min_height": null,
            "min_width": null,
            "object_fit": null,
            "object_position": null,
            "order": null,
            "overflow": null,
            "overflow_x": null,
            "overflow_y": null,
            "padding": null,
            "right": null,
            "top": null,
            "visibility": null,
            "width": null
          }
        },
        "49d566486a0f4ecfad7607b1d868b000": {
          "model_module": "@jupyter-widgets/controls",
          "model_name": "ProgressStyleModel",
          "model_module_version": "1.5.0",
          "state": {
            "_model_module": "@jupyter-widgets/controls",
            "_model_module_version": "1.5.0",
            "_model_name": "ProgressStyleModel",
            "_view_count": null,
            "_view_module": "@jupyter-widgets/base",
            "_view_module_version": "1.2.0",
            "_view_name": "StyleView",
            "bar_color": null,
            "description_width": ""
          }
        },
        "b8af85d46af84e8894864555d8b94e18": {
          "model_module": "@jupyter-widgets/base",
          "model_name": "LayoutModel",
          "model_module_version": "1.2.0",
          "state": {
            "_model_module": "@jupyter-widgets/base",
            "_model_module_version": "1.2.0",
            "_model_name": "LayoutModel",
            "_view_count": null,
            "_view_module": "@jupyter-widgets/base",
            "_view_module_version": "1.2.0",
            "_view_name": "LayoutView",
            "align_content": null,
            "align_items": null,
            "align_self": null,
            "border": null,
            "bottom": null,
            "display": null,
            "flex": null,
            "flex_flow": null,
            "grid_area": null,
            "grid_auto_columns": null,
            "grid_auto_flow": null,
            "grid_auto_rows": null,
            "grid_column": null,
            "grid_gap": null,
            "grid_row": null,
            "grid_template_areas": null,
            "grid_template_columns": null,
            "grid_template_rows": null,
            "height": null,
            "justify_content": null,
            "justify_items": null,
            "left": null,
            "margin": null,
            "max_height": null,
            "max_width": null,
            "min_height": null,
            "min_width": null,
            "object_fit": null,
            "object_position": null,
            "order": null,
            "overflow": null,
            "overflow_x": null,
            "overflow_y": null,
            "padding": null,
            "right": null,
            "top": null,
            "visibility": null,
            "width": null
          }
        },
        "070c8d301680459ba9c44612c20742e9": {
          "model_module": "@jupyter-widgets/controls",
          "model_name": "DescriptionStyleModel",
          "model_module_version": "1.5.0",
          "state": {
            "_model_module": "@jupyter-widgets/controls",
            "_model_module_version": "1.5.0",
            "_model_name": "DescriptionStyleModel",
            "_view_count": null,
            "_view_module": "@jupyter-widgets/base",
            "_view_module_version": "1.2.0",
            "_view_name": "StyleView",
            "description_width": ""
          }
        },
        "4bfb83723b8245588946ce7d72a5fa1b": {
          "model_module": "@jupyter-widgets/controls",
          "model_name": "HBoxModel",
          "model_module_version": "1.5.0",
          "state": {
            "_dom_classes": [],
            "_model_module": "@jupyter-widgets/controls",
            "_model_module_version": "1.5.0",
            "_model_name": "HBoxModel",
            "_view_count": null,
            "_view_module": "@jupyter-widgets/controls",
            "_view_module_version": "1.5.0",
            "_view_name": "HBoxView",
            "box_style": "",
            "children": [
              "IPY_MODEL_e23025555be34477871433f225895465",
              "IPY_MODEL_d7d73488d81d4cfdacb8a07a94fb3e97",
              "IPY_MODEL_d918332f9f524416ac1af2216cc1d0d7"
            ],
            "layout": "IPY_MODEL_cc91623af0ca4fad8a1d532d7fc16953"
          }
        },
        "e23025555be34477871433f225895465": {
          "model_module": "@jupyter-widgets/controls",
          "model_name": "HTMLModel",
          "model_module_version": "1.5.0",
          "state": {
            "_dom_classes": [],
            "_model_module": "@jupyter-widgets/controls",
            "_model_module_version": "1.5.0",
            "_model_name": "HTMLModel",
            "_view_count": null,
            "_view_module": "@jupyter-widgets/controls",
            "_view_module_version": "1.5.0",
            "_view_name": "HTMLView",
            "description": "",
            "description_tooltip": null,
            "layout": "IPY_MODEL_12e537b4bbaf42f796d7cc7213d757c9",
            "placeholder": "​",
            "style": "IPY_MODEL_2550f10b9c2c49b7a4a4304b5ec91cd1",
            "value": "100%"
          }
        },
        "d7d73488d81d4cfdacb8a07a94fb3e97": {
          "model_module": "@jupyter-widgets/controls",
          "model_name": "FloatProgressModel",
          "model_module_version": "1.5.0",
          "state": {
            "_dom_classes": [],
            "_model_module": "@jupyter-widgets/controls",
            "_model_module_version": "1.5.0",
            "_model_name": "FloatProgressModel",
            "_view_count": null,
            "_view_module": "@jupyter-widgets/controls",
            "_view_module_version": "1.5.0",
            "_view_name": "ProgressView",
            "bar_style": "success",
            "description": "",
            "description_tooltip": null,
            "layout": "IPY_MODEL_9683ad1a845a44ada5618006f32cd30f",
            "max": 3057,
            "min": 0,
            "orientation": "horizontal",
            "style": "IPY_MODEL_bbc7a8da22e848cf9e744499ebe20d68",
            "value": 3057
          }
        },
        "d918332f9f524416ac1af2216cc1d0d7": {
          "model_module": "@jupyter-widgets/controls",
          "model_name": "HTMLModel",
          "model_module_version": "1.5.0",
          "state": {
            "_dom_classes": [],
            "_model_module": "@jupyter-widgets/controls",
            "_model_module_version": "1.5.0",
            "_model_name": "HTMLModel",
            "_view_count": null,
            "_view_module": "@jupyter-widgets/controls",
            "_view_module_version": "1.5.0",
            "_view_name": "HTMLView",
            "description": "",
            "description_tooltip": null,
            "layout": "IPY_MODEL_da5224faa5c14cf0b056b7debfa1724a",
            "placeholder": "​",
            "style": "IPY_MODEL_7dfea9caec0e4cf49c9b31d919dfb6a0",
            "value": " 3057/3057 [15:42&lt;00:00,  3.25it/s]"
          }
        },
        "cc91623af0ca4fad8a1d532d7fc16953": {
          "model_module": "@jupyter-widgets/base",
          "model_name": "LayoutModel",
          "model_module_version": "1.2.0",
          "state": {
            "_model_module": "@jupyter-widgets/base",
            "_model_module_version": "1.2.0",
            "_model_name": "LayoutModel",
            "_view_count": null,
            "_view_module": "@jupyter-widgets/base",
            "_view_module_version": "1.2.0",
            "_view_name": "LayoutView",
            "align_content": null,
            "align_items": null,
            "align_self": null,
            "border": null,
            "bottom": null,
            "display": null,
            "flex": null,
            "flex_flow": null,
            "grid_area": null,
            "grid_auto_columns": null,
            "grid_auto_flow": null,
            "grid_auto_rows": null,
            "grid_column": null,
            "grid_gap": null,
            "grid_row": null,
            "grid_template_areas": null,
            "grid_template_columns": null,
            "grid_template_rows": null,
            "height": null,
            "justify_content": null,
            "justify_items": null,
            "left": null,
            "margin": null,
            "max_height": null,
            "max_width": null,
            "min_height": null,
            "min_width": null,
            "object_fit": null,
            "object_position": null,
            "order": null,
            "overflow": null,
            "overflow_x": null,
            "overflow_y": null,
            "padding": null,
            "right": null,
            "top": null,
            "visibility": null,
            "width": null
          }
        },
        "12e537b4bbaf42f796d7cc7213d757c9": {
          "model_module": "@jupyter-widgets/base",
          "model_name": "LayoutModel",
          "model_module_version": "1.2.0",
          "state": {
            "_model_module": "@jupyter-widgets/base",
            "_model_module_version": "1.2.0",
            "_model_name": "LayoutModel",
            "_view_count": null,
            "_view_module": "@jupyter-widgets/base",
            "_view_module_version": "1.2.0",
            "_view_name": "LayoutView",
            "align_content": null,
            "align_items": null,
            "align_self": null,
            "border": null,
            "bottom": null,
            "display": null,
            "flex": null,
            "flex_flow": null,
            "grid_area": null,
            "grid_auto_columns": null,
            "grid_auto_flow": null,
            "grid_auto_rows": null,
            "grid_column": null,
            "grid_gap": null,
            "grid_row": null,
            "grid_template_areas": null,
            "grid_template_columns": null,
            "grid_template_rows": null,
            "height": null,
            "justify_content": null,
            "justify_items": null,
            "left": null,
            "margin": null,
            "max_height": null,
            "max_width": null,
            "min_height": null,
            "min_width": null,
            "object_fit": null,
            "object_position": null,
            "order": null,
            "overflow": null,
            "overflow_x": null,
            "overflow_y": null,
            "padding": null,
            "right": null,
            "top": null,
            "visibility": null,
            "width": null
          }
        },
        "2550f10b9c2c49b7a4a4304b5ec91cd1": {
          "model_module": "@jupyter-widgets/controls",
          "model_name": "DescriptionStyleModel",
          "model_module_version": "1.5.0",
          "state": {
            "_model_module": "@jupyter-widgets/controls",
            "_model_module_version": "1.5.0",
            "_model_name": "DescriptionStyleModel",
            "_view_count": null,
            "_view_module": "@jupyter-widgets/base",
            "_view_module_version": "1.2.0",
            "_view_name": "StyleView",
            "description_width": ""
          }
        },
        "9683ad1a845a44ada5618006f32cd30f": {
          "model_module": "@jupyter-widgets/base",
          "model_name": "LayoutModel",
          "model_module_version": "1.2.0",
          "state": {
            "_model_module": "@jupyter-widgets/base",
            "_model_module_version": "1.2.0",
            "_model_name": "LayoutModel",
            "_view_count": null,
            "_view_module": "@jupyter-widgets/base",
            "_view_module_version": "1.2.0",
            "_view_name": "LayoutView",
            "align_content": null,
            "align_items": null,
            "align_self": null,
            "border": null,
            "bottom": null,
            "display": null,
            "flex": null,
            "flex_flow": null,
            "grid_area": null,
            "grid_auto_columns": null,
            "grid_auto_flow": null,
            "grid_auto_rows": null,
            "grid_column": null,
            "grid_gap": null,
            "grid_row": null,
            "grid_template_areas": null,
            "grid_template_columns": null,
            "grid_template_rows": null,
            "height": null,
            "justify_content": null,
            "justify_items": null,
            "left": null,
            "margin": null,
            "max_height": null,
            "max_width": null,
            "min_height": null,
            "min_width": null,
            "object_fit": null,
            "object_position": null,
            "order": null,
            "overflow": null,
            "overflow_x": null,
            "overflow_y": null,
            "padding": null,
            "right": null,
            "top": null,
            "visibility": null,
            "width": null
          }
        },
        "bbc7a8da22e848cf9e744499ebe20d68": {
          "model_module": "@jupyter-widgets/controls",
          "model_name": "ProgressStyleModel",
          "model_module_version": "1.5.0",
          "state": {
            "_model_module": "@jupyter-widgets/controls",
            "_model_module_version": "1.5.0",
            "_model_name": "ProgressStyleModel",
            "_view_count": null,
            "_view_module": "@jupyter-widgets/base",
            "_view_module_version": "1.2.0",
            "_view_name": "StyleView",
            "bar_color": null,
            "description_width": ""
          }
        },
        "da5224faa5c14cf0b056b7debfa1724a": {
          "model_module": "@jupyter-widgets/base",
          "model_name": "LayoutModel",
          "model_module_version": "1.2.0",
          "state": {
            "_model_module": "@jupyter-widgets/base",
            "_model_module_version": "1.2.0",
            "_model_name": "LayoutModel",
            "_view_count": null,
            "_view_module": "@jupyter-widgets/base",
            "_view_module_version": "1.2.0",
            "_view_name": "LayoutView",
            "align_content": null,
            "align_items": null,
            "align_self": null,
            "border": null,
            "bottom": null,
            "display": null,
            "flex": null,
            "flex_flow": null,
            "grid_area": null,
            "grid_auto_columns": null,
            "grid_auto_flow": null,
            "grid_auto_rows": null,
            "grid_column": null,
            "grid_gap": null,
            "grid_row": null,
            "grid_template_areas": null,
            "grid_template_columns": null,
            "grid_template_rows": null,
            "height": null,
            "justify_content": null,
            "justify_items": null,
            "left": null,
            "margin": null,
            "max_height": null,
            "max_width": null,
            "min_height": null,
            "min_width": null,
            "object_fit": null,
            "object_position": null,
            "order": null,
            "overflow": null,
            "overflow_x": null,
            "overflow_y": null,
            "padding": null,
            "right": null,
            "top": null,
            "visibility": null,
            "width": null
          }
        },
        "7dfea9caec0e4cf49c9b31d919dfb6a0": {
          "model_module": "@jupyter-widgets/controls",
          "model_name": "DescriptionStyleModel",
          "model_module_version": "1.5.0",
          "state": {
            "_model_module": "@jupyter-widgets/controls",
            "_model_module_version": "1.5.0",
            "_model_name": "DescriptionStyleModel",
            "_view_count": null,
            "_view_module": "@jupyter-widgets/base",
            "_view_module_version": "1.2.0",
            "_view_name": "StyleView",
            "description_width": ""
          }
        },
        "264386f2d7e84a4196f59497e632814f": {
          "model_module": "@jupyter-widgets/controls",
          "model_name": "HBoxModel",
          "model_module_version": "1.5.0",
          "state": {
            "_dom_classes": [],
            "_model_module": "@jupyter-widgets/controls",
            "_model_module_version": "1.5.0",
            "_model_name": "HBoxModel",
            "_view_count": null,
            "_view_module": "@jupyter-widgets/controls",
            "_view_module_version": "1.5.0",
            "_view_name": "HBoxView",
            "box_style": "",
            "children": [
              "IPY_MODEL_92fa242fa53946dda08ee15c7d96d450",
              "IPY_MODEL_0efc905fd4c247879405c8bdf75aa9d5",
              "IPY_MODEL_ddfd859a785b4c489034396a41c94351"
            ],
            "layout": "IPY_MODEL_ada9d0ea74c242e897f15c8c72391ed2"
          }
        },
        "92fa242fa53946dda08ee15c7d96d450": {
          "model_module": "@jupyter-widgets/controls",
          "model_name": "HTMLModel",
          "model_module_version": "1.5.0",
          "state": {
            "_dom_classes": [],
            "_model_module": "@jupyter-widgets/controls",
            "_model_module_version": "1.5.0",
            "_model_name": "HTMLModel",
            "_view_count": null,
            "_view_module": "@jupyter-widgets/controls",
            "_view_module_version": "1.5.0",
            "_view_name": "HTMLView",
            "description": "",
            "description_tooltip": null,
            "layout": "IPY_MODEL_ba0587665f6c4f439dec83c5bb54e110",
            "placeholder": "​",
            "style": "IPY_MODEL_5fb7b0e3ec7e47f79f2e557b80ca4a92",
            "value": "100%"
          }
        },
        "0efc905fd4c247879405c8bdf75aa9d5": {
          "model_module": "@jupyter-widgets/controls",
          "model_name": "FloatProgressModel",
          "model_module_version": "1.5.0",
          "state": {
            "_dom_classes": [],
            "_model_module": "@jupyter-widgets/controls",
            "_model_module_version": "1.5.0",
            "_model_name": "FloatProgressModel",
            "_view_count": null,
            "_view_module": "@jupyter-widgets/controls",
            "_view_module_version": "1.5.0",
            "_view_name": "ProgressView",
            "bar_style": "success",
            "description": "",
            "description_tooltip": null,
            "layout": "IPY_MODEL_b49708a35caf47169149d23d8cca4e42",
            "max": 500,
            "min": 0,
            "orientation": "horizontal",
            "style": "IPY_MODEL_b24aa96f62c347d8885e86018ecfbfa7",
            "value": 500
          }
        },
        "ddfd859a785b4c489034396a41c94351": {
          "model_module": "@jupyter-widgets/controls",
          "model_name": "HTMLModel",
          "model_module_version": "1.5.0",
          "state": {
            "_dom_classes": [],
            "_model_module": "@jupyter-widgets/controls",
            "_model_module_version": "1.5.0",
            "_model_name": "HTMLModel",
            "_view_count": null,
            "_view_module": "@jupyter-widgets/controls",
            "_view_module_version": "1.5.0",
            "_view_name": "HTMLView",
            "description": "",
            "description_tooltip": null,
            "layout": "IPY_MODEL_a01c623d29fd47798b3b04761ccdb096",
            "placeholder": "​",
            "style": "IPY_MODEL_58bb47126557413981d4638d0559c177",
            "value": " 500/500 [03:27&lt;00:00,  2.24it/s]"
          }
        },
        "ada9d0ea74c242e897f15c8c72391ed2": {
          "model_module": "@jupyter-widgets/base",
          "model_name": "LayoutModel",
          "model_module_version": "1.2.0",
          "state": {
            "_model_module": "@jupyter-widgets/base",
            "_model_module_version": "1.2.0",
            "_model_name": "LayoutModel",
            "_view_count": null,
            "_view_module": "@jupyter-widgets/base",
            "_view_module_version": "1.2.0",
            "_view_name": "LayoutView",
            "align_content": null,
            "align_items": null,
            "align_self": null,
            "border": null,
            "bottom": null,
            "display": null,
            "flex": null,
            "flex_flow": null,
            "grid_area": null,
            "grid_auto_columns": null,
            "grid_auto_flow": null,
            "grid_auto_rows": null,
            "grid_column": null,
            "grid_gap": null,
            "grid_row": null,
            "grid_template_areas": null,
            "grid_template_columns": null,
            "grid_template_rows": null,
            "height": null,
            "justify_content": null,
            "justify_items": null,
            "left": null,
            "margin": null,
            "max_height": null,
            "max_width": null,
            "min_height": null,
            "min_width": null,
            "object_fit": null,
            "object_position": null,
            "order": null,
            "overflow": null,
            "overflow_x": null,
            "overflow_y": null,
            "padding": null,
            "right": null,
            "top": null,
            "visibility": null,
            "width": null
          }
        },
        "ba0587665f6c4f439dec83c5bb54e110": {
          "model_module": "@jupyter-widgets/base",
          "model_name": "LayoutModel",
          "model_module_version": "1.2.0",
          "state": {
            "_model_module": "@jupyter-widgets/base",
            "_model_module_version": "1.2.0",
            "_model_name": "LayoutModel",
            "_view_count": null,
            "_view_module": "@jupyter-widgets/base",
            "_view_module_version": "1.2.0",
            "_view_name": "LayoutView",
            "align_content": null,
            "align_items": null,
            "align_self": null,
            "border": null,
            "bottom": null,
            "display": null,
            "flex": null,
            "flex_flow": null,
            "grid_area": null,
            "grid_auto_columns": null,
            "grid_auto_flow": null,
            "grid_auto_rows": null,
            "grid_column": null,
            "grid_gap": null,
            "grid_row": null,
            "grid_template_areas": null,
            "grid_template_columns": null,
            "grid_template_rows": null,
            "height": null,
            "justify_content": null,
            "justify_items": null,
            "left": null,
            "margin": null,
            "max_height": null,
            "max_width": null,
            "min_height": null,
            "min_width": null,
            "object_fit": null,
            "object_position": null,
            "order": null,
            "overflow": null,
            "overflow_x": null,
            "overflow_y": null,
            "padding": null,
            "right": null,
            "top": null,
            "visibility": null,
            "width": null
          }
        },
        "5fb7b0e3ec7e47f79f2e557b80ca4a92": {
          "model_module": "@jupyter-widgets/controls",
          "model_name": "DescriptionStyleModel",
          "model_module_version": "1.5.0",
          "state": {
            "_model_module": "@jupyter-widgets/controls",
            "_model_module_version": "1.5.0",
            "_model_name": "DescriptionStyleModel",
            "_view_count": null,
            "_view_module": "@jupyter-widgets/base",
            "_view_module_version": "1.2.0",
            "_view_name": "StyleView",
            "description_width": ""
          }
        },
        "b49708a35caf47169149d23d8cca4e42": {
          "model_module": "@jupyter-widgets/base",
          "model_name": "LayoutModel",
          "model_module_version": "1.2.0",
          "state": {
            "_model_module": "@jupyter-widgets/base",
            "_model_module_version": "1.2.0",
            "_model_name": "LayoutModel",
            "_view_count": null,
            "_view_module": "@jupyter-widgets/base",
            "_view_module_version": "1.2.0",
            "_view_name": "LayoutView",
            "align_content": null,
            "align_items": null,
            "align_self": null,
            "border": null,
            "bottom": null,
            "display": null,
            "flex": null,
            "flex_flow": null,
            "grid_area": null,
            "grid_auto_columns": null,
            "grid_auto_flow": null,
            "grid_auto_rows": null,
            "grid_column": null,
            "grid_gap": null,
            "grid_row": null,
            "grid_template_areas": null,
            "grid_template_columns": null,
            "grid_template_rows": null,
            "height": null,
            "justify_content": null,
            "justify_items": null,
            "left": null,
            "margin": null,
            "max_height": null,
            "max_width": null,
            "min_height": null,
            "min_width": null,
            "object_fit": null,
            "object_position": null,
            "order": null,
            "overflow": null,
            "overflow_x": null,
            "overflow_y": null,
            "padding": null,
            "right": null,
            "top": null,
            "visibility": null,
            "width": null
          }
        },
        "b24aa96f62c347d8885e86018ecfbfa7": {
          "model_module": "@jupyter-widgets/controls",
          "model_name": "ProgressStyleModel",
          "model_module_version": "1.5.0",
          "state": {
            "_model_module": "@jupyter-widgets/controls",
            "_model_module_version": "1.5.0",
            "_model_name": "ProgressStyleModel",
            "_view_count": null,
            "_view_module": "@jupyter-widgets/base",
            "_view_module_version": "1.2.0",
            "_view_name": "StyleView",
            "bar_color": null,
            "description_width": ""
          }
        },
        "a01c623d29fd47798b3b04761ccdb096": {
          "model_module": "@jupyter-widgets/base",
          "model_name": "LayoutModel",
          "model_module_version": "1.2.0",
          "state": {
            "_model_module": "@jupyter-widgets/base",
            "_model_module_version": "1.2.0",
            "_model_name": "LayoutModel",
            "_view_count": null,
            "_view_module": "@jupyter-widgets/base",
            "_view_module_version": "1.2.0",
            "_view_name": "LayoutView",
            "align_content": null,
            "align_items": null,
            "align_self": null,
            "border": null,
            "bottom": null,
            "display": null,
            "flex": null,
            "flex_flow": null,
            "grid_area": null,
            "grid_auto_columns": null,
            "grid_auto_flow": null,
            "grid_auto_rows": null,
            "grid_column": null,
            "grid_gap": null,
            "grid_row": null,
            "grid_template_areas": null,
            "grid_template_columns": null,
            "grid_template_rows": null,
            "height": null,
            "justify_content": null,
            "justify_items": null,
            "left": null,
            "margin": null,
            "max_height": null,
            "max_width": null,
            "min_height": null,
            "min_width": null,
            "object_fit": null,
            "object_position": null,
            "order": null,
            "overflow": null,
            "overflow_x": null,
            "overflow_y": null,
            "padding": null,
            "right": null,
            "top": null,
            "visibility": null,
            "width": null
          }
        },
        "58bb47126557413981d4638d0559c177": {
          "model_module": "@jupyter-widgets/controls",
          "model_name": "DescriptionStyleModel",
          "model_module_version": "1.5.0",
          "state": {
            "_model_module": "@jupyter-widgets/controls",
            "_model_module_version": "1.5.0",
            "_model_name": "DescriptionStyleModel",
            "_view_count": null,
            "_view_module": "@jupyter-widgets/base",
            "_view_module_version": "1.2.0",
            "_view_name": "StyleView",
            "description_width": ""
          }
        },
        "b72dbdf1dd8044bea188180a8b693086": {
          "model_module": "@jupyter-widgets/controls",
          "model_name": "HBoxModel",
          "model_module_version": "1.5.0",
          "state": {
            "_dom_classes": [],
            "_model_module": "@jupyter-widgets/controls",
            "_model_module_version": "1.5.0",
            "_model_name": "HBoxModel",
            "_view_count": null,
            "_view_module": "@jupyter-widgets/controls",
            "_view_module_version": "1.5.0",
            "_view_name": "HBoxView",
            "box_style": "",
            "children": [
              "IPY_MODEL_e0ae98f0425d4bdba24d93f9857c321f",
              "IPY_MODEL_d634c29037d840b1850689954b935394",
              "IPY_MODEL_ef77bec548044572b979d55705f7dc3a"
            ],
            "layout": "IPY_MODEL_23cc3fbec9ee4280955c9e0226baac16"
          }
        },
        "e0ae98f0425d4bdba24d93f9857c321f": {
          "model_module": "@jupyter-widgets/controls",
          "model_name": "HTMLModel",
          "model_module_version": "1.5.0",
          "state": {
            "_dom_classes": [],
            "_model_module": "@jupyter-widgets/controls",
            "_model_module_version": "1.5.0",
            "_model_name": "HTMLModel",
            "_view_count": null,
            "_view_module": "@jupyter-widgets/controls",
            "_view_module_version": "1.5.0",
            "_view_name": "HTMLView",
            "description": "",
            "description_tooltip": null,
            "layout": "IPY_MODEL_9dee5f12f2ba4a0c887194e738eefca2",
            "placeholder": "​",
            "style": "IPY_MODEL_73bbdf0f17f14e8ca7d6e76f4b404831",
            "value": "100%"
          }
        },
        "d634c29037d840b1850689954b935394": {
          "model_module": "@jupyter-widgets/controls",
          "model_name": "FloatProgressModel",
          "model_module_version": "1.5.0",
          "state": {
            "_dom_classes": [],
            "_model_module": "@jupyter-widgets/controls",
            "_model_module_version": "1.5.0",
            "_model_name": "FloatProgressModel",
            "_view_count": null,
            "_view_module": "@jupyter-widgets/controls",
            "_view_module_version": "1.5.0",
            "_view_name": "ProgressView",
            "bar_style": "success",
            "description": "",
            "description_tooltip": null,
            "layout": "IPY_MODEL_b6dbee1c0fe84310a8b7045ca7d876b6",
            "max": 500,
            "min": 0,
            "orientation": "horizontal",
            "style": "IPY_MODEL_555b5284042d4c23a59936ebf32b8ef6",
            "value": 500
          }
        },
        "ef77bec548044572b979d55705f7dc3a": {
          "model_module": "@jupyter-widgets/controls",
          "model_name": "HTMLModel",
          "model_module_version": "1.5.0",
          "state": {
            "_dom_classes": [],
            "_model_module": "@jupyter-widgets/controls",
            "_model_module_version": "1.5.0",
            "_model_name": "HTMLModel",
            "_view_count": null,
            "_view_module": "@jupyter-widgets/controls",
            "_view_module_version": "1.5.0",
            "_view_name": "HTMLView",
            "description": "",
            "description_tooltip": null,
            "layout": "IPY_MODEL_61cde4274ca2451a997da1f320dfe81e",
            "placeholder": "​",
            "style": "IPY_MODEL_3e6a538510e7496c873c926561900842",
            "value": " 500/500 [03:26&lt;00:00,  1.56it/s]"
          }
        },
        "23cc3fbec9ee4280955c9e0226baac16": {
          "model_module": "@jupyter-widgets/base",
          "model_name": "LayoutModel",
          "model_module_version": "1.2.0",
          "state": {
            "_model_module": "@jupyter-widgets/base",
            "_model_module_version": "1.2.0",
            "_model_name": "LayoutModel",
            "_view_count": null,
            "_view_module": "@jupyter-widgets/base",
            "_view_module_version": "1.2.0",
            "_view_name": "LayoutView",
            "align_content": null,
            "align_items": null,
            "align_self": null,
            "border": null,
            "bottom": null,
            "display": null,
            "flex": null,
            "flex_flow": null,
            "grid_area": null,
            "grid_auto_columns": null,
            "grid_auto_flow": null,
            "grid_auto_rows": null,
            "grid_column": null,
            "grid_gap": null,
            "grid_row": null,
            "grid_template_areas": null,
            "grid_template_columns": null,
            "grid_template_rows": null,
            "height": null,
            "justify_content": null,
            "justify_items": null,
            "left": null,
            "margin": null,
            "max_height": null,
            "max_width": null,
            "min_height": null,
            "min_width": null,
            "object_fit": null,
            "object_position": null,
            "order": null,
            "overflow": null,
            "overflow_x": null,
            "overflow_y": null,
            "padding": null,
            "right": null,
            "top": null,
            "visibility": null,
            "width": null
          }
        },
        "9dee5f12f2ba4a0c887194e738eefca2": {
          "model_module": "@jupyter-widgets/base",
          "model_name": "LayoutModel",
          "model_module_version": "1.2.0",
          "state": {
            "_model_module": "@jupyter-widgets/base",
            "_model_module_version": "1.2.0",
            "_model_name": "LayoutModel",
            "_view_count": null,
            "_view_module": "@jupyter-widgets/base",
            "_view_module_version": "1.2.0",
            "_view_name": "LayoutView",
            "align_content": null,
            "align_items": null,
            "align_self": null,
            "border": null,
            "bottom": null,
            "display": null,
            "flex": null,
            "flex_flow": null,
            "grid_area": null,
            "grid_auto_columns": null,
            "grid_auto_flow": null,
            "grid_auto_rows": null,
            "grid_column": null,
            "grid_gap": null,
            "grid_row": null,
            "grid_template_areas": null,
            "grid_template_columns": null,
            "grid_template_rows": null,
            "height": null,
            "justify_content": null,
            "justify_items": null,
            "left": null,
            "margin": null,
            "max_height": null,
            "max_width": null,
            "min_height": null,
            "min_width": null,
            "object_fit": null,
            "object_position": null,
            "order": null,
            "overflow": null,
            "overflow_x": null,
            "overflow_y": null,
            "padding": null,
            "right": null,
            "top": null,
            "visibility": null,
            "width": null
          }
        },
        "73bbdf0f17f14e8ca7d6e76f4b404831": {
          "model_module": "@jupyter-widgets/controls",
          "model_name": "DescriptionStyleModel",
          "model_module_version": "1.5.0",
          "state": {
            "_model_module": "@jupyter-widgets/controls",
            "_model_module_version": "1.5.0",
            "_model_name": "DescriptionStyleModel",
            "_view_count": null,
            "_view_module": "@jupyter-widgets/base",
            "_view_module_version": "1.2.0",
            "_view_name": "StyleView",
            "description_width": ""
          }
        },
        "b6dbee1c0fe84310a8b7045ca7d876b6": {
          "model_module": "@jupyter-widgets/base",
          "model_name": "LayoutModel",
          "model_module_version": "1.2.0",
          "state": {
            "_model_module": "@jupyter-widgets/base",
            "_model_module_version": "1.2.0",
            "_model_name": "LayoutModel",
            "_view_count": null,
            "_view_module": "@jupyter-widgets/base",
            "_view_module_version": "1.2.0",
            "_view_name": "LayoutView",
            "align_content": null,
            "align_items": null,
            "align_self": null,
            "border": null,
            "bottom": null,
            "display": null,
            "flex": null,
            "flex_flow": null,
            "grid_area": null,
            "grid_auto_columns": null,
            "grid_auto_flow": null,
            "grid_auto_rows": null,
            "grid_column": null,
            "grid_gap": null,
            "grid_row": null,
            "grid_template_areas": null,
            "grid_template_columns": null,
            "grid_template_rows": null,
            "height": null,
            "justify_content": null,
            "justify_items": null,
            "left": null,
            "margin": null,
            "max_height": null,
            "max_width": null,
            "min_height": null,
            "min_width": null,
            "object_fit": null,
            "object_position": null,
            "order": null,
            "overflow": null,
            "overflow_x": null,
            "overflow_y": null,
            "padding": null,
            "right": null,
            "top": null,
            "visibility": null,
            "width": null
          }
        },
        "555b5284042d4c23a59936ebf32b8ef6": {
          "model_module": "@jupyter-widgets/controls",
          "model_name": "ProgressStyleModel",
          "model_module_version": "1.5.0",
          "state": {
            "_model_module": "@jupyter-widgets/controls",
            "_model_module_version": "1.5.0",
            "_model_name": "ProgressStyleModel",
            "_view_count": null,
            "_view_module": "@jupyter-widgets/base",
            "_view_module_version": "1.2.0",
            "_view_name": "StyleView",
            "bar_color": null,
            "description_width": ""
          }
        },
        "61cde4274ca2451a997da1f320dfe81e": {
          "model_module": "@jupyter-widgets/base",
          "model_name": "LayoutModel",
          "model_module_version": "1.2.0",
          "state": {
            "_model_module": "@jupyter-widgets/base",
            "_model_module_version": "1.2.0",
            "_model_name": "LayoutModel",
            "_view_count": null,
            "_view_module": "@jupyter-widgets/base",
            "_view_module_version": "1.2.0",
            "_view_name": "LayoutView",
            "align_content": null,
            "align_items": null,
            "align_self": null,
            "border": null,
            "bottom": null,
            "display": null,
            "flex": null,
            "flex_flow": null,
            "grid_area": null,
            "grid_auto_columns": null,
            "grid_auto_flow": null,
            "grid_auto_rows": null,
            "grid_column": null,
            "grid_gap": null,
            "grid_row": null,
            "grid_template_areas": null,
            "grid_template_columns": null,
            "grid_template_rows": null,
            "height": null,
            "justify_content": null,
            "justify_items": null,
            "left": null,
            "margin": null,
            "max_height": null,
            "max_width": null,
            "min_height": null,
            "min_width": null,
            "object_fit": null,
            "object_position": null,
            "order": null,
            "overflow": null,
            "overflow_x": null,
            "overflow_y": null,
            "padding": null,
            "right": null,
            "top": null,
            "visibility": null,
            "width": null
          }
        },
        "3e6a538510e7496c873c926561900842": {
          "model_module": "@jupyter-widgets/controls",
          "model_name": "DescriptionStyleModel",
          "model_module_version": "1.5.0",
          "state": {
            "_model_module": "@jupyter-widgets/controls",
            "_model_module_version": "1.5.0",
            "_model_name": "DescriptionStyleModel",
            "_view_count": null,
            "_view_module": "@jupyter-widgets/base",
            "_view_module_version": "1.2.0",
            "_view_name": "StyleView",
            "description_width": ""
          }
        },
        "e230a21985044d6ea78ae854932d276c": {
          "model_module": "@jupyter-widgets/controls",
          "model_name": "HBoxModel",
          "model_module_version": "1.5.0",
          "state": {
            "_dom_classes": [],
            "_model_module": "@jupyter-widgets/controls",
            "_model_module_version": "1.5.0",
            "_model_name": "HBoxModel",
            "_view_count": null,
            "_view_module": "@jupyter-widgets/controls",
            "_view_module_version": "1.5.0",
            "_view_name": "HBoxView",
            "box_style": "",
            "children": [
              "IPY_MODEL_83f695c63d3149ef93e89ce8df03796c",
              "IPY_MODEL_287f7c0b1cb140b5ad1ef8314b0ffcbd",
              "IPY_MODEL_9ca1bac8b4da4877a47c775bab188c0a"
            ],
            "layout": "IPY_MODEL_118659611816433582db309bfc593269"
          }
        },
        "83f695c63d3149ef93e89ce8df03796c": {
          "model_module": "@jupyter-widgets/controls",
          "model_name": "HTMLModel",
          "model_module_version": "1.5.0",
          "state": {
            "_dom_classes": [],
            "_model_module": "@jupyter-widgets/controls",
            "_model_module_version": "1.5.0",
            "_model_name": "HTMLModel",
            "_view_count": null,
            "_view_module": "@jupyter-widgets/controls",
            "_view_module_version": "1.5.0",
            "_view_name": "HTMLView",
            "description": "",
            "description_tooltip": null,
            "layout": "IPY_MODEL_2156869dbafb4b0abf54cadeb204712d",
            "placeholder": "​",
            "style": "IPY_MODEL_11e82ae9c92e4d3382531fe736d4b204",
            "value": "100%"
          }
        },
        "287f7c0b1cb140b5ad1ef8314b0ffcbd": {
          "model_module": "@jupyter-widgets/controls",
          "model_name": "FloatProgressModel",
          "model_module_version": "1.5.0",
          "state": {
            "_dom_classes": [],
            "_model_module": "@jupyter-widgets/controls",
            "_model_module_version": "1.5.0",
            "_model_name": "FloatProgressModel",
            "_view_count": null,
            "_view_module": "@jupyter-widgets/controls",
            "_view_module_version": "1.5.0",
            "_view_name": "ProgressView",
            "bar_style": "success",
            "description": "",
            "description_tooltip": null,
            "layout": "IPY_MODEL_947cc2ca94f24675a516437c9ad50e5c",
            "max": 500,
            "min": 0,
            "orientation": "horizontal",
            "style": "IPY_MODEL_37538ee029354afaae984f020535be3a",
            "value": 500
          }
        },
        "9ca1bac8b4da4877a47c775bab188c0a": {
          "model_module": "@jupyter-widgets/controls",
          "model_name": "HTMLModel",
          "model_module_version": "1.5.0",
          "state": {
            "_dom_classes": [],
            "_model_module": "@jupyter-widgets/controls",
            "_model_module_version": "1.5.0",
            "_model_name": "HTMLModel",
            "_view_count": null,
            "_view_module": "@jupyter-widgets/controls",
            "_view_module_version": "1.5.0",
            "_view_name": "HTMLView",
            "description": "",
            "description_tooltip": null,
            "layout": "IPY_MODEL_847ddc04f67447fda8e97dbc6a579ab3",
            "placeholder": "​",
            "style": "IPY_MODEL_199987c454fe472096a3a331c9172d4e",
            "value": " 500/500 [02:10&lt;00:00,  3.92it/s]"
          }
        },
        "118659611816433582db309bfc593269": {
          "model_module": "@jupyter-widgets/base",
          "model_name": "LayoutModel",
          "model_module_version": "1.2.0",
          "state": {
            "_model_module": "@jupyter-widgets/base",
            "_model_module_version": "1.2.0",
            "_model_name": "LayoutModel",
            "_view_count": null,
            "_view_module": "@jupyter-widgets/base",
            "_view_module_version": "1.2.0",
            "_view_name": "LayoutView",
            "align_content": null,
            "align_items": null,
            "align_self": null,
            "border": null,
            "bottom": null,
            "display": null,
            "flex": null,
            "flex_flow": null,
            "grid_area": null,
            "grid_auto_columns": null,
            "grid_auto_flow": null,
            "grid_auto_rows": null,
            "grid_column": null,
            "grid_gap": null,
            "grid_row": null,
            "grid_template_areas": null,
            "grid_template_columns": null,
            "grid_template_rows": null,
            "height": null,
            "justify_content": null,
            "justify_items": null,
            "left": null,
            "margin": null,
            "max_height": null,
            "max_width": null,
            "min_height": null,
            "min_width": null,
            "object_fit": null,
            "object_position": null,
            "order": null,
            "overflow": null,
            "overflow_x": null,
            "overflow_y": null,
            "padding": null,
            "right": null,
            "top": null,
            "visibility": null,
            "width": null
          }
        },
        "2156869dbafb4b0abf54cadeb204712d": {
          "model_module": "@jupyter-widgets/base",
          "model_name": "LayoutModel",
          "model_module_version": "1.2.0",
          "state": {
            "_model_module": "@jupyter-widgets/base",
            "_model_module_version": "1.2.0",
            "_model_name": "LayoutModel",
            "_view_count": null,
            "_view_module": "@jupyter-widgets/base",
            "_view_module_version": "1.2.0",
            "_view_name": "LayoutView",
            "align_content": null,
            "align_items": null,
            "align_self": null,
            "border": null,
            "bottom": null,
            "display": null,
            "flex": null,
            "flex_flow": null,
            "grid_area": null,
            "grid_auto_columns": null,
            "grid_auto_flow": null,
            "grid_auto_rows": null,
            "grid_column": null,
            "grid_gap": null,
            "grid_row": null,
            "grid_template_areas": null,
            "grid_template_columns": null,
            "grid_template_rows": null,
            "height": null,
            "justify_content": null,
            "justify_items": null,
            "left": null,
            "margin": null,
            "max_height": null,
            "max_width": null,
            "min_height": null,
            "min_width": null,
            "object_fit": null,
            "object_position": null,
            "order": null,
            "overflow": null,
            "overflow_x": null,
            "overflow_y": null,
            "padding": null,
            "right": null,
            "top": null,
            "visibility": null,
            "width": null
          }
        },
        "11e82ae9c92e4d3382531fe736d4b204": {
          "model_module": "@jupyter-widgets/controls",
          "model_name": "DescriptionStyleModel",
          "model_module_version": "1.5.0",
          "state": {
            "_model_module": "@jupyter-widgets/controls",
            "_model_module_version": "1.5.0",
            "_model_name": "DescriptionStyleModel",
            "_view_count": null,
            "_view_module": "@jupyter-widgets/base",
            "_view_module_version": "1.2.0",
            "_view_name": "StyleView",
            "description_width": ""
          }
        },
        "947cc2ca94f24675a516437c9ad50e5c": {
          "model_module": "@jupyter-widgets/base",
          "model_name": "LayoutModel",
          "model_module_version": "1.2.0",
          "state": {
            "_model_module": "@jupyter-widgets/base",
            "_model_module_version": "1.2.0",
            "_model_name": "LayoutModel",
            "_view_count": null,
            "_view_module": "@jupyter-widgets/base",
            "_view_module_version": "1.2.0",
            "_view_name": "LayoutView",
            "align_content": null,
            "align_items": null,
            "align_self": null,
            "border": null,
            "bottom": null,
            "display": null,
            "flex": null,
            "flex_flow": null,
            "grid_area": null,
            "grid_auto_columns": null,
            "grid_auto_flow": null,
            "grid_auto_rows": null,
            "grid_column": null,
            "grid_gap": null,
            "grid_row": null,
            "grid_template_areas": null,
            "grid_template_columns": null,
            "grid_template_rows": null,
            "height": null,
            "justify_content": null,
            "justify_items": null,
            "left": null,
            "margin": null,
            "max_height": null,
            "max_width": null,
            "min_height": null,
            "min_width": null,
            "object_fit": null,
            "object_position": null,
            "order": null,
            "overflow": null,
            "overflow_x": null,
            "overflow_y": null,
            "padding": null,
            "right": null,
            "top": null,
            "visibility": null,
            "width": null
          }
        },
        "37538ee029354afaae984f020535be3a": {
          "model_module": "@jupyter-widgets/controls",
          "model_name": "ProgressStyleModel",
          "model_module_version": "1.5.0",
          "state": {
            "_model_module": "@jupyter-widgets/controls",
            "_model_module_version": "1.5.0",
            "_model_name": "ProgressStyleModel",
            "_view_count": null,
            "_view_module": "@jupyter-widgets/base",
            "_view_module_version": "1.2.0",
            "_view_name": "StyleView",
            "bar_color": null,
            "description_width": ""
          }
        },
        "847ddc04f67447fda8e97dbc6a579ab3": {
          "model_module": "@jupyter-widgets/base",
          "model_name": "LayoutModel",
          "model_module_version": "1.2.0",
          "state": {
            "_model_module": "@jupyter-widgets/base",
            "_model_module_version": "1.2.0",
            "_model_name": "LayoutModel",
            "_view_count": null,
            "_view_module": "@jupyter-widgets/base",
            "_view_module_version": "1.2.0",
            "_view_name": "LayoutView",
            "align_content": null,
            "align_items": null,
            "align_self": null,
            "border": null,
            "bottom": null,
            "display": null,
            "flex": null,
            "flex_flow": null,
            "grid_area": null,
            "grid_auto_columns": null,
            "grid_auto_flow": null,
            "grid_auto_rows": null,
            "grid_column": null,
            "grid_gap": null,
            "grid_row": null,
            "grid_template_areas": null,
            "grid_template_columns": null,
            "grid_template_rows": null,
            "height": null,
            "justify_content": null,
            "justify_items": null,
            "left": null,
            "margin": null,
            "max_height": null,
            "max_width": null,
            "min_height": null,
            "min_width": null,
            "object_fit": null,
            "object_position": null,
            "order": null,
            "overflow": null,
            "overflow_x": null,
            "overflow_y": null,
            "padding": null,
            "right": null,
            "top": null,
            "visibility": null,
            "width": null
          }
        },
        "199987c454fe472096a3a331c9172d4e": {
          "model_module": "@jupyter-widgets/controls",
          "model_name": "DescriptionStyleModel",
          "model_module_version": "1.5.0",
          "state": {
            "_model_module": "@jupyter-widgets/controls",
            "_model_module_version": "1.5.0",
            "_model_name": "DescriptionStyleModel",
            "_view_count": null,
            "_view_module": "@jupyter-widgets/base",
            "_view_module_version": "1.2.0",
            "_view_name": "StyleView",
            "description_width": ""
          }
        },
        "1e599a0cbada45b88d15a33795a4b299": {
          "model_module": "@jupyter-widgets/controls",
          "model_name": "HBoxModel",
          "model_module_version": "1.5.0",
          "state": {
            "_dom_classes": [],
            "_model_module": "@jupyter-widgets/controls",
            "_model_module_version": "1.5.0",
            "_model_name": "HBoxModel",
            "_view_count": null,
            "_view_module": "@jupyter-widgets/controls",
            "_view_module_version": "1.5.0",
            "_view_name": "HBoxView",
            "box_style": "",
            "children": [
              "IPY_MODEL_26fa961f57ea49f9aea7777726d681a9",
              "IPY_MODEL_be7fed1827f945cf9a5a021c7fc06b2f",
              "IPY_MODEL_f4dde99165c24d41a71b3bd368a4a3b9"
            ],
            "layout": "IPY_MODEL_a7a56c6f9b9e4268900909f10227f129"
          }
        },
        "26fa961f57ea49f9aea7777726d681a9": {
          "model_module": "@jupyter-widgets/controls",
          "model_name": "HTMLModel",
          "model_module_version": "1.5.0",
          "state": {
            "_dom_classes": [],
            "_model_module": "@jupyter-widgets/controls",
            "_model_module_version": "1.5.0",
            "_model_name": "HTMLModel",
            "_view_count": null,
            "_view_module": "@jupyter-widgets/controls",
            "_view_module_version": "1.5.0",
            "_view_name": "HTMLView",
            "description": "",
            "description_tooltip": null,
            "layout": "IPY_MODEL_31b6c849a20d467bb7a25f93c4b1c780",
            "placeholder": "​",
            "style": "IPY_MODEL_51ab596f805a47fb809a3ac7163e25e2",
            "value": "100%"
          }
        },
        "be7fed1827f945cf9a5a021c7fc06b2f": {
          "model_module": "@jupyter-widgets/controls",
          "model_name": "FloatProgressModel",
          "model_module_version": "1.5.0",
          "state": {
            "_dom_classes": [],
            "_model_module": "@jupyter-widgets/controls",
            "_model_module_version": "1.5.0",
            "_model_name": "FloatProgressModel",
            "_view_count": null,
            "_view_module": "@jupyter-widgets/controls",
            "_view_module_version": "1.5.0",
            "_view_name": "ProgressView",
            "bar_style": "success",
            "description": "",
            "description_tooltip": null,
            "layout": "IPY_MODEL_454a039fb9384600bdd8a49c51ca25a4",
            "max": 500,
            "min": 0,
            "orientation": "horizontal",
            "style": "IPY_MODEL_6a3aba6f03b84a0b969e1709b4485ed0",
            "value": 500
          }
        },
        "f4dde99165c24d41a71b3bd368a4a3b9": {
          "model_module": "@jupyter-widgets/controls",
          "model_name": "HTMLModel",
          "model_module_version": "1.5.0",
          "state": {
            "_dom_classes": [],
            "_model_module": "@jupyter-widgets/controls",
            "_model_module_version": "1.5.0",
            "_model_name": "HTMLModel",
            "_view_count": null,
            "_view_module": "@jupyter-widgets/controls",
            "_view_module_version": "1.5.0",
            "_view_name": "HTMLView",
            "description": "",
            "description_tooltip": null,
            "layout": "IPY_MODEL_0afc2d6ee5614b2cbc1c54cc12bb7ea8",
            "placeholder": "​",
            "style": "IPY_MODEL_d33e798331f64508ba54d51e67ce655e",
            "value": " 500/500 [01:46&lt;00:00,  4.64it/s]"
          }
        },
        "a7a56c6f9b9e4268900909f10227f129": {
          "model_module": "@jupyter-widgets/base",
          "model_name": "LayoutModel",
          "model_module_version": "1.2.0",
          "state": {
            "_model_module": "@jupyter-widgets/base",
            "_model_module_version": "1.2.0",
            "_model_name": "LayoutModel",
            "_view_count": null,
            "_view_module": "@jupyter-widgets/base",
            "_view_module_version": "1.2.0",
            "_view_name": "LayoutView",
            "align_content": null,
            "align_items": null,
            "align_self": null,
            "border": null,
            "bottom": null,
            "display": null,
            "flex": null,
            "flex_flow": null,
            "grid_area": null,
            "grid_auto_columns": null,
            "grid_auto_flow": null,
            "grid_auto_rows": null,
            "grid_column": null,
            "grid_gap": null,
            "grid_row": null,
            "grid_template_areas": null,
            "grid_template_columns": null,
            "grid_template_rows": null,
            "height": null,
            "justify_content": null,
            "justify_items": null,
            "left": null,
            "margin": null,
            "max_height": null,
            "max_width": null,
            "min_height": null,
            "min_width": null,
            "object_fit": null,
            "object_position": null,
            "order": null,
            "overflow": null,
            "overflow_x": null,
            "overflow_y": null,
            "padding": null,
            "right": null,
            "top": null,
            "visibility": null,
            "width": null
          }
        },
        "31b6c849a20d467bb7a25f93c4b1c780": {
          "model_module": "@jupyter-widgets/base",
          "model_name": "LayoutModel",
          "model_module_version": "1.2.0",
          "state": {
            "_model_module": "@jupyter-widgets/base",
            "_model_module_version": "1.2.0",
            "_model_name": "LayoutModel",
            "_view_count": null,
            "_view_module": "@jupyter-widgets/base",
            "_view_module_version": "1.2.0",
            "_view_name": "LayoutView",
            "align_content": null,
            "align_items": null,
            "align_self": null,
            "border": null,
            "bottom": null,
            "display": null,
            "flex": null,
            "flex_flow": null,
            "grid_area": null,
            "grid_auto_columns": null,
            "grid_auto_flow": null,
            "grid_auto_rows": null,
            "grid_column": null,
            "grid_gap": null,
            "grid_row": null,
            "grid_template_areas": null,
            "grid_template_columns": null,
            "grid_template_rows": null,
            "height": null,
            "justify_content": null,
            "justify_items": null,
            "left": null,
            "margin": null,
            "max_height": null,
            "max_width": null,
            "min_height": null,
            "min_width": null,
            "object_fit": null,
            "object_position": null,
            "order": null,
            "overflow": null,
            "overflow_x": null,
            "overflow_y": null,
            "padding": null,
            "right": null,
            "top": null,
            "visibility": null,
            "width": null
          }
        },
        "51ab596f805a47fb809a3ac7163e25e2": {
          "model_module": "@jupyter-widgets/controls",
          "model_name": "DescriptionStyleModel",
          "model_module_version": "1.5.0",
          "state": {
            "_model_module": "@jupyter-widgets/controls",
            "_model_module_version": "1.5.0",
            "_model_name": "DescriptionStyleModel",
            "_view_count": null,
            "_view_module": "@jupyter-widgets/base",
            "_view_module_version": "1.2.0",
            "_view_name": "StyleView",
            "description_width": ""
          }
        },
        "454a039fb9384600bdd8a49c51ca25a4": {
          "model_module": "@jupyter-widgets/base",
          "model_name": "LayoutModel",
          "model_module_version": "1.2.0",
          "state": {
            "_model_module": "@jupyter-widgets/base",
            "_model_module_version": "1.2.0",
            "_model_name": "LayoutModel",
            "_view_count": null,
            "_view_module": "@jupyter-widgets/base",
            "_view_module_version": "1.2.0",
            "_view_name": "LayoutView",
            "align_content": null,
            "align_items": null,
            "align_self": null,
            "border": null,
            "bottom": null,
            "display": null,
            "flex": null,
            "flex_flow": null,
            "grid_area": null,
            "grid_auto_columns": null,
            "grid_auto_flow": null,
            "grid_auto_rows": null,
            "grid_column": null,
            "grid_gap": null,
            "grid_row": null,
            "grid_template_areas": null,
            "grid_template_columns": null,
            "grid_template_rows": null,
            "height": null,
            "justify_content": null,
            "justify_items": null,
            "left": null,
            "margin": null,
            "max_height": null,
            "max_width": null,
            "min_height": null,
            "min_width": null,
            "object_fit": null,
            "object_position": null,
            "order": null,
            "overflow": null,
            "overflow_x": null,
            "overflow_y": null,
            "padding": null,
            "right": null,
            "top": null,
            "visibility": null,
            "width": null
          }
        },
        "6a3aba6f03b84a0b969e1709b4485ed0": {
          "model_module": "@jupyter-widgets/controls",
          "model_name": "ProgressStyleModel",
          "model_module_version": "1.5.0",
          "state": {
            "_model_module": "@jupyter-widgets/controls",
            "_model_module_version": "1.5.0",
            "_model_name": "ProgressStyleModel",
            "_view_count": null,
            "_view_module": "@jupyter-widgets/base",
            "_view_module_version": "1.2.0",
            "_view_name": "StyleView",
            "bar_color": null,
            "description_width": ""
          }
        },
        "0afc2d6ee5614b2cbc1c54cc12bb7ea8": {
          "model_module": "@jupyter-widgets/base",
          "model_name": "LayoutModel",
          "model_module_version": "1.2.0",
          "state": {
            "_model_module": "@jupyter-widgets/base",
            "_model_module_version": "1.2.0",
            "_model_name": "LayoutModel",
            "_view_count": null,
            "_view_module": "@jupyter-widgets/base",
            "_view_module_version": "1.2.0",
            "_view_name": "LayoutView",
            "align_content": null,
            "align_items": null,
            "align_self": null,
            "border": null,
            "bottom": null,
            "display": null,
            "flex": null,
            "flex_flow": null,
            "grid_area": null,
            "grid_auto_columns": null,
            "grid_auto_flow": null,
            "grid_auto_rows": null,
            "grid_column": null,
            "grid_gap": null,
            "grid_row": null,
            "grid_template_areas": null,
            "grid_template_columns": null,
            "grid_template_rows": null,
            "height": null,
            "justify_content": null,
            "justify_items": null,
            "left": null,
            "margin": null,
            "max_height": null,
            "max_width": null,
            "min_height": null,
            "min_width": null,
            "object_fit": null,
            "object_position": null,
            "order": null,
            "overflow": null,
            "overflow_x": null,
            "overflow_y": null,
            "padding": null,
            "right": null,
            "top": null,
            "visibility": null,
            "width": null
          }
        },
        "d33e798331f64508ba54d51e67ce655e": {
          "model_module": "@jupyter-widgets/controls",
          "model_name": "DescriptionStyleModel",
          "model_module_version": "1.5.0",
          "state": {
            "_model_module": "@jupyter-widgets/controls",
            "_model_module_version": "1.5.0",
            "_model_name": "DescriptionStyleModel",
            "_view_count": null,
            "_view_module": "@jupyter-widgets/base",
            "_view_module_version": "1.2.0",
            "_view_name": "StyleView",
            "description_width": ""
          }
        },
        "1dc1a1ec4df0409e9002cf5d6126b89e": {
          "model_module": "@jupyter-widgets/controls",
          "model_name": "HBoxModel",
          "model_module_version": "1.5.0",
          "state": {
            "_dom_classes": [],
            "_model_module": "@jupyter-widgets/controls",
            "_model_module_version": "1.5.0",
            "_model_name": "HBoxModel",
            "_view_count": null,
            "_view_module": "@jupyter-widgets/controls",
            "_view_module_version": "1.5.0",
            "_view_name": "HBoxView",
            "box_style": "",
            "children": [
              "IPY_MODEL_963c4db063a24f019a43e2d3bea497ae",
              "IPY_MODEL_76f908d505c24afba341d89d8e55254e",
              "IPY_MODEL_fcfde589be8e42b1a5c912fdafafb6a2"
            ],
            "layout": "IPY_MODEL_0d2cdfd137d04be89606cc6997a05c8e"
          }
        },
        "963c4db063a24f019a43e2d3bea497ae": {
          "model_module": "@jupyter-widgets/controls",
          "model_name": "HTMLModel",
          "model_module_version": "1.5.0",
          "state": {
            "_dom_classes": [],
            "_model_module": "@jupyter-widgets/controls",
            "_model_module_version": "1.5.0",
            "_model_name": "HTMLModel",
            "_view_count": null,
            "_view_module": "@jupyter-widgets/controls",
            "_view_module_version": "1.5.0",
            "_view_name": "HTMLView",
            "description": "",
            "description_tooltip": null,
            "layout": "IPY_MODEL_ccf0c28ee9034615a8232c66e6613f7f",
            "placeholder": "​",
            "style": "IPY_MODEL_a3f3784b4fa94a8d96a7e4dc4785fd08",
            "value": "100%"
          }
        },
        "76f908d505c24afba341d89d8e55254e": {
          "model_module": "@jupyter-widgets/controls",
          "model_name": "FloatProgressModel",
          "model_module_version": "1.5.0",
          "state": {
            "_dom_classes": [],
            "_model_module": "@jupyter-widgets/controls",
            "_model_module_version": "1.5.0",
            "_model_name": "FloatProgressModel",
            "_view_count": null,
            "_view_module": "@jupyter-widgets/controls",
            "_view_module_version": "1.5.0",
            "_view_name": "ProgressView",
            "bar_style": "success",
            "description": "",
            "description_tooltip": null,
            "layout": "IPY_MODEL_42fbea6c684d43e8938685c39c1b5acc",
            "max": 500,
            "min": 0,
            "orientation": "horizontal",
            "style": "IPY_MODEL_8edae54297d0443f9ac1939a3ca9fa01",
            "value": 500
          }
        },
        "fcfde589be8e42b1a5c912fdafafb6a2": {
          "model_module": "@jupyter-widgets/controls",
          "model_name": "HTMLModel",
          "model_module_version": "1.5.0",
          "state": {
            "_dom_classes": [],
            "_model_module": "@jupyter-widgets/controls",
            "_model_module_version": "1.5.0",
            "_model_name": "HTMLModel",
            "_view_count": null,
            "_view_module": "@jupyter-widgets/controls",
            "_view_module_version": "1.5.0",
            "_view_name": "HTMLView",
            "description": "",
            "description_tooltip": null,
            "layout": "IPY_MODEL_7490b4fb3ef846ada12157e335f891b7",
            "placeholder": "​",
            "style": "IPY_MODEL_0faf4d1e4d284f04b577468c0353a33c",
            "value": " 500/500 [03:18&lt;00:00,  1.68it/s]"
          }
        },
        "0d2cdfd137d04be89606cc6997a05c8e": {
          "model_module": "@jupyter-widgets/base",
          "model_name": "LayoutModel",
          "model_module_version": "1.2.0",
          "state": {
            "_model_module": "@jupyter-widgets/base",
            "_model_module_version": "1.2.0",
            "_model_name": "LayoutModel",
            "_view_count": null,
            "_view_module": "@jupyter-widgets/base",
            "_view_module_version": "1.2.0",
            "_view_name": "LayoutView",
            "align_content": null,
            "align_items": null,
            "align_self": null,
            "border": null,
            "bottom": null,
            "display": null,
            "flex": null,
            "flex_flow": null,
            "grid_area": null,
            "grid_auto_columns": null,
            "grid_auto_flow": null,
            "grid_auto_rows": null,
            "grid_column": null,
            "grid_gap": null,
            "grid_row": null,
            "grid_template_areas": null,
            "grid_template_columns": null,
            "grid_template_rows": null,
            "height": null,
            "justify_content": null,
            "justify_items": null,
            "left": null,
            "margin": null,
            "max_height": null,
            "max_width": null,
            "min_height": null,
            "min_width": null,
            "object_fit": null,
            "object_position": null,
            "order": null,
            "overflow": null,
            "overflow_x": null,
            "overflow_y": null,
            "padding": null,
            "right": null,
            "top": null,
            "visibility": null,
            "width": null
          }
        },
        "ccf0c28ee9034615a8232c66e6613f7f": {
          "model_module": "@jupyter-widgets/base",
          "model_name": "LayoutModel",
          "model_module_version": "1.2.0",
          "state": {
            "_model_module": "@jupyter-widgets/base",
            "_model_module_version": "1.2.0",
            "_model_name": "LayoutModel",
            "_view_count": null,
            "_view_module": "@jupyter-widgets/base",
            "_view_module_version": "1.2.0",
            "_view_name": "LayoutView",
            "align_content": null,
            "align_items": null,
            "align_self": null,
            "border": null,
            "bottom": null,
            "display": null,
            "flex": null,
            "flex_flow": null,
            "grid_area": null,
            "grid_auto_columns": null,
            "grid_auto_flow": null,
            "grid_auto_rows": null,
            "grid_column": null,
            "grid_gap": null,
            "grid_row": null,
            "grid_template_areas": null,
            "grid_template_columns": null,
            "grid_template_rows": null,
            "height": null,
            "justify_content": null,
            "justify_items": null,
            "left": null,
            "margin": null,
            "max_height": null,
            "max_width": null,
            "min_height": null,
            "min_width": null,
            "object_fit": null,
            "object_position": null,
            "order": null,
            "overflow": null,
            "overflow_x": null,
            "overflow_y": null,
            "padding": null,
            "right": null,
            "top": null,
            "visibility": null,
            "width": null
          }
        },
        "a3f3784b4fa94a8d96a7e4dc4785fd08": {
          "model_module": "@jupyter-widgets/controls",
          "model_name": "DescriptionStyleModel",
          "model_module_version": "1.5.0",
          "state": {
            "_model_module": "@jupyter-widgets/controls",
            "_model_module_version": "1.5.0",
            "_model_name": "DescriptionStyleModel",
            "_view_count": null,
            "_view_module": "@jupyter-widgets/base",
            "_view_module_version": "1.2.0",
            "_view_name": "StyleView",
            "description_width": ""
          }
        },
        "42fbea6c684d43e8938685c39c1b5acc": {
          "model_module": "@jupyter-widgets/base",
          "model_name": "LayoutModel",
          "model_module_version": "1.2.0",
          "state": {
            "_model_module": "@jupyter-widgets/base",
            "_model_module_version": "1.2.0",
            "_model_name": "LayoutModel",
            "_view_count": null,
            "_view_module": "@jupyter-widgets/base",
            "_view_module_version": "1.2.0",
            "_view_name": "LayoutView",
            "align_content": null,
            "align_items": null,
            "align_self": null,
            "border": null,
            "bottom": null,
            "display": null,
            "flex": null,
            "flex_flow": null,
            "grid_area": null,
            "grid_auto_columns": null,
            "grid_auto_flow": null,
            "grid_auto_rows": null,
            "grid_column": null,
            "grid_gap": null,
            "grid_row": null,
            "grid_template_areas": null,
            "grid_template_columns": null,
            "grid_template_rows": null,
            "height": null,
            "justify_content": null,
            "justify_items": null,
            "left": null,
            "margin": null,
            "max_height": null,
            "max_width": null,
            "min_height": null,
            "min_width": null,
            "object_fit": null,
            "object_position": null,
            "order": null,
            "overflow": null,
            "overflow_x": null,
            "overflow_y": null,
            "padding": null,
            "right": null,
            "top": null,
            "visibility": null,
            "width": null
          }
        },
        "8edae54297d0443f9ac1939a3ca9fa01": {
          "model_module": "@jupyter-widgets/controls",
          "model_name": "ProgressStyleModel",
          "model_module_version": "1.5.0",
          "state": {
            "_model_module": "@jupyter-widgets/controls",
            "_model_module_version": "1.5.0",
            "_model_name": "ProgressStyleModel",
            "_view_count": null,
            "_view_module": "@jupyter-widgets/base",
            "_view_module_version": "1.2.0",
            "_view_name": "StyleView",
            "bar_color": null,
            "description_width": ""
          }
        },
        "7490b4fb3ef846ada12157e335f891b7": {
          "model_module": "@jupyter-widgets/base",
          "model_name": "LayoutModel",
          "model_module_version": "1.2.0",
          "state": {
            "_model_module": "@jupyter-widgets/base",
            "_model_module_version": "1.2.0",
            "_model_name": "LayoutModel",
            "_view_count": null,
            "_view_module": "@jupyter-widgets/base",
            "_view_module_version": "1.2.0",
            "_view_name": "LayoutView",
            "align_content": null,
            "align_items": null,
            "align_self": null,
            "border": null,
            "bottom": null,
            "display": null,
            "flex": null,
            "flex_flow": null,
            "grid_area": null,
            "grid_auto_columns": null,
            "grid_auto_flow": null,
            "grid_auto_rows": null,
            "grid_column": null,
            "grid_gap": null,
            "grid_row": null,
            "grid_template_areas": null,
            "grid_template_columns": null,
            "grid_template_rows": null,
            "height": null,
            "justify_content": null,
            "justify_items": null,
            "left": null,
            "margin": null,
            "max_height": null,
            "max_width": null,
            "min_height": null,
            "min_width": null,
            "object_fit": null,
            "object_position": null,
            "order": null,
            "overflow": null,
            "overflow_x": null,
            "overflow_y": null,
            "padding": null,
            "right": null,
            "top": null,
            "visibility": null,
            "width": null
          }
        },
        "0faf4d1e4d284f04b577468c0353a33c": {
          "model_module": "@jupyter-widgets/controls",
          "model_name": "DescriptionStyleModel",
          "model_module_version": "1.5.0",
          "state": {
            "_model_module": "@jupyter-widgets/controls",
            "_model_module_version": "1.5.0",
            "_model_name": "DescriptionStyleModel",
            "_view_count": null,
            "_view_module": "@jupyter-widgets/base",
            "_view_module_version": "1.2.0",
            "_view_name": "StyleView",
            "description_width": ""
          }
        },
        "95b12dd6921b4c0ebb52d9edc1683792": {
          "model_module": "@jupyter-widgets/controls",
          "model_name": "HBoxModel",
          "model_module_version": "1.5.0",
          "state": {
            "_dom_classes": [],
            "_model_module": "@jupyter-widgets/controls",
            "_model_module_version": "1.5.0",
            "_model_name": "HBoxModel",
            "_view_count": null,
            "_view_module": "@jupyter-widgets/controls",
            "_view_module_version": "1.5.0",
            "_view_name": "HBoxView",
            "box_style": "",
            "children": [
              "IPY_MODEL_05c5346528d34d908e41c3539cbc9e24",
              "IPY_MODEL_4ffc3b4187f3469693ea7ae4a869ed02",
              "IPY_MODEL_822f49f6739849b8b0d7f50f038585da"
            ],
            "layout": "IPY_MODEL_b77d8e9e2c47498ca138b73e16eaea93"
          }
        },
        "05c5346528d34d908e41c3539cbc9e24": {
          "model_module": "@jupyter-widgets/controls",
          "model_name": "HTMLModel",
          "model_module_version": "1.5.0",
          "state": {
            "_dom_classes": [],
            "_model_module": "@jupyter-widgets/controls",
            "_model_module_version": "1.5.0",
            "_model_name": "HTMLModel",
            "_view_count": null,
            "_view_module": "@jupyter-widgets/controls",
            "_view_module_version": "1.5.0",
            "_view_name": "HTMLView",
            "description": "",
            "description_tooltip": null,
            "layout": "IPY_MODEL_073ffa1a8b32419ca8e1d2e6fb95ac84",
            "placeholder": "​",
            "style": "IPY_MODEL_12e476dbac4d4434a24a83c170cfe3e6",
            "value": "100%"
          }
        },
        "4ffc3b4187f3469693ea7ae4a869ed02": {
          "model_module": "@jupyter-widgets/controls",
          "model_name": "FloatProgressModel",
          "model_module_version": "1.5.0",
          "state": {
            "_dom_classes": [],
            "_model_module": "@jupyter-widgets/controls",
            "_model_module_version": "1.5.0",
            "_model_name": "FloatProgressModel",
            "_view_count": null,
            "_view_module": "@jupyter-widgets/controls",
            "_view_module_version": "1.5.0",
            "_view_name": "ProgressView",
            "bar_style": "success",
            "description": "",
            "description_tooltip": null,
            "layout": "IPY_MODEL_558cd880b69342718a4a9482f79d543a",
            "max": 500,
            "min": 0,
            "orientation": "horizontal",
            "style": "IPY_MODEL_32bbad9c5a1642c38ac8d27d1ae2a0f7",
            "value": 500
          }
        },
        "822f49f6739849b8b0d7f50f038585da": {
          "model_module": "@jupyter-widgets/controls",
          "model_name": "HTMLModel",
          "model_module_version": "1.5.0",
          "state": {
            "_dom_classes": [],
            "_model_module": "@jupyter-widgets/controls",
            "_model_module_version": "1.5.0",
            "_model_name": "HTMLModel",
            "_view_count": null,
            "_view_module": "@jupyter-widgets/controls",
            "_view_module_version": "1.5.0",
            "_view_name": "HTMLView",
            "description": "",
            "description_tooltip": null,
            "layout": "IPY_MODEL_b0b5c1a83cf645ef83896e86bf6cef83",
            "placeholder": "​",
            "style": "IPY_MODEL_2b6706722a0346ed85f53d319cf2ed0e",
            "value": " 500/500 [03:16&lt;00:00,  2.17it/s]"
          }
        },
        "b77d8e9e2c47498ca138b73e16eaea93": {
          "model_module": "@jupyter-widgets/base",
          "model_name": "LayoutModel",
          "model_module_version": "1.2.0",
          "state": {
            "_model_module": "@jupyter-widgets/base",
            "_model_module_version": "1.2.0",
            "_model_name": "LayoutModel",
            "_view_count": null,
            "_view_module": "@jupyter-widgets/base",
            "_view_module_version": "1.2.0",
            "_view_name": "LayoutView",
            "align_content": null,
            "align_items": null,
            "align_self": null,
            "border": null,
            "bottom": null,
            "display": null,
            "flex": null,
            "flex_flow": null,
            "grid_area": null,
            "grid_auto_columns": null,
            "grid_auto_flow": null,
            "grid_auto_rows": null,
            "grid_column": null,
            "grid_gap": null,
            "grid_row": null,
            "grid_template_areas": null,
            "grid_template_columns": null,
            "grid_template_rows": null,
            "height": null,
            "justify_content": null,
            "justify_items": null,
            "left": null,
            "margin": null,
            "max_height": null,
            "max_width": null,
            "min_height": null,
            "min_width": null,
            "object_fit": null,
            "object_position": null,
            "order": null,
            "overflow": null,
            "overflow_x": null,
            "overflow_y": null,
            "padding": null,
            "right": null,
            "top": null,
            "visibility": null,
            "width": null
          }
        },
        "073ffa1a8b32419ca8e1d2e6fb95ac84": {
          "model_module": "@jupyter-widgets/base",
          "model_name": "LayoutModel",
          "model_module_version": "1.2.0",
          "state": {
            "_model_module": "@jupyter-widgets/base",
            "_model_module_version": "1.2.0",
            "_model_name": "LayoutModel",
            "_view_count": null,
            "_view_module": "@jupyter-widgets/base",
            "_view_module_version": "1.2.0",
            "_view_name": "LayoutView",
            "align_content": null,
            "align_items": null,
            "align_self": null,
            "border": null,
            "bottom": null,
            "display": null,
            "flex": null,
            "flex_flow": null,
            "grid_area": null,
            "grid_auto_columns": null,
            "grid_auto_flow": null,
            "grid_auto_rows": null,
            "grid_column": null,
            "grid_gap": null,
            "grid_row": null,
            "grid_template_areas": null,
            "grid_template_columns": null,
            "grid_template_rows": null,
            "height": null,
            "justify_content": null,
            "justify_items": null,
            "left": null,
            "margin": null,
            "max_height": null,
            "max_width": null,
            "min_height": null,
            "min_width": null,
            "object_fit": null,
            "object_position": null,
            "order": null,
            "overflow": null,
            "overflow_x": null,
            "overflow_y": null,
            "padding": null,
            "right": null,
            "top": null,
            "visibility": null,
            "width": null
          }
        },
        "12e476dbac4d4434a24a83c170cfe3e6": {
          "model_module": "@jupyter-widgets/controls",
          "model_name": "DescriptionStyleModel",
          "model_module_version": "1.5.0",
          "state": {
            "_model_module": "@jupyter-widgets/controls",
            "_model_module_version": "1.5.0",
            "_model_name": "DescriptionStyleModel",
            "_view_count": null,
            "_view_module": "@jupyter-widgets/base",
            "_view_module_version": "1.2.0",
            "_view_name": "StyleView",
            "description_width": ""
          }
        },
        "558cd880b69342718a4a9482f79d543a": {
          "model_module": "@jupyter-widgets/base",
          "model_name": "LayoutModel",
          "model_module_version": "1.2.0",
          "state": {
            "_model_module": "@jupyter-widgets/base",
            "_model_module_version": "1.2.0",
            "_model_name": "LayoutModel",
            "_view_count": null,
            "_view_module": "@jupyter-widgets/base",
            "_view_module_version": "1.2.0",
            "_view_name": "LayoutView",
            "align_content": null,
            "align_items": null,
            "align_self": null,
            "border": null,
            "bottom": null,
            "display": null,
            "flex": null,
            "flex_flow": null,
            "grid_area": null,
            "grid_auto_columns": null,
            "grid_auto_flow": null,
            "grid_auto_rows": null,
            "grid_column": null,
            "grid_gap": null,
            "grid_row": null,
            "grid_template_areas": null,
            "grid_template_columns": null,
            "grid_template_rows": null,
            "height": null,
            "justify_content": null,
            "justify_items": null,
            "left": null,
            "margin": null,
            "max_height": null,
            "max_width": null,
            "min_height": null,
            "min_width": null,
            "object_fit": null,
            "object_position": null,
            "order": null,
            "overflow": null,
            "overflow_x": null,
            "overflow_y": null,
            "padding": null,
            "right": null,
            "top": null,
            "visibility": null,
            "width": null
          }
        },
        "32bbad9c5a1642c38ac8d27d1ae2a0f7": {
          "model_module": "@jupyter-widgets/controls",
          "model_name": "ProgressStyleModel",
          "model_module_version": "1.5.0",
          "state": {
            "_model_module": "@jupyter-widgets/controls",
            "_model_module_version": "1.5.0",
            "_model_name": "ProgressStyleModel",
            "_view_count": null,
            "_view_module": "@jupyter-widgets/base",
            "_view_module_version": "1.2.0",
            "_view_name": "StyleView",
            "bar_color": null,
            "description_width": ""
          }
        },
        "b0b5c1a83cf645ef83896e86bf6cef83": {
          "model_module": "@jupyter-widgets/base",
          "model_name": "LayoutModel",
          "model_module_version": "1.2.0",
          "state": {
            "_model_module": "@jupyter-widgets/base",
            "_model_module_version": "1.2.0",
            "_model_name": "LayoutModel",
            "_view_count": null,
            "_view_module": "@jupyter-widgets/base",
            "_view_module_version": "1.2.0",
            "_view_name": "LayoutView",
            "align_content": null,
            "align_items": null,
            "align_self": null,
            "border": null,
            "bottom": null,
            "display": null,
            "flex": null,
            "flex_flow": null,
            "grid_area": null,
            "grid_auto_columns": null,
            "grid_auto_flow": null,
            "grid_auto_rows": null,
            "grid_column": null,
            "grid_gap": null,
            "grid_row": null,
            "grid_template_areas": null,
            "grid_template_columns": null,
            "grid_template_rows": null,
            "height": null,
            "justify_content": null,
            "justify_items": null,
            "left": null,
            "margin": null,
            "max_height": null,
            "max_width": null,
            "min_height": null,
            "min_width": null,
            "object_fit": null,
            "object_position": null,
            "order": null,
            "overflow": null,
            "overflow_x": null,
            "overflow_y": null,
            "padding": null,
            "right": null,
            "top": null,
            "visibility": null,
            "width": null
          }
        },
        "2b6706722a0346ed85f53d319cf2ed0e": {
          "model_module": "@jupyter-widgets/controls",
          "model_name": "DescriptionStyleModel",
          "model_module_version": "1.5.0",
          "state": {
            "_model_module": "@jupyter-widgets/controls",
            "_model_module_version": "1.5.0",
            "_model_name": "DescriptionStyleModel",
            "_view_count": null,
            "_view_module": "@jupyter-widgets/base",
            "_view_module_version": "1.2.0",
            "_view_name": "StyleView",
            "description_width": ""
          }
        },
        "6de684f278044438bd1c7e3f1524694e": {
          "model_module": "@jupyter-widgets/controls",
          "model_name": "HBoxModel",
          "model_module_version": "1.5.0",
          "state": {
            "_dom_classes": [],
            "_model_module": "@jupyter-widgets/controls",
            "_model_module_version": "1.5.0",
            "_model_name": "HBoxModel",
            "_view_count": null,
            "_view_module": "@jupyter-widgets/controls",
            "_view_module_version": "1.5.0",
            "_view_name": "HBoxView",
            "box_style": "",
            "children": [
              "IPY_MODEL_4bf80191775347729874fcae0fcd8ab5",
              "IPY_MODEL_753fc324fed74d31b3eff9b924c15d03",
              "IPY_MODEL_34bfee3947b348299c0e3e1af31968e7"
            ],
            "layout": "IPY_MODEL_d2b25ad4cd5042d88ed58a14c30f9862"
          }
        },
        "4bf80191775347729874fcae0fcd8ab5": {
          "model_module": "@jupyter-widgets/controls",
          "model_name": "HTMLModel",
          "model_module_version": "1.5.0",
          "state": {
            "_dom_classes": [],
            "_model_module": "@jupyter-widgets/controls",
            "_model_module_version": "1.5.0",
            "_model_name": "HTMLModel",
            "_view_count": null,
            "_view_module": "@jupyter-widgets/controls",
            "_view_module_version": "1.5.0",
            "_view_name": "HTMLView",
            "description": "",
            "description_tooltip": null,
            "layout": "IPY_MODEL_7ce025c5ed434501a6603d882ff57216",
            "placeholder": "​",
            "style": "IPY_MODEL_acd3a28d64c54db2930edc71d7252a1e",
            "value": "100%"
          }
        },
        "753fc324fed74d31b3eff9b924c15d03": {
          "model_module": "@jupyter-widgets/controls",
          "model_name": "FloatProgressModel",
          "model_module_version": "1.5.0",
          "state": {
            "_dom_classes": [],
            "_model_module": "@jupyter-widgets/controls",
            "_model_module_version": "1.5.0",
            "_model_name": "FloatProgressModel",
            "_view_count": null,
            "_view_module": "@jupyter-widgets/controls",
            "_view_module_version": "1.5.0",
            "_view_name": "ProgressView",
            "bar_style": "success",
            "description": "",
            "description_tooltip": null,
            "layout": "IPY_MODEL_29ed06cff1d34af3bbd0d5f6ce6c99d8",
            "max": 500,
            "min": 0,
            "orientation": "horizontal",
            "style": "IPY_MODEL_94535dc4aca74a9ca37f6fb297c48262",
            "value": 500
          }
        },
        "34bfee3947b348299c0e3e1af31968e7": {
          "model_module": "@jupyter-widgets/controls",
          "model_name": "HTMLModel",
          "model_module_version": "1.5.0",
          "state": {
            "_dom_classes": [],
            "_model_module": "@jupyter-widgets/controls",
            "_model_module_version": "1.5.0",
            "_model_name": "HTMLModel",
            "_view_count": null,
            "_view_module": "@jupyter-widgets/controls",
            "_view_module_version": "1.5.0",
            "_view_name": "HTMLView",
            "description": "",
            "description_tooltip": null,
            "layout": "IPY_MODEL_e283f3b3251341a19ab45bdae5eb3e49",
            "placeholder": "​",
            "style": "IPY_MODEL_aceb71caa29442c68b3236c7d07e61d5",
            "value": " 500/500 [03:44&lt;00:00,  2.32it/s]"
          }
        },
        "d2b25ad4cd5042d88ed58a14c30f9862": {
          "model_module": "@jupyter-widgets/base",
          "model_name": "LayoutModel",
          "model_module_version": "1.2.0",
          "state": {
            "_model_module": "@jupyter-widgets/base",
            "_model_module_version": "1.2.0",
            "_model_name": "LayoutModel",
            "_view_count": null,
            "_view_module": "@jupyter-widgets/base",
            "_view_module_version": "1.2.0",
            "_view_name": "LayoutView",
            "align_content": null,
            "align_items": null,
            "align_self": null,
            "border": null,
            "bottom": null,
            "display": null,
            "flex": null,
            "flex_flow": null,
            "grid_area": null,
            "grid_auto_columns": null,
            "grid_auto_flow": null,
            "grid_auto_rows": null,
            "grid_column": null,
            "grid_gap": null,
            "grid_row": null,
            "grid_template_areas": null,
            "grid_template_columns": null,
            "grid_template_rows": null,
            "height": null,
            "justify_content": null,
            "justify_items": null,
            "left": null,
            "margin": null,
            "max_height": null,
            "max_width": null,
            "min_height": null,
            "min_width": null,
            "object_fit": null,
            "object_position": null,
            "order": null,
            "overflow": null,
            "overflow_x": null,
            "overflow_y": null,
            "padding": null,
            "right": null,
            "top": null,
            "visibility": null,
            "width": null
          }
        },
        "7ce025c5ed434501a6603d882ff57216": {
          "model_module": "@jupyter-widgets/base",
          "model_name": "LayoutModel",
          "model_module_version": "1.2.0",
          "state": {
            "_model_module": "@jupyter-widgets/base",
            "_model_module_version": "1.2.0",
            "_model_name": "LayoutModel",
            "_view_count": null,
            "_view_module": "@jupyter-widgets/base",
            "_view_module_version": "1.2.0",
            "_view_name": "LayoutView",
            "align_content": null,
            "align_items": null,
            "align_self": null,
            "border": null,
            "bottom": null,
            "display": null,
            "flex": null,
            "flex_flow": null,
            "grid_area": null,
            "grid_auto_columns": null,
            "grid_auto_flow": null,
            "grid_auto_rows": null,
            "grid_column": null,
            "grid_gap": null,
            "grid_row": null,
            "grid_template_areas": null,
            "grid_template_columns": null,
            "grid_template_rows": null,
            "height": null,
            "justify_content": null,
            "justify_items": null,
            "left": null,
            "margin": null,
            "max_height": null,
            "max_width": null,
            "min_height": null,
            "min_width": null,
            "object_fit": null,
            "object_position": null,
            "order": null,
            "overflow": null,
            "overflow_x": null,
            "overflow_y": null,
            "padding": null,
            "right": null,
            "top": null,
            "visibility": null,
            "width": null
          }
        },
        "acd3a28d64c54db2930edc71d7252a1e": {
          "model_module": "@jupyter-widgets/controls",
          "model_name": "DescriptionStyleModel",
          "model_module_version": "1.5.0",
          "state": {
            "_model_module": "@jupyter-widgets/controls",
            "_model_module_version": "1.5.0",
            "_model_name": "DescriptionStyleModel",
            "_view_count": null,
            "_view_module": "@jupyter-widgets/base",
            "_view_module_version": "1.2.0",
            "_view_name": "StyleView",
            "description_width": ""
          }
        },
        "29ed06cff1d34af3bbd0d5f6ce6c99d8": {
          "model_module": "@jupyter-widgets/base",
          "model_name": "LayoutModel",
          "model_module_version": "1.2.0",
          "state": {
            "_model_module": "@jupyter-widgets/base",
            "_model_module_version": "1.2.0",
            "_model_name": "LayoutModel",
            "_view_count": null,
            "_view_module": "@jupyter-widgets/base",
            "_view_module_version": "1.2.0",
            "_view_name": "LayoutView",
            "align_content": null,
            "align_items": null,
            "align_self": null,
            "border": null,
            "bottom": null,
            "display": null,
            "flex": null,
            "flex_flow": null,
            "grid_area": null,
            "grid_auto_columns": null,
            "grid_auto_flow": null,
            "grid_auto_rows": null,
            "grid_column": null,
            "grid_gap": null,
            "grid_row": null,
            "grid_template_areas": null,
            "grid_template_columns": null,
            "grid_template_rows": null,
            "height": null,
            "justify_content": null,
            "justify_items": null,
            "left": null,
            "margin": null,
            "max_height": null,
            "max_width": null,
            "min_height": null,
            "min_width": null,
            "object_fit": null,
            "object_position": null,
            "order": null,
            "overflow": null,
            "overflow_x": null,
            "overflow_y": null,
            "padding": null,
            "right": null,
            "top": null,
            "visibility": null,
            "width": null
          }
        },
        "94535dc4aca74a9ca37f6fb297c48262": {
          "model_module": "@jupyter-widgets/controls",
          "model_name": "ProgressStyleModel",
          "model_module_version": "1.5.0",
          "state": {
            "_model_module": "@jupyter-widgets/controls",
            "_model_module_version": "1.5.0",
            "_model_name": "ProgressStyleModel",
            "_view_count": null,
            "_view_module": "@jupyter-widgets/base",
            "_view_module_version": "1.2.0",
            "_view_name": "StyleView",
            "bar_color": null,
            "description_width": ""
          }
        },
        "e283f3b3251341a19ab45bdae5eb3e49": {
          "model_module": "@jupyter-widgets/base",
          "model_name": "LayoutModel",
          "model_module_version": "1.2.0",
          "state": {
            "_model_module": "@jupyter-widgets/base",
            "_model_module_version": "1.2.0",
            "_model_name": "LayoutModel",
            "_view_count": null,
            "_view_module": "@jupyter-widgets/base",
            "_view_module_version": "1.2.0",
            "_view_name": "LayoutView",
            "align_content": null,
            "align_items": null,
            "align_self": null,
            "border": null,
            "bottom": null,
            "display": null,
            "flex": null,
            "flex_flow": null,
            "grid_area": null,
            "grid_auto_columns": null,
            "grid_auto_flow": null,
            "grid_auto_rows": null,
            "grid_column": null,
            "grid_gap": null,
            "grid_row": null,
            "grid_template_areas": null,
            "grid_template_columns": null,
            "grid_template_rows": null,
            "height": null,
            "justify_content": null,
            "justify_items": null,
            "left": null,
            "margin": null,
            "max_height": null,
            "max_width": null,
            "min_height": null,
            "min_width": null,
            "object_fit": null,
            "object_position": null,
            "order": null,
            "overflow": null,
            "overflow_x": null,
            "overflow_y": null,
            "padding": null,
            "right": null,
            "top": null,
            "visibility": null,
            "width": null
          }
        },
        "aceb71caa29442c68b3236c7d07e61d5": {
          "model_module": "@jupyter-widgets/controls",
          "model_name": "DescriptionStyleModel",
          "model_module_version": "1.5.0",
          "state": {
            "_model_module": "@jupyter-widgets/controls",
            "_model_module_version": "1.5.0",
            "_model_name": "DescriptionStyleModel",
            "_view_count": null,
            "_view_module": "@jupyter-widgets/base",
            "_view_module_version": "1.2.0",
            "_view_name": "StyleView",
            "description_width": ""
          }
        },
        "cff9e9ee0bd1424e9f50ef5fa99f3b55": {
          "model_module": "@jupyter-widgets/controls",
          "model_name": "HBoxModel",
          "model_module_version": "1.5.0",
          "state": {
            "_dom_classes": [],
            "_model_module": "@jupyter-widgets/controls",
            "_model_module_version": "1.5.0",
            "_model_name": "HBoxModel",
            "_view_count": null,
            "_view_module": "@jupyter-widgets/controls",
            "_view_module_version": "1.5.0",
            "_view_name": "HBoxView",
            "box_style": "",
            "children": [
              "IPY_MODEL_3ff29d17f01345dabfd487565c0414f6",
              "IPY_MODEL_be8694ccaa6447a7a1d128755a9ac31c",
              "IPY_MODEL_72358f5e778e49d49a5a4bc68edeaafe"
            ],
            "layout": "IPY_MODEL_8fce8eb5f80d4323af02bc8069b2d398"
          }
        },
        "3ff29d17f01345dabfd487565c0414f6": {
          "model_module": "@jupyter-widgets/controls",
          "model_name": "HTMLModel",
          "model_module_version": "1.5.0",
          "state": {
            "_dom_classes": [],
            "_model_module": "@jupyter-widgets/controls",
            "_model_module_version": "1.5.0",
            "_model_name": "HTMLModel",
            "_view_count": null,
            "_view_module": "@jupyter-widgets/controls",
            "_view_module_version": "1.5.0",
            "_view_name": "HTMLView",
            "description": "",
            "description_tooltip": null,
            "layout": "IPY_MODEL_3859ac72b12647e1a3aae253ae94529f",
            "placeholder": "​",
            "style": "IPY_MODEL_7c3f9e784f0c4b3a83a41b4ec303e33e",
            "value": "100%"
          }
        },
        "be8694ccaa6447a7a1d128755a9ac31c": {
          "model_module": "@jupyter-widgets/controls",
          "model_name": "FloatProgressModel",
          "model_module_version": "1.5.0",
          "state": {
            "_dom_classes": [],
            "_model_module": "@jupyter-widgets/controls",
            "_model_module_version": "1.5.0",
            "_model_name": "FloatProgressModel",
            "_view_count": null,
            "_view_module": "@jupyter-widgets/controls",
            "_view_module_version": "1.5.0",
            "_view_name": "ProgressView",
            "bar_style": "success",
            "description": "",
            "description_tooltip": null,
            "layout": "IPY_MODEL_bfeb3d537340419a910eeb2eea05cd98",
            "max": 500,
            "min": 0,
            "orientation": "horizontal",
            "style": "IPY_MODEL_e82653bdcf4f4192a2d92e8243ca79ec",
            "value": 500
          }
        },
        "72358f5e778e49d49a5a4bc68edeaafe": {
          "model_module": "@jupyter-widgets/controls",
          "model_name": "HTMLModel",
          "model_module_version": "1.5.0",
          "state": {
            "_dom_classes": [],
            "_model_module": "@jupyter-widgets/controls",
            "_model_module_version": "1.5.0",
            "_model_name": "HTMLModel",
            "_view_count": null,
            "_view_module": "@jupyter-widgets/controls",
            "_view_module_version": "1.5.0",
            "_view_name": "HTMLView",
            "description": "",
            "description_tooltip": null,
            "layout": "IPY_MODEL_6dfab8252b824496baefb5225449cff1",
            "placeholder": "​",
            "style": "IPY_MODEL_09bcae0a51394aa28196ea0e6b6365bd",
            "value": " 500/500 [03:34&lt;00:00,  2.47it/s]"
          }
        },
        "8fce8eb5f80d4323af02bc8069b2d398": {
          "model_module": "@jupyter-widgets/base",
          "model_name": "LayoutModel",
          "model_module_version": "1.2.0",
          "state": {
            "_model_module": "@jupyter-widgets/base",
            "_model_module_version": "1.2.0",
            "_model_name": "LayoutModel",
            "_view_count": null,
            "_view_module": "@jupyter-widgets/base",
            "_view_module_version": "1.2.0",
            "_view_name": "LayoutView",
            "align_content": null,
            "align_items": null,
            "align_self": null,
            "border": null,
            "bottom": null,
            "display": null,
            "flex": null,
            "flex_flow": null,
            "grid_area": null,
            "grid_auto_columns": null,
            "grid_auto_flow": null,
            "grid_auto_rows": null,
            "grid_column": null,
            "grid_gap": null,
            "grid_row": null,
            "grid_template_areas": null,
            "grid_template_columns": null,
            "grid_template_rows": null,
            "height": null,
            "justify_content": null,
            "justify_items": null,
            "left": null,
            "margin": null,
            "max_height": null,
            "max_width": null,
            "min_height": null,
            "min_width": null,
            "object_fit": null,
            "object_position": null,
            "order": null,
            "overflow": null,
            "overflow_x": null,
            "overflow_y": null,
            "padding": null,
            "right": null,
            "top": null,
            "visibility": null,
            "width": null
          }
        },
        "3859ac72b12647e1a3aae253ae94529f": {
          "model_module": "@jupyter-widgets/base",
          "model_name": "LayoutModel",
          "model_module_version": "1.2.0",
          "state": {
            "_model_module": "@jupyter-widgets/base",
            "_model_module_version": "1.2.0",
            "_model_name": "LayoutModel",
            "_view_count": null,
            "_view_module": "@jupyter-widgets/base",
            "_view_module_version": "1.2.0",
            "_view_name": "LayoutView",
            "align_content": null,
            "align_items": null,
            "align_self": null,
            "border": null,
            "bottom": null,
            "display": null,
            "flex": null,
            "flex_flow": null,
            "grid_area": null,
            "grid_auto_columns": null,
            "grid_auto_flow": null,
            "grid_auto_rows": null,
            "grid_column": null,
            "grid_gap": null,
            "grid_row": null,
            "grid_template_areas": null,
            "grid_template_columns": null,
            "grid_template_rows": null,
            "height": null,
            "justify_content": null,
            "justify_items": null,
            "left": null,
            "margin": null,
            "max_height": null,
            "max_width": null,
            "min_height": null,
            "min_width": null,
            "object_fit": null,
            "object_position": null,
            "order": null,
            "overflow": null,
            "overflow_x": null,
            "overflow_y": null,
            "padding": null,
            "right": null,
            "top": null,
            "visibility": null,
            "width": null
          }
        },
        "7c3f9e784f0c4b3a83a41b4ec303e33e": {
          "model_module": "@jupyter-widgets/controls",
          "model_name": "DescriptionStyleModel",
          "model_module_version": "1.5.0",
          "state": {
            "_model_module": "@jupyter-widgets/controls",
            "_model_module_version": "1.5.0",
            "_model_name": "DescriptionStyleModel",
            "_view_count": null,
            "_view_module": "@jupyter-widgets/base",
            "_view_module_version": "1.2.0",
            "_view_name": "StyleView",
            "description_width": ""
          }
        },
        "bfeb3d537340419a910eeb2eea05cd98": {
          "model_module": "@jupyter-widgets/base",
          "model_name": "LayoutModel",
          "model_module_version": "1.2.0",
          "state": {
            "_model_module": "@jupyter-widgets/base",
            "_model_module_version": "1.2.0",
            "_model_name": "LayoutModel",
            "_view_count": null,
            "_view_module": "@jupyter-widgets/base",
            "_view_module_version": "1.2.0",
            "_view_name": "LayoutView",
            "align_content": null,
            "align_items": null,
            "align_self": null,
            "border": null,
            "bottom": null,
            "display": null,
            "flex": null,
            "flex_flow": null,
            "grid_area": null,
            "grid_auto_columns": null,
            "grid_auto_flow": null,
            "grid_auto_rows": null,
            "grid_column": null,
            "grid_gap": null,
            "grid_row": null,
            "grid_template_areas": null,
            "grid_template_columns": null,
            "grid_template_rows": null,
            "height": null,
            "justify_content": null,
            "justify_items": null,
            "left": null,
            "margin": null,
            "max_height": null,
            "max_width": null,
            "min_height": null,
            "min_width": null,
            "object_fit": null,
            "object_position": null,
            "order": null,
            "overflow": null,
            "overflow_x": null,
            "overflow_y": null,
            "padding": null,
            "right": null,
            "top": null,
            "visibility": null,
            "width": null
          }
        },
        "e82653bdcf4f4192a2d92e8243ca79ec": {
          "model_module": "@jupyter-widgets/controls",
          "model_name": "ProgressStyleModel",
          "model_module_version": "1.5.0",
          "state": {
            "_model_module": "@jupyter-widgets/controls",
            "_model_module_version": "1.5.0",
            "_model_name": "ProgressStyleModel",
            "_view_count": null,
            "_view_module": "@jupyter-widgets/base",
            "_view_module_version": "1.2.0",
            "_view_name": "StyleView",
            "bar_color": null,
            "description_width": ""
          }
        },
        "6dfab8252b824496baefb5225449cff1": {
          "model_module": "@jupyter-widgets/base",
          "model_name": "LayoutModel",
          "model_module_version": "1.2.0",
          "state": {
            "_model_module": "@jupyter-widgets/base",
            "_model_module_version": "1.2.0",
            "_model_name": "LayoutModel",
            "_view_count": null,
            "_view_module": "@jupyter-widgets/base",
            "_view_module_version": "1.2.0",
            "_view_name": "LayoutView",
            "align_content": null,
            "align_items": null,
            "align_self": null,
            "border": null,
            "bottom": null,
            "display": null,
            "flex": null,
            "flex_flow": null,
            "grid_area": null,
            "grid_auto_columns": null,
            "grid_auto_flow": null,
            "grid_auto_rows": null,
            "grid_column": null,
            "grid_gap": null,
            "grid_row": null,
            "grid_template_areas": null,
            "grid_template_columns": null,
            "grid_template_rows": null,
            "height": null,
            "justify_content": null,
            "justify_items": null,
            "left": null,
            "margin": null,
            "max_height": null,
            "max_width": null,
            "min_height": null,
            "min_width": null,
            "object_fit": null,
            "object_position": null,
            "order": null,
            "overflow": null,
            "overflow_x": null,
            "overflow_y": null,
            "padding": null,
            "right": null,
            "top": null,
            "visibility": null,
            "width": null
          }
        },
        "09bcae0a51394aa28196ea0e6b6365bd": {
          "model_module": "@jupyter-widgets/controls",
          "model_name": "DescriptionStyleModel",
          "model_module_version": "1.5.0",
          "state": {
            "_model_module": "@jupyter-widgets/controls",
            "_model_module_version": "1.5.0",
            "_model_name": "DescriptionStyleModel",
            "_view_count": null,
            "_view_module": "@jupyter-widgets/base",
            "_view_module_version": "1.2.0",
            "_view_name": "StyleView",
            "description_width": ""
          }
        }
      }
    }
  },
  "cells": [
    {
      "cell_type": "code",
      "source": [
        "!pip install sentence-transformers -q\n",
        "!pip install metric4coref -q"
      ],
      "metadata": {
        "id": "hkqOWUvaiK2p"
      },
      "execution_count": null,
      "outputs": []
    },
    {
      "cell_type": "code",
      "execution_count": null,
      "metadata": {
        "colab": {
          "base_uri": "https://localhost:8080/"
        },
        "id": "N2x2V3frt27e",
        "outputId": "96bd12e3-9043-4f21-ce9b-fa0ab4df8ed4"
      },
      "outputs": [
        {
          "output_type": "stream",
          "name": "stdout",
          "text": [
            "Drive already mounted at /content/drive; to attempt to forcibly remount, call drive.mount(\"/content/drive\", force_remount=True).\n"
          ]
        }
      ],
      "source": [
        "from google.colab import files, drive\n",
        "import pandas as pd\n",
        "import re\n",
        "from tqdm.auto import tqdm\n",
        "import json\n",
        "\n",
        "\n",
        "drive.mount('/content/drive')"
      ]
    },
    {
      "cell_type": "code",
      "source": [
        "import nltk\n",
        "from sklearn.metrics.pairwise import cosine_similarity\n",
        "from metric4coref import muc, ceaf\n",
        "from sentence_transformers import SentenceTransformer\n",
        "\n",
        "model = SentenceTransformer('bert-base-nli-mean-tokens') \n"
      ],
      "metadata": {
        "id": "Z4YnyaLPdUe0"
      },
      "execution_count": null,
      "outputs": []
    },
    {
      "cell_type": "markdown",
      "source": [
        "# metrics"
      ],
      "metadata": {
        "id": "zoZYjT7dOSYO"
      }
    },
    {
      "cell_type": "code",
      "source": [
        "def evaluate_muc_ceaf_bcubed_f1(df, answer_aspect, answer_objects):\n",
        "  muc_objects, muc_aspect = [], []\n",
        "  ceaf_objects, ceaf_aspect = [], []\n",
        "\n",
        "  for i in range(len(df)):\n",
        "    objs = [df.iloc[i,1].lower(), df.iloc[i,2].lower()]\n",
        "    objs = [obj+'_' if len(obj)==1 else obj for obj in objs]\n",
        "    aspect = df.iloc[i,3].lower()\n",
        "\n",
        "    pred_objects = [ans.lower() for ans in answer_objects[i]]\n",
        "    pred_objects = [obj+'_' if len(obj)==1 else obj for obj in pred_objects]\n",
        "    pred_aspect = answer_aspect[i].lower()\n",
        "\n",
        "    if aspect == '':\n",
        "      split_aspect = [['_', '_']]\n",
        "    elif len(aspect) == 1:\n",
        "      split_aspect = [[i for i in aspect]]\n",
        "      split_aspect[0].append('_')\n",
        "    else:\n",
        "      split_aspect = [[i for i in aspect]]\n",
        "\n",
        "    if pred_aspect == '':\n",
        "      split_pred_aspect = [['_', '_']]\n",
        "    elif len(pred_aspect) == 1:\n",
        "      split_pred_aspect = [[i for i in pred_aspect]]\n",
        "      split_pred_aspect[0].append('_')\n",
        "    else:\n",
        "      split_pred_aspect = [[i for i in pred_aspect]]\n",
        "\n",
        "    split_objs = [[i for i in obj] for obj in objs]\n",
        "    if pred_objects == []:\n",
        "      split_pred_objs = [['_', '_'], ['_', '_']]\n",
        "    elif len(pred_objects) == 1:\n",
        "      split_pred_objs = [[i for i in obj] for obj in pred_objects]\n",
        "      split_pred_objs.append(['_', '_'])\n",
        "    else:\n",
        "      split_pred_objs = [[i for i in obj] for obj in pred_objects]\n",
        "\n",
        "    muc_objects.append(muc(split_pred_objs, split_objs))\n",
        "    muc_aspect.append(muc(split_pred_aspect, split_aspect))\n",
        "\n",
        "    ceaf_objects.append(ceaf(split_pred_objs, split_objs))\n",
        "    ceaf_aspect.append(ceaf(split_pred_aspect, split_aspect))\n",
        "\n",
        "\n",
        "  print('MUC')\n",
        "  print('Objects:')\n",
        "  print(f'''  precision: {sum([m[0] for m in muc_objects])/len(muc_objects)}\n",
        "  recall: {sum([m[1] for m in muc_objects])/len(muc_objects)}\n",
        "  f-score: {sum([m[2] for m in muc_objects])/len(muc_objects)}''')\n",
        "  print('Aspect:')\n",
        "  print(f'''  precision: {sum([m[0] for m in muc_aspect])/len(muc_aspect)}\n",
        "  recall: {sum([m[1] for m in muc_aspect])/len(muc_aspect)}\n",
        "  f-score: {sum([m[2] for m in muc_aspect])/len(muc_aspect)}''')\n",
        "  \n",
        "  print('\\nCEAF')\n",
        "  print('Objects:')\n",
        "  print(f'''  precision: {sum([c[0] for c in ceaf_objects])/len(ceaf_objects)}\n",
        "  recall: {sum([c[1] for c in ceaf_objects])/len(ceaf_objects)}\n",
        "  f-score: {sum([c[2] for c in ceaf_objects])/len(ceaf_objects)}''')\n",
        "  print('Aspect:')\n",
        "  print(f'''  precision: {sum([c[0] for c in ceaf_aspect])/len(ceaf_aspect)}\n",
        "  recall: {sum([c[1] for c in ceaf_aspect])/len(ceaf_aspect)}\n",
        "  f-score: {sum([c[2] for c in ceaf_aspect])/len(ceaf_aspect)}''')\n",
        "  \n",
        "\n"
      ],
      "metadata": {
        "id": "xOZr8mwSWeLR"
      },
      "execution_count": null,
      "outputs": []
    },
    {
      "cell_type": "code",
      "source": [
        "def evaluate_full_match(df, answer_aspect, answer_objects):\n",
        "  correct_answers = 0\n",
        "  correct_aspects = 0\n",
        "\n",
        "  for i in range(len(df)):\n",
        "    objs = [df.iloc[i,1].lower(), df.iloc[i,2].lower()]\n",
        "    aspect = df.iloc[i,3].lower()\n",
        "\n",
        "    pred_aspect = answer_aspect[i].lower()\n",
        "    pred_objects = [ans.lower() for ans in answer_objects[i]]\n",
        "\n",
        "    objs = [re.sub('[^a-z0-9]+the ', ' ', obj) for obj in objs]\n",
        "    objs = [re.sub(' +', ' ', obj) for obj in objs]\n",
        "\n",
        "    if set(objs) == set(pred_objects):\n",
        "      correct_answers += 1\n",
        "\n",
        "    if pred_aspect == aspect:\n",
        "      correct_aspects += 1\n",
        "\n",
        "  print(f'Objects: {correct_answers/len(df)}')\n",
        "  print(f'Aspect: {correct_aspects/len(df)}')"
      ],
      "metadata": {
        "id": "PH2P_Pz7AEGJ"
      },
      "execution_count": null,
      "outputs": []
    },
    {
      "cell_type": "code",
      "source": [
        "def cosine_sim(text1, text2):\n",
        "    emb1 = [model.encode(text1)]\n",
        "    emb2 = [model.encode(text2)]\n",
        "    return cosine_similarity(emb1, emb2)[0][0]"
      ],
      "metadata": {
        "id": "MiwT8hxKdl2h"
      },
      "execution_count": null,
      "outputs": []
    },
    {
      "cell_type": "code",
      "source": [
        "unnes_asps = ['better', 'difference', 'worse', 'different', 'win', 'best', \n",
        "              'worst', 'differences', 'bad', 'good', 'common', 'same', \n",
        "              'alike', 'like', 'likes', 'do', '-', 'than', 'as']"
      ],
      "metadata": {
        "id": "up6LxoVqVgIW"
      },
      "execution_count": null,
      "outputs": []
    },
    {
      "cell_type": "code",
      "source": [
        "def delete_unnes_aspects(df, unnes_asps):\n",
        "  df['aspect'].fillna('', inplace=True)\n",
        "  for asp in unnes_asps:\n",
        "    df['aspect'].replace(asp, '', inplace=True)\n",
        "  return df"
      ],
      "metadata": {
        "id": "snQS119yWQx-"
      },
      "execution_count": null,
      "outputs": []
    },
    {
      "cell_type": "code",
      "source": [
        "def evaluate_edit_distance(df, answer_aspect, answer_objects):\n",
        "  object_distance = []\n",
        "  aspect_distance = []\n",
        "\n",
        "  for i in range(len(df)):\n",
        "    objs = [df.iloc[i,1].lower(), df.iloc[i,2].lower()]\n",
        "    aspect = df.iloc[i,3].lower()\n",
        "\n",
        "    pred_aspect = answer_aspect[i].lower()    \n",
        "    pred_objects = [ans.lower() for ans in answer_objects[i]]\n",
        "\n",
        "    if set(objs) == set(pred_objects):\n",
        "      object_distance.append(0)\n",
        "    elif len(objs) == len(pred_objects):\n",
        "      ed_obj1 = nltk.edit_distance(objs[0], pred_objects[0], transpositions=False)\n",
        "      ed_obj2 = nltk.edit_distance(objs[1], pred_objects[1], transpositions=False)\n",
        "      object_distance.append((ed_obj1+ed_obj2)/2)\n",
        "\n",
        "    if pred_aspect: \n",
        "      aspect_distance.append(nltk.edit_distance(pred_aspect, aspect, transpositions=False))\n",
        "    if not pred_aspect and not aspect:\n",
        "      aspect_distance.append(0)\n",
        "\n",
        "  print(f'Objects: {sum(object_distance)/len(object_distance)}')\n",
        "  print(f'Aspect: {sum(aspect_distance)/len(aspect_distance)}')"
      ],
      "metadata": {
        "id": "gKl8p7QmNlLT"
      },
      "execution_count": null,
      "outputs": []
    },
    {
      "cell_type": "code",
      "source": [
        "def evaluate_full_match(df, answer_aspect, answer_objects):\n",
        "  correct_answers = 0\n",
        "  correct_aspects = 0\n",
        "\n",
        "  for i in range(len(df)):\n",
        "    objs = [df.iloc[i,1].lower(), df.iloc[i,2].lower()]\n",
        "    aspect = df.iloc[i,3].lower()\n",
        "\n",
        "    pred_aspect = answer_aspect[i].lower()\n",
        "    pred_objects = [ans.lower() for ans in answer_objects[i]]\n",
        "\n",
        "    objs = [re.sub('[^a-z0-9]+the ', ' ', obj) for obj in objs]\n",
        "    objs = [re.sub(' +', ' ', obj) for obj in objs]\n",
        "\n",
        "    if set(objs) == set(pred_objects):\n",
        "      correct_answers += 1\n",
        "\n",
        "    if pred_aspect == aspect:\n",
        "      correct_aspects += 1\n",
        "\n",
        "  print(f'Objects: {correct_answers/len(df)}')\n",
        "  print(f'Aspect: {correct_aspects/len(df)}')"
      ],
      "metadata": {
        "id": "PLOE85lZPHxU"
      },
      "execution_count": null,
      "outputs": []
    },
    {
      "cell_type": "code",
      "source": [
        "def evaluate_cos_sim(df, answer_aspect, answer_objects):\n",
        "  cos_objects = []\n",
        "  cos_aspects = []\n",
        "\n",
        "  for i in tqdm(range(len(df))):\n",
        "    objs = [df.iloc[i,1].lower(), df.iloc[i,2].lower()]\n",
        "    aspect = df.iloc[i,3].lower()\n",
        "\n",
        "    pred_aspect = answer_aspect[i].lower()\n",
        "    pred_objs = [ans.lower() for ans in answer_objects[i]]\n",
        "\n",
        "    if len(objs) == len(pred_objs):\n",
        "      ob1_cos = cosine_sim(pred_objs[0], objs[0])\n",
        "      ob2_cos = cosine_sim(pred_objs[1], objs[1])\n",
        "      cos_objects.append((ob1_cos+ob2_cos)/2)\n",
        "    else:\n",
        "      cos_objects.append(0)\n",
        "\n",
        "    if aspect and pred_aspect:\n",
        "      cos_aspects.append(cosine_sim(pred_aspect, aspect))\n",
        "    elif not aspect and not pred_aspect:\n",
        "      cos_aspects.append(1)\n",
        "    else:\n",
        "      cos_aspects.append(0)\n",
        "\n",
        "  print(f'Objects: {sum(cos_objects)/len(cos_objects)}')\n",
        "  print(f'Aspect: {sum(cos_aspects)/len(cos_aspects)}')"
      ],
      "metadata": {
        "id": "BIeQyGoeQhqH"
      },
      "execution_count": null,
      "outputs": []
    },
    {
      "cell_type": "code",
      "source": [
        "def evaluate_cos_sim_found(df, answer_aspect, answer_objects):\n",
        "  cos_objects = []\n",
        "  cos_aspects = []\n",
        "\n",
        "  for i in tqdm(range(len(df))):\n",
        "    objs = [df.iloc[i,1].lower(), df.iloc[i,2].lower()]\n",
        "    aspect = df.iloc[i,3].lower()\n",
        "\n",
        "    pred_aspect = answer_aspect[i].lower()\n",
        "    pred_objs = [ans.lower() for ans in answer_objects[i]]\n",
        "\n",
        "    if len(objs) == len(pred_objs):\n",
        "      ob1_cos = cosine_sim(pred_objs[0], objs[0])\n",
        "      ob2_cos = cosine_sim(pred_objs[1], objs[1])\n",
        "      cos_objects.append((ob1_cos+ob2_cos)/2) \n",
        "    if len(pred_objs) == 1:\n",
        "      ob1_cos = cosine_sim(pred_objs[0], objs[0])\n",
        "      ob2_cos = cosine_sim(pred_objs[0], objs[1])\n",
        "      cos_objects.append(max(ob1_cos, ob2_cos))\n",
        "\n",
        "    if aspect and pred_aspect:\n",
        "      cos_aspects.append(cosine_sim(pred_aspect, aspect))\n",
        "    elif not aspect and not pred_aspect:\n",
        "      cos_aspects.append(1)\n",
        "\n",
        "  print(f'Objects: {sum(cos_objects)/len(cos_objects)}')\n",
        "  print(f'Aspect: {sum(cos_aspects)/len(cos_aspects)}')"
      ],
      "metadata": {
        "id": "lNCRO2eIRy4a"
      },
      "execution_count": null,
      "outputs": []
    },
    {
      "cell_type": "code",
      "source": [
        "def evaluate_full_match_relaxed(df, answer_aspect, answer_objects):\n",
        "  correct_answers = 0\n",
        "  correct_aspects = 0\n",
        "\n",
        "  for i in range(len(df)):\n",
        "    objs = [df.iloc[i,1].lower(), df.iloc[i,2].lower()]\n",
        "    aspect = df.iloc[i,3].lower()\n",
        "\n",
        "    pred_aspect = answer_aspect[i].lower()\n",
        "    pred_objects = [ans.lower() for ans in answer_objects[i]]\n",
        "\n",
        "    objs = [re.sub('[^a-z0-9]+the ', ' ', obj) for obj in objs]\n",
        "    objs = [re.sub(' +', ' ', obj) for obj in objs]\n",
        "  \n",
        "    for obj in pred_objects:\n",
        "      if obj in objs:\n",
        "        correct_answers += 0.5\n",
        "\n",
        "    if pred_aspect == aspect:\n",
        "      correct_aspects += 1\n",
        "\n",
        "  print(f'Objects: {correct_answers/len(df)}')\n",
        "  print(f'Aspect: {correct_aspects/len(df)}')"
      ],
      "metadata": {
        "id": "dzj7qcEwTGIa"
      },
      "execution_count": null,
      "outputs": []
    },
    {
      "cell_type": "code",
      "source": [
        "def evaluate_cos_sim_relaxed(df, answer_aspect, answer_objects):\n",
        "  cos_objects = []\n",
        "  cos_aspects = []\n",
        "\n",
        "  for i in tqdm(range(len(df))):\n",
        "    objs = [df.iloc[i,1].lower(), df.iloc[i,2].lower()]\n",
        "    aspect = df.iloc[i,3].lower()\n",
        "\n",
        "    pred_aspect = answer_aspect[i].lower()\n",
        "    pred_objs = [ans.lower() for ans in answer_objects[i]]\n",
        "\n",
        "    # if one obects predicted\n",
        "    if len(pred_objs) == 1:\n",
        "      max_cos = 0\n",
        "      for obj in objs:\n",
        "        obj_cos = cosine_sim(pred_objs[0], obj)\n",
        "        if obj_cos > max_cos:\n",
        "          max_cos = obj_cos\n",
        "      cos_objects.append(max_cos*0.5)\n",
        "\n",
        "  # if two objects predicted\n",
        "    elif len(objs) == len(pred_objs):\n",
        "      ob1_cos = cosine_sim(pred_objs[0], objs[0])\n",
        "      ob2_cos = cosine_sim(pred_objs[1], objs[1])\n",
        "      cos_objects.append((ob1_cos+ob2_cos)/2)\n",
        "\n",
        "  # if no objects predicted\n",
        "    else:\n",
        "      cos_objects.append(0)\n",
        "\n",
        "    if aspect and pred_aspect:\n",
        "      cos_aspects.append(cosine_sim(pred_aspect, aspect))\n",
        "    elif not aspect and not pred_aspect:\n",
        "      cos_aspects.append(1)\n",
        "    else:\n",
        "      cos_aspects.append(0)\n",
        "\n",
        "  print(f'Objects: {sum(cos_objects)/len(cos_objects)}')\n",
        "  print(f'Aspect: {sum(cos_aspects)/len(cos_aspects)}')"
      ],
      "metadata": {
        "id": "Zx9cToJTTbZB"
      },
      "execution_count": null,
      "outputs": []
    },
    {
      "cell_type": "markdown",
      "source": [
        "# Dolly"
      ],
      "metadata": {
        "id": "kwqZBooct5wK"
      }
    },
    {
      "cell_type": "markdown",
      "source": [
        "## zero shot"
      ],
      "metadata": {
        "id": "upH2HMKXt7yD"
      }
    },
    {
      "cell_type": "code",
      "source": [
        "dolly_zeroshot_df = pd.read_csv('./drive/My Drive/dolly_zeroshot.csv', sep='\\t', encoding='utf-8')"
      ],
      "metadata": {
        "id": "d0nqPb4Zt7_r"
      },
      "execution_count": null,
      "outputs": []
    },
    {
      "cell_type": "code",
      "source": [
        "dolly_zeroshot_df = delete_unnes_aspects(dolly_zeroshot_df, unnes_asps)"
      ],
      "metadata": {
        "id": "UfMpIAIffw3K"
      },
      "execution_count": null,
      "outputs": []
    },
    {
      "cell_type": "code",
      "source": [
        "def clear(text):\n",
        "  clear_text = re.sub(\"\"\"[^ \\'\\\"a-zа-яё0-9,\\:\\n]\"\"\", '', text.lower())\n",
        "  return clear_text"
      ],
      "metadata": {
        "id": "YUjFUCT-wgKW"
      },
      "execution_count": null,
      "outputs": []
    },
    {
      "cell_type": "code",
      "source": [
        "clear_answers = []\n",
        "\n",
        "for i in range(len(dolly_zeroshot_df)):\n",
        "  words = ['and', 'the', 'objects', 'are', 'aspect', 'is', '\\n']\n",
        "\n",
        "  answer = dolly_zeroshot_df.iloc[i,4].lower()\n",
        "  sentence = dolly_zeroshot_df.iloc[i,0].lower()\n",
        "\n",
        "  clear_sentence = clear(sentence)\n",
        "  words.extend(clear_sentence.split(' '))\n",
        "  clear_answer = clear(answer)\n",
        "  clear_answer = re.sub(clear_sentence, '', clear_answer)\n",
        "\n",
        "  answer_lines = clear_answer.split('\\n')\n",
        "  new_answer = []\n",
        "\n",
        "  for line in answer_lines:\n",
        "    line_words = line.split(' ')\n",
        "\n",
        "    for word in line_words:\n",
        "      clear_word = re.sub('[^a-zа-яё0-9]', '', word)\n",
        "      if clear_word in words:\n",
        "        new_answer.append(word)\n",
        "\n",
        "    new_answer.append('\\n')\n",
        "  new_answer = re.sub('  ', '\\n', ' '.join(new_answer))\n",
        "  new_answer = re.sub('objects [a-z]+ are', 'objects are', new_answer)\n",
        "  new_answer = re.sub(' ?the ', ' ', new_answer) # убрать и в ответе\n",
        "  new_answer = re.sub('objects +are', 'objects are', new_answer)\n",
        "  new_answer = re.sub('aspect +is', 'aspect is', new_answer)\n",
        "  new_answer = re.sub('aspect of is', 'aspect is', new_answer)\n",
        "  new_answer = re.sub('objects of +are', 'objects are', new_answer)\n",
        "  new_answer = re.sub('objects in +are', 'objects are', new_answer)\n",
        "\n",
        "  clear_answers.append(new_answer)\n"
      ],
      "metadata": {
        "id": "jWRXINiawevB"
      },
      "execution_count": null,
      "outputs": []
    },
    {
      "cell_type": "code",
      "source": [
        "answer_objects = []\n",
        "answer_aspect = []\n",
        "\n",
        "for answer in clear_answers:\n",
        "  new_objects = []\n",
        "  aspect = ''\n",
        "  \n",
        "  if 'aspect is' in answer:\n",
        "    aspect = answer.split('aspect is')[1]\n",
        "    objects = re.sub('objects are', '', answer.split('aspect is')[0])\n",
        "    objects = re.sub('[\\' ]and[\\' ]', '##[SEP]##', objects)\n",
        "    objects = objects.split('##[SEP]##')\n",
        "\n",
        "    new_objects = []\n",
        "    for obj in objects:\n",
        "      obj = re.sub('\\n+', '\\n', obj)\n",
        "      obj = obj.split('\\n')\n",
        "      for o in obj:\n",
        "        if_real = re.findall('[a-z0-9]+', o)\n",
        "        if if_real:\n",
        "          o = o.strip(':').strip(' ').strip(':').strip('\\'').strip(',').strip(' ').strip('\\'')\n",
        "          o = re.sub(' +', ' ', o)\n",
        "          new_objects.append(o)\n",
        "\n",
        "    new_objects = new_objects[:2]\n",
        "    aspect = aspect.split('\\n')[0].strip(' ').strip(':').strip('\\'')\n",
        "\n",
        "  answer_objects.append(new_objects)\n",
        "  answer_aspect.append(aspect)\n",
        "\n"
      ],
      "metadata": {
        "id": "kceJVOQEff3m"
      },
      "execution_count": null,
      "outputs": []
    },
    {
      "cell_type": "code",
      "source": [
        "clear_answer_aspect = []\n",
        "for a in answer_aspect:\n",
        "  if a in unnes_asps:\n",
        "    clear_answer_aspect.append('')\n",
        "  else:\n",
        "    clear_answer_aspect.append(a)   \n",
        "\n",
        "answer_aspect = clear_answer_aspect "
      ],
      "metadata": {
        "id": "f2h0F2CwgXEV"
      },
      "execution_count": null,
      "outputs": []
    },
    {
      "cell_type": "code",
      "source": [
        "dolly_zeroshot_df['aspect'].fillna('', inplace=True)"
      ],
      "metadata": {
        "id": "uORBOIZE1uAh"
      },
      "execution_count": null,
      "outputs": []
    },
    {
      "cell_type": "markdown",
      "source": [
        "### MUC, CEAF"
      ],
      "metadata": {
        "id": "vGnGneutQAay"
      }
    },
    {
      "cell_type": "code",
      "source": [
        "evaluate_muc_ceaf_bcubed_f1(dolly_zeroshot_df, answer_aspect, answer_objects)"
      ],
      "metadata": {
        "colab": {
          "base_uri": "https://localhost:8080/"
        },
        "id": "N7JWbT2BMx08",
        "outputId": "c5732efc-bf0d-4c2a-f72b-cf1cd14eaf83"
      },
      "execution_count": null,
      "outputs": [
        {
          "output_type": "stream",
          "name": "stdout",
          "text": [
            "MUC\n",
            "Objects:\n",
            "  precision: 0.23962926407956733\n",
            "  recall: 0.26416288609735544\n",
            "  f-score: 0.22212915320429308\n",
            "Aspect:\n",
            "  precision: 0.4444782845543873\n",
            "  recall: 0.47129780592215953\n",
            "  f-score: 0.4448340105874929\n",
            "\n",
            "CEAF\n",
            "Objects:\n",
            "  precision: 0.19508140568873977\n",
            "  recall: 0.199291691169092\n",
            "  f-score: 0.18110407510990284\n",
            "Aspect:\n",
            "  precision: 0.24139596911993477\n",
            "  recall: 0.2636915542959594\n",
            "  f-score: 0.24261458963960045\n"
          ]
        }
      ]
    },
    {
      "cell_type": "markdown",
      "source": [
        "### edit_distance"
      ],
      "metadata": {
        "id": "MHZJqc2cBK1R"
      }
    },
    {
      "cell_type": "code",
      "source": [
        "evaluate_edit_distance(dolly_zeroshot_df, answer_aspect, answer_objects)"
      ],
      "metadata": {
        "colab": {
          "base_uri": "https://localhost:8080/"
        },
        "id": "_wfIAPd-OLTx",
        "outputId": "86c200c3-af59-4f09-b084-eb96d60f9aa0"
      },
      "execution_count": null,
      "outputs": [
        {
          "output_type": "stream",
          "name": "stdout",
          "text": [
            "Objects: 10.818548387096774\n",
            "Aspect: 8.007057546145495\n"
          ]
        }
      ]
    },
    {
      "cell_type": "markdown",
      "source": [
        "### strict"
      ],
      "metadata": {
        "id": "w5KIS63cWxAh"
      }
    },
    {
      "cell_type": "markdown",
      "source": [
        "Полное совпадение"
      ],
      "metadata": {
        "id": "wzm0OQc8wwPM"
      }
    },
    {
      "cell_type": "code",
      "source": [
        "evaluate_full_match(dolly_zeroshot_df, answer_aspect, answer_objects)"
      ],
      "metadata": {
        "colab": {
          "base_uri": "https://localhost:8080/"
        },
        "id": "MJ5VYXrk0QVt",
        "outputId": "1901101d-1349-4718-941a-d74db7a84f59"
      },
      "execution_count": null,
      "outputs": [
        {
          "output_type": "stream",
          "name": "stdout",
          "text": [
            "Objects: 0.06444226365718024\n",
            "Aspect: 0.4252535165194635\n"
          ]
        }
      ]
    },
    {
      "cell_type": "markdown",
      "source": [
        "Косинусная близость"
      ],
      "metadata": {
        "id": "yjqrIGvIwyDO"
      }
    },
    {
      "cell_type": "code",
      "source": [
        "evaluate_cos_sim(dolly_zeroshot_df, answer_aspect, answer_objects) "
      ],
      "metadata": {
        "colab": {
          "base_uri": "https://localhost:8080/",
          "referenced_widgets": [
            "e97f2dba35584d5b86c1157a63e8f806",
            "126da05237e84ccda70b045210bc4cbe",
            "003e451e836e4765b8714ea8d481ce83",
            "bcb63fd38cd7406f8b3d7492d7ef6750",
            "a9a6d65edc9e476bb8d9f7e1180dab9b",
            "796005629381488fad5d3f7d735af866",
            "54c12ae2bfb14c3c8bfe76ab96d7bb71",
            "a9bc197aad6149d296b9a51c5fa2896d",
            "6eddb01a9d504ef5a204a5918802f8fe",
            "5a22e38cee8c439ca9ccc12b4ce80fc7",
            "d260a9c066094c9b96f73d479aa5c2ee"
          ]
        },
        "id": "itJLnEV3i6EW",
        "outputId": "f110c4a1-72de-4070-9697-aded02caa204"
      },
      "execution_count": null,
      "outputs": [
        {
          "output_type": "display_data",
          "data": {
            "text/plain": [
              "  0%|          | 0/3057 [00:00<?, ?it/s]"
            ],
            "application/vnd.jupyter.widget-view+json": {
              "version_major": 2,
              "version_minor": 0,
              "model_id": "e97f2dba35584d5b86c1157a63e8f806"
            }
          },
          "metadata": {}
        },
        {
          "output_type": "stream",
          "name": "stdout",
          "text": [
            "Objects: 0.21910809277318294\n",
            "Aspect: 0.4765690020268791\n"
          ]
        }
      ]
    },
    {
      "cell_type": "code",
      "source": [
        "evaluate_cos_sim_found(dolly_zeroshot_df, answer_aspect, answer_objects)"
      ],
      "metadata": {
        "colab": {
          "base_uri": "https://localhost:8080/",
          "referenced_widgets": [
            "a2df2e39b34343d6a445225806a58039",
            "b0ffb307b3d44a748e4fc26c947b6ae3",
            "74834565ce524fccbaa1dd7d0b1c470c",
            "1a7466e6d7ca4f6c9986cad327b36ddf",
            "4dbba5faac404727b3e9526f8caea01c",
            "59b465002244484189cb6460b85f83e0",
            "b9240810675340a5a15852d0d822786a",
            "81501e73c8c04d56a728bbfbf73295d6",
            "ab06f15e5c3748e29840dcbbe9216d49",
            "79ca479eb1de4f56988332e956f24f39",
            "78f5662255c04d12bb93bf2f4d44247e"
          ]
        },
        "id": "KwLxBQvRZK3a",
        "outputId": "2f6d26b9-fd94-40b9-ce92-59b9cc888548"
      },
      "execution_count": null,
      "outputs": [
        {
          "output_type": "display_data",
          "data": {
            "text/plain": [
              "  0%|          | 0/3057 [00:00<?, ?it/s]"
            ],
            "application/vnd.jupyter.widget-view+json": {
              "version_major": 2,
              "version_minor": 0,
              "model_id": "a2df2e39b34343d6a445225806a58039"
            }
          },
          "metadata": {}
        },
        {
          "output_type": "stream",
          "name": "stdout",
          "text": [
            "Objects: 0.7683682315603703\n",
            "Aspect: 0.9362926987121911\n"
          ]
        }
      ]
    },
    {
      "cell_type": "markdown",
      "source": [
        "### relaxed"
      ],
      "metadata": {
        "id": "fgfCnTNyWtgy"
      }
    },
    {
      "cell_type": "markdown",
      "source": [
        "Полное совпадение"
      ],
      "metadata": {
        "id": "Qgtw97upwpJY"
      }
    },
    {
      "cell_type": "code",
      "source": [
        "evaluate_full_match_relaxed(dolly_zeroshot_df, answer_aspect, answer_objects)"
      ],
      "metadata": {
        "id": "6RFVdK3QWzc2",
        "colab": {
          "base_uri": "https://localhost:8080/"
        },
        "outputId": "4b86fdcb-3305-4ede-d1f2-b64d88ce37b3"
      },
      "execution_count": null,
      "outputs": [
        {
          "output_type": "stream",
          "name": "stdout",
          "text": [
            "Objects: 0.0979718678442918\n",
            "Aspect: 0.4252535165194635\n"
          ]
        }
      ]
    },
    {
      "cell_type": "markdown",
      "source": [
        "Косинусная близость"
      ],
      "metadata": {
        "id": "H698xgcywrHD"
      }
    },
    {
      "cell_type": "code",
      "source": [
        "evaluate_cos_sim_relaxed(dolly_zeroshot_df, answer_aspect, answer_objects)"
      ],
      "metadata": {
        "colab": {
          "base_uri": "https://localhost:8080/",
          "referenced_widgets": [
            "52ca712baab74e278ce5e2492ac647c0",
            "ed82276911244ee6a9ab477271771314",
            "536cc2a3965d434abf57e04ad528812a",
            "939f38034382482281cba1b0438a0c5f",
            "bb8bc91ecc13405eb2cc5f072bcbd1a1",
            "0d3a3d22b7dc460895112ae0c5a46e16",
            "e3c7b13ab00244b183c6006867fc1096",
            "bb34420837fa4df19e6c6d12e436c314",
            "0db35fd3fa8f49ca8e3300e9e61cb22a",
            "f15143eec21e479bb0409a4698d0c991",
            "ff082c4be5e14ddc9275f004e8313c93"
          ]
        },
        "id": "hzqtywRdssAM",
        "outputId": "84cc8b91-0089-4ce4-8402-3f1e6e37881a"
      },
      "execution_count": null,
      "outputs": [
        {
          "output_type": "display_data",
          "data": {
            "text/plain": [
              "  0%|          | 0/3057 [00:00<?, ?it/s]"
            ],
            "application/vnd.jupyter.widget-view+json": {
              "version_major": 2,
              "version_minor": 0,
              "model_id": "52ca712baab74e278ce5e2492ac647c0"
            }
          },
          "metadata": {}
        },
        {
          "output_type": "stream",
          "name": "stdout",
          "text": [
            "Objects: 0.24691526279082515\n",
            "Aspect: 0.4765690020268791\n"
          ]
        }
      ]
    },
    {
      "cell_type": "markdown",
      "source": [
        "# NeoGPT"
      ],
      "metadata": {
        "id": "Dynr0piqIM4H"
      }
    },
    {
      "cell_type": "markdown",
      "source": [
        "## few shot"
      ],
      "metadata": {
        "id": "sHQot4HtIQSF"
      }
    },
    {
      "cell_type": "code",
      "source": [
        "neo_fewshot_df = pd.read_csv('./drive/My Drive/neogpt_fewshot.csv', sep='\\t', encoding='utf-8')"
      ],
      "metadata": {
        "id": "GYUCVspIIcVc"
      },
      "execution_count": null,
      "outputs": []
    },
    {
      "cell_type": "code",
      "source": [
        "neo_fewshot_df = delete_unnes_aspects(neo_fewshot_df, unnes_asps)"
      ],
      "metadata": {
        "id": "KitbSNApf26w"
      },
      "execution_count": null,
      "outputs": []
    },
    {
      "cell_type": "code",
      "source": [
        "answer_objects = []\n",
        "answer_aspect = []\n",
        "\n",
        "for i in range(len(neo_fewshot_df)):\n",
        "  sent = neo_fewshot_df.iloc[i, 0]\n",
        "  ans = neo_fewshot_df.iloc[i, 4]\n",
        "  start_ans = ans[885:]\n",
        "  lines = start_ans.split('\\n')[:3]\n",
        "\n",
        "  obj_line = ''\n",
        "  asp_line = ''\n",
        "\n",
        "  for l in lines:\n",
        "    if 'Objects:' in l:\n",
        "      obj_line = l\n",
        "    if 'Aspect:' in l:\n",
        "      asp_line = l\n",
        "\n",
        "  if \"'\" in obj_line:\n",
        "\n",
        "    obj_line = re.sub(\"n't\", 'n’t', obj_line) \n",
        "    obj_line = re.sub(\"y're\", 'y’re', obj_line)\n",
        "    obj_line = re.sub(\"r's\", 'r’s', obj_line)\n",
        "    obj_line = re.sub(\"n's\", 'n’s', obj_line)\n",
        "\n",
        "    obj_line = re.sub('Objects:', '', obj_line)\n",
        "    obj_line = re.sub(\"[^\\']+$\", '', obj_line.strip(' '))\n",
        "    obj_line = re.findall(\"(\\'[^\\']+\\')+,? ?\", obj_line)\n",
        "\n",
        "\n",
        "    try:\n",
        "      objects = eval('['+','.join(obj_line)+']')\n",
        "    except:\n",
        "      print(objects)\n",
        "      objects = []\n",
        "\n",
        "\n",
        "  aspect = re.sub('Aspect:', '', asp_line.strip(' ')).strip(' ')\n",
        "\n",
        "  answer_aspect.append(aspect) \n",
        "  answer_objects.append(objects[:2]) "
      ],
      "metadata": {
        "id": "Q_uQkI5rKkfz"
      },
      "execution_count": null,
      "outputs": []
    },
    {
      "cell_type": "code",
      "source": [
        "clear_answer_aspect = []\n",
        "for a in answer_aspect:\n",
        "  if a in unnes_asps:\n",
        "    clear_answer_aspect.append('')\n",
        "  else:\n",
        "    clear_answer_aspect.append(a)   \n",
        "\n",
        "answer_aspect = clear_answer_aspect "
      ],
      "metadata": {
        "id": "dgAmapzpg1qu"
      },
      "execution_count": null,
      "outputs": []
    },
    {
      "cell_type": "markdown",
      "source": [
        "### MUC, CEAF"
      ],
      "metadata": {
        "id": "5r7XKj_mQLKJ"
      }
    },
    {
      "cell_type": "code",
      "source": [
        "evaluate_muc_ceaf_bcubed_f1(neo_fewshot_df, answer_aspect, answer_objects)"
      ],
      "metadata": {
        "colab": {
          "base_uri": "https://localhost:8080/"
        },
        "id": "0a9EWUxIQHDD",
        "outputId": "40afa490-4c88-4fcc-d8fa-a263e166b09a"
      },
      "execution_count": null,
      "outputs": [
        {
          "output_type": "stream",
          "name": "stdout",
          "text": [
            "MUC\n",
            "Objects:\n",
            "  precision: 0.7925926228263231\n",
            "  recall: 0.571089102717853\n",
            "  f-score: 0.6041202583477795\n",
            "Aspect:\n",
            "  precision: 0.39119540644710693\n",
            "  recall: 0.4212292002974707\n",
            "  f-score: 0.3699521845101842\n",
            "\n",
            "CEAF\n",
            "Objects:\n",
            "  precision: 0.7121806951764321\n",
            "  recall: 0.5456507028833348\n",
            "  f-score: 0.5855248529496002\n",
            "Aspect:\n",
            "  precision: 0.3211435842283013\n",
            "  recall: 0.33636357397933186\n",
            "  f-score: 0.3088975551398772\n"
          ]
        }
      ]
    },
    {
      "cell_type": "markdown",
      "source": [
        "### edit_distance"
      ],
      "metadata": {
        "id": "neS0lIMWA7v_"
      }
    },
    {
      "cell_type": "code",
      "source": [
        "evaluate_edit_distance(neo_fewshot_df, answer_aspect, answer_objects)"
      ],
      "metadata": {
        "id": "xIRQq0-1w99x",
        "colab": {
          "base_uri": "https://localhost:8080/"
        },
        "outputId": "7efb38d4-7b12-42a9-f6fa-1082fdcae042"
      },
      "execution_count": null,
      "outputs": [
        {
          "output_type": "stream",
          "name": "stdout",
          "text": [
            "Objects: 6.751677852348993\n",
            "Aspect: 7.625531914893617\n"
          ]
        }
      ]
    },
    {
      "cell_type": "markdown",
      "source": [
        "### strict"
      ],
      "metadata": {
        "id": "pDJl1ARuWoy8"
      }
    },
    {
      "cell_type": "markdown",
      "source": [
        "Полное совпадение"
      ],
      "metadata": {
        "id": "YC5OP_qpwi-e"
      }
    },
    {
      "cell_type": "code",
      "source": [
        "evaluate_full_match(neo_fewshot_df, answer_aspect, answer_objects)"
      ],
      "metadata": {
        "colab": {
          "base_uri": "https://localhost:8080/"
        },
        "id": "8a6xdOg52jdM",
        "outputId": "d2c50078-7553-43df-f38c-cf2ee46eca69"
      },
      "execution_count": null,
      "outputs": [
        {
          "output_type": "stream",
          "name": "stdout",
          "text": [
            "Objects: 0.276\n",
            "Aspect: 0.274\n"
          ]
        }
      ]
    },
    {
      "cell_type": "markdown",
      "source": [
        "Косинусная близость"
      ],
      "metadata": {
        "id": "bQNu2CmQwk7U"
      }
    },
    {
      "cell_type": "code",
      "source": [
        "evaluate_cos_sim(neo_fewshot_df, answer_aspect, answer_objects)"
      ],
      "metadata": {
        "id": "4uuQvLvDw41M",
        "colab": {
          "base_uri": "https://localhost:8080/",
          "referenced_widgets": [
            "f6a5adb74b95453f83cbb20150fcb11f",
            "ca2d43bfe5f2469dbf864dd54a5bbcd9",
            "0dff9630649648b2ab924e7efb39b655",
            "c061a396cf04417f80e5a553db602f51",
            "26f2e5a5e71d4bcf9355fff415bed0d9",
            "a32cf3f0785f4ab8bc35458a6c77f888",
            "82e9a5faf9754ca687b7d7c54b192b50",
            "f4e02da88d404ccfbb11314ee7ec3f3b",
            "ba63dbc03fba4c908cbb512a6bf28f5d",
            "7a48accd7a9443938f3a46770d9c73ff",
            "8fca4d31c7dc4744ba13350760edafa7"
          ]
        },
        "outputId": "eda19013-50fb-4d32-8e8b-7a86fc97f748"
      },
      "execution_count": null,
      "outputs": [
        {
          "output_type": "display_data",
          "data": {
            "text/plain": [
              "  0%|          | 0/500 [00:00<?, ?it/s]"
            ],
            "application/vnd.jupyter.widget-view+json": {
              "version_major": 2,
              "version_minor": 0,
              "model_id": "f6a5adb74b95453f83cbb20150fcb11f"
            }
          },
          "metadata": {}
        },
        {
          "output_type": "stream",
          "name": "stdout",
          "text": [
            "Objects: 0.6946715359836817\n",
            "Aspect: 0.49603297978639604\n"
          ]
        }
      ]
    },
    {
      "cell_type": "code",
      "source": [
        "evaluate_cos_sim_found(neo_fewshot_df, answer_aspect, answer_objects)"
      ],
      "metadata": {
        "colab": {
          "base_uri": "https://localhost:8080/",
          "referenced_widgets": [
            "d6738c14d20f45d2a5b039b3af93f5a5",
            "dea77cd0a6964865b73919a63b8f3b11",
            "572d24e328dd43ccaab36b36e4a31402",
            "226fca7c8478410f8c3f10dd7911e19d",
            "950d7d3eca5444d5967f864c2a48cca8",
            "52a72ae1ad684f929faf53368e87b41e",
            "cb85bea14121481095b8fbac0d1182d4",
            "d457cb9df74142b6973803858c4ee9db",
            "da2fa9483b1d4e56954dae1747561420",
            "3cf02d76ac1a4e649ec0d45c7dd5ea84",
            "a74d3f85a27745508ea078bc0ab4b074"
          ]
        },
        "id": "zRNt22MoNdrv",
        "outputId": "4011684b-224e-473c-e3a7-53ed44e54f55"
      },
      "execution_count": null,
      "outputs": [
        {
          "output_type": "display_data",
          "data": {
            "text/plain": [
              "  0%|          | 0/500 [00:00<?, ?it/s]"
            ],
            "application/vnd.jupyter.widget-view+json": {
              "version_major": 2,
              "version_minor": 0,
              "model_id": "d6738c14d20f45d2a5b039b3af93f5a5"
            }
          },
          "metadata": {}
        },
        {
          "output_type": "stream",
          "name": "stdout",
          "text": [
            "Objects: 0.7828716721856045\n",
            "Aspect: 0.8350723565427542\n"
          ]
        }
      ]
    },
    {
      "cell_type": "markdown",
      "source": [
        "### relaxed"
      ],
      "metadata": {
        "id": "zTHfetSDWj4b"
      }
    },
    {
      "cell_type": "markdown",
      "source": [
        "Полное совпадение"
      ],
      "metadata": {
        "id": "_zSDn9Dcwbxr"
      }
    },
    {
      "cell_type": "code",
      "source": [
        "evaluate_full_match_relaxed(neo_fewshot_df, answer_aspect, answer_objects)"
      ],
      "metadata": {
        "id": "_DCy4h36Wmqv",
        "colab": {
          "base_uri": "https://localhost:8080/"
        },
        "outputId": "f29af8e2-8492-4069-ef94-f5a5b41aa9e1"
      },
      "execution_count": null,
      "outputs": [
        {
          "output_type": "stream",
          "name": "stdout",
          "text": [
            "Objects: 0.392\n",
            "Aspect: 0.274\n"
          ]
        }
      ]
    },
    {
      "cell_type": "markdown",
      "source": [
        "Косинусная близость"
      ],
      "metadata": {
        "id": "b8v5FxKKweQQ"
      }
    },
    {
      "cell_type": "code",
      "source": [
        "evaluate_cos_sim_relaxed(neo_fewshot_df, answer_aspect, answer_objects)"
      ],
      "metadata": {
        "id": "uRbk6hqpwVc6",
        "colab": {
          "base_uri": "https://localhost:8080/",
          "referenced_widgets": [
            "1b2f769772db4cc0af976eba23f8cd01",
            "66e26b07cadd46c38d7050b2f84553e7",
            "15ad94941367401981310256188b45ba",
            "bcd4648c3c51416a884e7e2f4451e133",
            "6c983791c05346cd897fb6f4e83b0d6e",
            "66f963a14cee49b1884c01ccd2222e29",
            "60610604730843d8a8cc6d1c35dd8cb1",
            "87de61b96679431d8ca399f568dc0b9a",
            "d4ff295135334fc79ad23568c31ce97f",
            "f33a3f4a3d0248d687072819e8550cf9",
            "60bf23da31d6488bb6a5cc67e028e29c"
          ]
        },
        "outputId": "7e82d7f0-df06-4bb9-8f7f-680a944dc20d"
      },
      "execution_count": null,
      "outputs": [
        {
          "output_type": "display_data",
          "data": {
            "text/plain": [
              "  0%|          | 0/500 [00:00<?, ?it/s]"
            ],
            "application/vnd.jupyter.widget-view+json": {
              "version_major": 2,
              "version_minor": 0,
              "model_id": "1b2f769772db4cc0af976eba23f8cd01"
            }
          },
          "metadata": {}
        },
        {
          "output_type": "stream",
          "name": "stdout",
          "text": [
            "Objects: 0.7379887324124574\n",
            "Aspect: 0.49603297978639604\n"
          ]
        }
      ]
    },
    {
      "cell_type": "markdown",
      "source": [
        "# GPT-2"
      ],
      "metadata": {
        "id": "hr7mVl2zRlGq"
      }
    },
    {
      "cell_type": "markdown",
      "source": [
        "## few shot"
      ],
      "metadata": {
        "id": "37HAgFdgRowH"
      }
    },
    {
      "cell_type": "code",
      "source": [
        "gpt2_fewshot_df = pd.read_csv('./drive/My Drive/gpt2_fewshot.csv', sep='\\t', encoding='utf-8')"
      ],
      "metadata": {
        "id": "lrhOnH2_RuKH"
      },
      "execution_count": null,
      "outputs": []
    },
    {
      "cell_type": "code",
      "source": [
        "gpt2_fewshot_df = delete_unnes_aspects(gpt2_fewshot_df, unnes_asps)"
      ],
      "metadata": {
        "id": "hzrBkCw6f6q0"
      },
      "execution_count": null,
      "outputs": []
    },
    {
      "cell_type": "code",
      "source": [
        "answer_objects = []\n",
        "answer_aspect = []\n",
        "\n",
        "for i in range(len(gpt2_fewshot_df)):\n",
        "  sent = gpt2_fewshot_df.iloc[i, 0]\n",
        "  ans = gpt2_fewshot_df.iloc[i, 4]\n",
        "  start_ans = ans[955:] \n",
        "  lines = start_ans.split('\\n')[:7]\n",
        "\n",
        "  obj_line = ''\n",
        "  asp_line = ''\n",
        "\n",
        "  for l in lines:\n",
        "    if 'Objects:' in l:\n",
        "      obj_line = l\n",
        "    if 'Aspect:' in l:\n",
        "      asp_line = l\n",
        "\n",
        "  if \"'\" in obj_line:\n",
        "\n",
        "    obj_line = re.sub(\"n't\", 'n’t', obj_line)  \n",
        "    obj_line = re.sub(\"y're\", 'y’re', obj_line)\n",
        "    obj_line = re.sub(\"r's\", 'r’s', obj_line)\n",
        "    obj_line = re.sub(\"n's\", 'n’s', obj_line)\n",
        "\n",
        "    obj_line = re.sub('Objects:', '', obj_line)\n",
        "    obj_line = re.sub(\"[^\\']+$\", '', obj_line.strip(' '))\n",
        "    obj_line = re.findall(\"(\\'[^\\']+\\')+,? ?\", obj_line)\n",
        "\n",
        "    try:\n",
        "      objects = eval('['+','.join(obj_line)+']')\n",
        "    except:\n",
        "      objects = []\n",
        "\n",
        "  else:\n",
        "    objects = obj_line.split(',')\n",
        "  aspect = re.sub('Aspect:', '', asp_line.strip(' ')).strip(' ')\n",
        "\n",
        "  answer_aspect.append(aspect)\n",
        "  answer_objects.append(objects)"
      ],
      "metadata": {
        "id": "rnAxvblGlmqx"
      },
      "execution_count": null,
      "outputs": []
    },
    {
      "cell_type": "code",
      "source": [
        "clear_answer_aspect = []\n",
        "for a in answer_aspect:\n",
        "  if a in unnes_asps:\n",
        "    clear_answer_aspect.append('')\n",
        "  else:\n",
        "    clear_answer_aspect.append(a)   \n",
        "\n",
        "answer_aspect = clear_answer_aspect "
      ],
      "metadata": {
        "id": "CxeugayWg4g8"
      },
      "execution_count": null,
      "outputs": []
    },
    {
      "cell_type": "markdown",
      "source": [
        "### MUC, CEAF"
      ],
      "metadata": {
        "id": "UbIeHasxQSOi"
      }
    },
    {
      "cell_type": "code",
      "source": [
        "evaluate_muc_ceaf_bcubed_f1(gpt2_fewshot_df, answer_aspect, answer_objects)"
      ],
      "metadata": {
        "colab": {
          "base_uri": "https://localhost:8080/"
        },
        "id": "-JjNu7H2QSYJ",
        "outputId": "f732e02f-57c0-4d4a-9c74-1bc57bf6ee58"
      },
      "execution_count": null,
      "outputs": [
        {
          "output_type": "stream",
          "name": "stdout",
          "text": [
            "MUC\n",
            "Objects:\n",
            "  precision: 0.6003954909639969\n",
            "  recall: 0.5154569556651308\n",
            "  f-score: 0.49657592201109435\n",
            "Aspect:\n",
            "  precision: 0.3151160670113458\n",
            "  recall: 0.29264490822988726\n",
            "  f-score: 0.272327764698042\n",
            "\n",
            "CEAF\n",
            "Objects:\n",
            "  precision: 0.5191492559275426\n",
            "  recall: 0.47487744127969544\n",
            "  f-score: 0.463551219528617\n",
            "Aspect:\n",
            "  precision: 0.29389381045572477\n",
            "  recall: 0.2803705393850202\n",
            "  f-score: 0.2662387005613715\n"
          ]
        }
      ]
    },
    {
      "cell_type": "markdown",
      "source": [
        "### edit_distance"
      ],
      "metadata": {
        "id": "GFrR6Wul_6_d"
      }
    },
    {
      "cell_type": "code",
      "source": [
        "evaluate_edit_distance(gpt2_fewshot_df, answer_aspect, answer_objects)"
      ],
      "metadata": {
        "id": "tWCa1ceYxey7",
        "colab": {
          "base_uri": "https://localhost:8080/"
        },
        "outputId": "db27e93d-838c-41a0-c34c-192d5e209f4c"
      },
      "execution_count": null,
      "outputs": [
        {
          "output_type": "stream",
          "name": "stdout",
          "text": [
            "Objects: 7.58879781420765\n",
            "Aspect: 9.435950413223141\n"
          ]
        }
      ]
    },
    {
      "cell_type": "markdown",
      "source": [
        "### strict"
      ],
      "metadata": {
        "id": "M-ry7XzeWf1b"
      }
    },
    {
      "cell_type": "markdown",
      "source": [
        "Полное совпадение"
      ],
      "metadata": {
        "id": "-AqdpmhVxkPg"
      }
    },
    {
      "cell_type": "code",
      "source": [
        "evaluate_full_match(gpt2_fewshot_df, answer_aspect, answer_objects)"
      ],
      "metadata": {
        "colab": {
          "base_uri": "https://localhost:8080/"
        },
        "id": "GKxDh4IHlmta",
        "outputId": "095e300e-d5f5-499d-80a0-c9bb3697a89d"
      },
      "execution_count": null,
      "outputs": [
        {
          "output_type": "stream",
          "name": "stdout",
          "text": [
            "Objects: 0.162\n",
            "Aspect: 0.2\n"
          ]
        }
      ]
    },
    {
      "cell_type": "markdown",
      "source": [
        "Косинусная близость"
      ],
      "metadata": {
        "id": "oyRflZUqxl13"
      }
    },
    {
      "cell_type": "code",
      "source": [
        "evaluate_cos_sim(gpt2_fewshot_df, answer_aspect, answer_objects) "
      ],
      "metadata": {
        "id": "QHxBXOp59WhO",
        "colab": {
          "base_uri": "https://localhost:8080/",
          "referenced_widgets": [
            "bd533afeea8c47c29a046f1702e6c02e",
            "9d71b732e82b432bb6ba03b47630c692",
            "00e4650ff1574b54b08b7466716f4c97",
            "ca5ed48f32ec4a18a2b55e1cbdddd05b",
            "9d7bf15b5a7940089fe73b284b3de576",
            "f36ec294b40a4f5a9d3cb72e86a873fb",
            "c60c6d66dc444f6d9acbc6b2def59b79",
            "bf61c5ef20e24c5a9d8d6c091388f539",
            "42615e36682849b7b9ccaf897960a4d7",
            "6d6fae738f1e4bf589067db34f274312",
            "8561b15d27a146d4ade491a25ef4fb88"
          ]
        },
        "outputId": "08fbb59c-f127-407f-e7f5-c597d0f54cc4"
      },
      "execution_count": null,
      "outputs": [
        {
          "output_type": "display_data",
          "data": {
            "text/plain": [
              "  0%|          | 0/500 [00:00<?, ?it/s]"
            ],
            "application/vnd.jupyter.widget-view+json": {
              "version_major": 2,
              "version_minor": 0,
              "model_id": "bd533afeea8c47c29a046f1702e6c02e"
            }
          },
          "metadata": {}
        },
        {
          "output_type": "stream",
          "name": "stdout",
          "text": [
            "Objects: 0.5528916113376617\n",
            "Aspect: 0.39701573592424394\n"
          ]
        }
      ]
    },
    {
      "cell_type": "code",
      "source": [
        "evaluate_cos_sim_found(gpt2_fewshot_df, answer_aspect, answer_objects)"
      ],
      "metadata": {
        "colab": {
          "base_uri": "https://localhost:8080/",
          "referenced_widgets": [
            "5db4a71d98ab44b4bf1d40d3e7f038c5",
            "ea6182de4bde4fda85e786ad59f05d19",
            "5925faf2fd33474e8ab1dd5fc26941c6",
            "ab7928df3628407faf6c1a8d26e488b3",
            "4209e858400e458c84658831572d8d41",
            "4aae9b9f2b3d47edbcfca0fb021087f5",
            "6f18a472abd645218ec4dd2de2b34b32",
            "19441e874fcc479f802337ab3b8fa7c1",
            "864d7f55549f4eeaa41ffd1181773926",
            "1d80a673b0a8470bb251e8f135769e8c",
            "44b3ad02d309436c880a89a4fc7099a5"
          ]
        },
        "id": "zaWWfQMtMf0m",
        "outputId": "4a02e137-b4b8-4ec7-9716-c68764e60530"
      },
      "execution_count": null,
      "outputs": [
        {
          "output_type": "display_data",
          "data": {
            "text/plain": [
              "  0%|          | 0/500 [00:00<?, ?it/s]"
            ],
            "application/vnd.jupyter.widget-view+json": {
              "version_major": 2,
              "version_minor": 0,
              "model_id": "5db4a71d98ab44b4bf1d40d3e7f038c5"
            }
          },
          "metadata": {}
        },
        {
          "output_type": "stream",
          "name": "stdout",
          "text": [
            "Objects: 0.7410191232948217\n",
            "Aspect: 0.7694103409384572\n"
          ]
        }
      ]
    },
    {
      "cell_type": "markdown",
      "source": [
        "### relaxed"
      ],
      "metadata": {
        "id": "6SrSoZcCWYQn"
      }
    },
    {
      "cell_type": "markdown",
      "source": [
        "Полное совпадение"
      ],
      "metadata": {
        "id": "zL3Nv9XmxpxR"
      }
    },
    {
      "cell_type": "code",
      "source": [
        "evaluate_full_match_relaxed(gpt2_fewshot_df, answer_aspect, answer_objects)"
      ],
      "metadata": {
        "id": "GESUXLmRWbR9",
        "colab": {
          "base_uri": "https://localhost:8080/"
        },
        "outputId": "14a4a6e2-888f-4583-be3b-759cf91dc414"
      },
      "execution_count": null,
      "outputs": [
        {
          "output_type": "stream",
          "name": "stdout",
          "text": [
            "Objects: 0.323\n",
            "Aspect: 0.2\n"
          ]
        }
      ]
    },
    {
      "cell_type": "markdown",
      "source": [
        "Косинусная близость"
      ],
      "metadata": {
        "id": "JGG1r3WTxrzL"
      }
    },
    {
      "cell_type": "code",
      "source": [
        "evaluate_cos_sim_relaxed(gpt2_fewshot_df, answer_aspect, answer_objects)"
      ],
      "metadata": {
        "id": "nDyu5nFvxvMA",
        "colab": {
          "base_uri": "https://localhost:8080/",
          "referenced_widgets": [
            "ef4944f36294486a9224122067ad6db5",
            "fa28974fc9834b688991b00eba67ba29",
            "8a9491fcdae44c5ea460d88854c81cbb",
            "7d0013d0ab144a5097a4702b07b25231",
            "22c03da8e3fc4c3bbe23e006c85f7c4a",
            "73a294a467d3406e88d7aa1ecf7d3691",
            "2da96faadb4a42328d950b4533441a46",
            "873b302f6933453eb988dd2ac7686e86",
            "476365bc51d849b19faf0716092aa5f7",
            "7b269deec2cb455f87257c58672fa779",
            "8e00f4901e0848d7bd016bb227fc6d3a"
          ]
        },
        "outputId": "8b2d5734-f614-467d-f320-6f1a3f88f9e7"
      },
      "execution_count": null,
      "outputs": [
        {
          "output_type": "display_data",
          "data": {
            "text/plain": [
              "  0%|          | 0/500 [00:00<?, ?it/s]"
            ],
            "application/vnd.jupyter.widget-view+json": {
              "version_major": 2,
              "version_minor": 0,
              "model_id": "ef4944f36294486a9224122067ad6db5"
            }
          },
          "metadata": {}
        },
        {
          "output_type": "stream",
          "name": "stdout",
          "text": [
            "Objects: 0.6047172772884369\n",
            "Aspect: 0.39701573592424394\n"
          ]
        }
      ]
    },
    {
      "cell_type": "markdown",
      "source": [
        "# LLaMA"
      ],
      "metadata": {
        "id": "27uzOfCIRye5"
      }
    },
    {
      "cell_type": "markdown",
      "source": [
        "## zero shot"
      ],
      "metadata": {
        "id": "CHC_BI6VR5o0"
      }
    },
    {
      "cell_type": "code",
      "source": [
        "llama_zeroshot_df = pd.read_csv('./drive/My Drive/llama_zeroshot.csv', sep='\\t', encoding='utf-8')"
      ],
      "metadata": {
        "id": "-CqQmZbpSScA"
      },
      "execution_count": null,
      "outputs": []
    },
    {
      "cell_type": "code",
      "source": [
        "llama_zeroshot_df = delete_unnes_aspects(llama_zeroshot_df, unnes_asps)"
      ],
      "metadata": {
        "id": "uy2P-gXzf9ek"
      },
      "execution_count": null,
      "outputs": []
    },
    {
      "cell_type": "code",
      "source": [
        "starts = {}\n",
        "for i in range(len(llama_zeroshot_df)):\n",
        "  answer = llama_zeroshot_df.iloc[i,4]\n",
        "  start = ' '.join(answer.split(' ')[:2])\n",
        "  if start in starts.keys():\n",
        "    starts[start].append(i)\n",
        "  else:\n",
        "    starts[start] = [i]"
      ],
      "metadata": {
        "id": "Yhy5ORpyNJ1g"
      },
      "execution_count": null,
      "outputs": []
    },
    {
      "cell_type": "code",
      "source": [
        "starts.keys()"
      ],
      "metadata": {
        "colab": {
          "base_uri": "https://localhost:8080/"
        },
        "id": "xs5VP3OLUPc8",
        "outputId": "d8d6e0eb-3831-406d-a32e-8295ca4d0bcb"
      },
      "execution_count": null,
      "outputs": [
        {
          "output_type": "execute_result",
          "data": {
            "text/plain": [
              "dict_keys(['The objects', 'What are', '\\\\begin{itemize} \\\\item', 'HIV stands', 'Do deaf', 'What place', 'Who should', 'Who would', 'Billie Joe', 'Procedural Due', '### Instruction:', 'What exactly', 'IRS sefine', 'Cold air', 'Would you', 'Humans prefer', 'We bury', 'The USA', 'Bond investors', 'Wealth is', 'When talking', 'Iraq is', 'Convection ovens', 'Are records', 'BMI is', \"Netflix's New\", 'Salt trucks', \"Aren't r\", 'People in', 'In the', 'Bartenders and', 'Cooked food', 'The actual', 'There are', 'Sound travels', 'Was the', 'Are the', 'What cars', 'Can anyone', 'What type', 'Who is', 'What works', 'Are you', 'PCDATA and', 'People with', 'Airplanes take', 'x265 format', 'The core', 'What caused', 'Sleeping for', 'Malwarebytes Anti', \"Aren't telescopes\", 'Vegetarians and', 'Ireland and', 'Do you', \"Aren't electric\", 'Don\\'t \"', 'Would riding', 'What web', 'Do most', 'Passion and', 'Employer and', 'Do percoset', 'What TV', 'Humans and', 'What You', 'What game', 'Computer architecture', 'When I', 'Why do', 'Humans are', 'People who', 'Hydrogen bombs', 'Toilets and', 'The Allies', 'The human', 'People refer', 'Would rinsing', 'What on', 'Were people', \"Wouldn't having\", 'Are smaller', 'Benjamin Franklin', 'Doctors check', 'Are turquoise', 'Athletes in', 'Organic fruits', 'Would a', 'When someone', 'What makes'])"
            ]
          },
          "metadata": {},
          "execution_count": 157
        }
      ]
    },
    {
      "cell_type": "code",
      "source": [
        "for i in range(len(llama_zeroshot_df)):\n",
        "  answer = llama_zeroshot_df.iloc[i,4]\n",
        "  if '\\\\begin{itemize}' in answer:\n",
        "    answer = re.sub('\\\\\\\\begin{itemize}', '', answer)\n",
        "    answer = re.sub('\\\\\\\\item', '', answer)\n",
        "    answer = re.sub('\\\\\\\\end{itemize}', '', answer)\n",
        "    llama_zeroshot_df.iloc[i,4] = answer.strip(' ')\n",
        "  "
      ],
      "metadata": {
        "id": "4qMqi0-EWUYQ"
      },
      "execution_count": null,
      "outputs": []
    },
    {
      "cell_type": "code",
      "source": [
        "for i in range(len(llama_zeroshot_df)):\n",
        "  answer = llama_zeroshot_df.iloc[i,4]\n",
        "  if '\\\\end{code}' in answer:\n",
        "    answer = answer.split('\\\\end{code}')[0].strip(' ')\n",
        "    llama_zeroshot_df.iloc[i,4] = answer"
      ],
      "metadata": {
        "id": "sOTDCFG0X3qB"
      },
      "execution_count": null,
      "outputs": []
    },
    {
      "cell_type": "code",
      "source": [
        "answer_objects = []\n",
        "answer_aspect = []\n",
        "\n",
        "for i in range(len(llama_zeroshot_df)):\n",
        "  answer = llama_zeroshot_df.iloc[i,4].lower()\n",
        "  answer = re.sub('n\\'t', 'nt', answer)\n",
        "  answer = re.sub('y\\'re', 'yre', answer)\n",
        "  answer = re.sub('t\\'s', 'ts', answer)\n",
        "  objects = []\n",
        "  asp = ''\n",
        "  a = re.findall(\"[\\'s] ?are ?\\'?[^\\.\\?\\!]*\", answer) \n",
        "  for item in a:\n",
        "    if 'and' in item:\n",
        "      item = re.sub('[\\'s] ?are ?\\'?', '###', item)\n",
        "      item = ' '.join(item.split('###')[1:])\n",
        "      item = re.sub('[\\' ]and[ \\']', '###', item)\n",
        "      objects = item.split('###')\n",
        "      if len(objects) > 1:\n",
        "        if objects[1][:8] == ' the asp':\n",
        "          objects = [objects[0]]\n",
        "      \n",
        "\n",
        "  b = re.findall(\"[\\'n] ?is ?\\'?[^\\.]*\", answer)\n",
        "  for item in b:\n",
        "    item = re.sub('[\\' ]is[\\' ]', '###', item)\n",
        "    item = ' '.join(item.split('###')[1:])\n",
        "    asp = item\n",
        "\n",
        "  objects = [obj.strip(' ').strip('\\'') for obj in objects]\n",
        "  asp = asp.strip(' ').strip('\\'')\n",
        "\n",
        "  answer_objects.append(objects[:2])\n",
        "  answer_aspect.append(asp)\n"
      ],
      "metadata": {
        "id": "4d8W1zfRjUC0"
      },
      "execution_count": null,
      "outputs": []
    },
    {
      "cell_type": "code",
      "source": [
        "clear_answer_aspect = []\n",
        "for a in answer_aspect:\n",
        "  if a in unnes_asps:\n",
        "    clear_answer_aspect.append('')\n",
        "  else:\n",
        "    clear_answer_aspect.append(a)   \n",
        "\n",
        "answer_aspect = clear_answer_aspect "
      ],
      "metadata": {
        "id": "66USYZcYg7xf"
      },
      "execution_count": null,
      "outputs": []
    },
    {
      "cell_type": "markdown",
      "source": [
        "### MUC, CEAF"
      ],
      "metadata": {
        "id": "hct-VvXBQdKq"
      }
    },
    {
      "cell_type": "code",
      "source": [
        "evaluate_muc_ceaf_bcubed_f1(llama_zeroshot_df, answer_aspect, answer_objects)"
      ],
      "metadata": {
        "colab": {
          "base_uri": "https://localhost:8080/"
        },
        "id": "9v9FZgBKQekz",
        "outputId": "79c55f18-e031-41fc-d95f-8bc299f8aba6"
      },
      "execution_count": null,
      "outputs": [
        {
          "output_type": "stream",
          "name": "stdout",
          "text": [
            "MUC\n",
            "Objects:\n",
            "  precision: 0.5837961301855369\n",
            "  recall: 0.5982216280764697\n",
            "  f-score: 0.5487790854174059\n",
            "Aspect:\n",
            "  precision: 0.4771576797663178\n",
            "  recall: 0.5612893743183209\n",
            "  f-score: 0.47461481741248807\n",
            "\n",
            "CEAF\n",
            "Objects:\n",
            "  precision: 0.4804917650288479\n",
            "  recall: 0.4794943318818906\n",
            "  f-score: 0.4552751527545003\n",
            "Aspect:\n",
            "  precision: 0.3259584996932001\n",
            "  recall: 0.38813750297470734\n",
            "  f-score: 0.32732445381237263\n"
          ]
        }
      ]
    },
    {
      "cell_type": "markdown",
      "source": [
        "### edit_distance"
      ],
      "metadata": {
        "id": "df1P2sYv_n2_"
      }
    },
    {
      "cell_type": "code",
      "source": [
        "evaluate_edit_distance(llama_zeroshot_df, answer_aspect, answer_objects)"
      ],
      "metadata": {
        "colab": {
          "base_uri": "https://localhost:8080/"
        },
        "id": "G8opBhD9_mnP",
        "outputId": "c690366f-5adc-49b2-852b-cff8d8d478bc"
      },
      "execution_count": null,
      "outputs": [
        {
          "output_type": "stream",
          "name": "stdout",
          "text": [
            "Objects: 7.646606334841629\n",
            "Aspect: 19.51785028790787\n"
          ]
        }
      ]
    },
    {
      "cell_type": "markdown",
      "source": [
        "### strict"
      ],
      "metadata": {
        "id": "eZUY7xAJWTln"
      }
    },
    {
      "cell_type": "markdown",
      "source": [
        "Полное совпадение"
      ],
      "metadata": {
        "id": "lAu9W2Noyd5C"
      }
    },
    {
      "cell_type": "code",
      "source": [
        "evaluate_full_match(llama_zeroshot_df, answer_aspect, answer_objects)"
      ],
      "metadata": {
        "colab": {
          "base_uri": "https://localhost:8080/"
        },
        "id": "2LD-QnrS3CHS",
        "outputId": "f1b3d2d3-4823-4ab9-d1b9-6240f300025d"
      },
      "execution_count": null,
      "outputs": [
        {
          "output_type": "stream",
          "name": "stdout",
          "text": [
            "Objects: 0.29506051684658163\n",
            "Aspect: 0.4118416748446189\n"
          ]
        }
      ]
    },
    {
      "cell_type": "markdown",
      "source": [
        "Косинусная близость"
      ],
      "metadata": {
        "id": "tnDpuW9kygmR"
      }
    },
    {
      "cell_type": "code",
      "source": [
        "evaluate_cos_sim(llama_zeroshot_df, answer_aspect, answer_objects) "
      ],
      "metadata": {
        "id": "KZkXcxNt9kJP",
        "colab": {
          "base_uri": "https://localhost:8080/",
          "referenced_widgets": [
            "9f1a543459df4ac2bba9fd15898ae6a4",
            "9cc7864f50404011832858af8b8be7e6",
            "a4b2c2d3cb914b6c8c0c973724b82efa",
            "750fb5ef1f7c4d8ab992eb1caf0b96cf",
            "38e0d974e9af40e3bfafb7a7a03c4bdc",
            "0c1035632cfc4d45ac959cc2ea619484",
            "b9f55c2d54c843deb7c3145ff3c4ad5f",
            "7c81deed14cd46339eda3b43d79f17ce",
            "2d277e267d3e4254b6591e77efdd8895",
            "6adc3e501f5d4110acd31710027193c6",
            "178c5bc9108e4c8090f450d5e4d7e135"
          ]
        },
        "outputId": "140bb11e-354b-4171-e01e-a1ab29f3a351"
      },
      "execution_count": null,
      "outputs": [
        {
          "output_type": "display_data",
          "data": {
            "text/plain": [
              "  0%|          | 0/3057 [00:00<?, ?it/s]"
            ],
            "application/vnd.jupyter.widget-view+json": {
              "version_major": 2,
              "version_minor": 0,
              "model_id": "9f1a543459df4ac2bba9fd15898ae6a4"
            }
          },
          "metadata": {}
        },
        {
          "output_type": "stream",
          "name": "stdout",
          "text": [
            "Objects: 0.6174171389168019\n",
            "Aspect: 0.5749024662360096\n"
          ]
        }
      ]
    },
    {
      "cell_type": "code",
      "source": [
        "evaluate_cos_sim_found(llama_zeroshot_df, answer_aspect, answer_objects)"
      ],
      "metadata": {
        "colab": {
          "base_uri": "https://localhost:8080/",
          "referenced_widgets": [
            "b507126bbb454388be4cb844788ddb63",
            "62f5519bb40f4bfb9c44bb9e720bafef",
            "26dd2f325c9f46be9545f7b0343e898c",
            "97809a9dc73f402aac7aec06f2e1a7f2",
            "2a849820852d4f2e930fb47d22a531c0",
            "e90f485260db4f3c80e4a162138e025f",
            "2f2290d3bc2f4565ba1301c62d4b8665",
            "595421cb09164f219b234c2f9b352d3f",
            "5bef5db1320740ba9a582e214a97ecf7",
            "0b34b95bd4e944ac8aa954f1d1987de8",
            "b18ce9b31f8646a68a5e8c06174fe347"
          ]
        },
        "id": "sWVj-eSPGMzk",
        "outputId": "e1c2f029-6205-44ca-db75-1cef5f18b42c"
      },
      "execution_count": null,
      "outputs": [
        {
          "output_type": "display_data",
          "data": {
            "text/plain": [
              "  0%|          | 0/3057 [00:00<?, ?it/s]"
            ],
            "application/vnd.jupyter.widget-view+json": {
              "version_major": 2,
              "version_minor": 0,
              "model_id": "b507126bbb454388be4cb844788ddb63"
            }
          },
          "metadata": {}
        },
        {
          "output_type": "stream",
          "name": "stdout",
          "text": [
            "Objects: 0.8523624507784039\n",
            "Aspect: 0.8666059365303161\n"
          ]
        }
      ]
    },
    {
      "cell_type": "markdown",
      "source": [
        "### relaxed"
      ],
      "metadata": {
        "id": "JQlLqqCuWO-D"
      }
    },
    {
      "cell_type": "markdown",
      "source": [
        "Полное совпадение"
      ],
      "metadata": {
        "id": "AjaGabb_yj2_"
      }
    },
    {
      "cell_type": "code",
      "source": [
        "evaluate_full_match_relaxed(llama_zeroshot_df, answer_aspect, answer_objects)"
      ],
      "metadata": {
        "id": "-qcS46uRWRzA",
        "colab": {
          "base_uri": "https://localhost:8080/"
        },
        "outputId": "3545c812-39fa-4f5e-bcf7-ee3ef0723952"
      },
      "execution_count": null,
      "outputs": [
        {
          "output_type": "stream",
          "name": "stdout",
          "text": [
            "Objects: 0.354105332024861\n",
            "Aspect: 0.4118416748446189\n"
          ]
        }
      ]
    },
    {
      "cell_type": "markdown",
      "source": [
        "Косинусная близость"
      ],
      "metadata": {
        "id": "f-pHDlFcylne"
      }
    },
    {
      "cell_type": "code",
      "source": [
        "evaluate_cos_sim_relaxed(llama_zeroshot_df, answer_aspect, answer_objects)"
      ],
      "metadata": {
        "id": "S5yWzDC4Apkg",
        "colab": {
          "base_uri": "https://localhost:8080/",
          "referenced_widgets": [
            "8bea3c3c3cec4fce851cbd68e60e064d",
            "e01183d81cb54400926b4910d54ae6f9",
            "4ebe693a8f7d4f0cbb87504debda6a1f",
            "d77dc83c4f544ba8bf45c5000c2c7105",
            "9b81f37b489246df85fe2a1440766da0",
            "e2ba2836b63249ea812cd600a7b16569",
            "7004cf6b5d594c459da70d61e7f6f31c",
            "dc23fa640fae40be815e28f52b29857e",
            "ecb27e16ab804c419e91d758ab8f40c3",
            "3953b57196a84579838a6ea4642c6264",
            "5f52a75538474f9890144d84d24d547f"
          ]
        },
        "outputId": "1ccc7df0-dfe8-46b5-a843-dfb330969872"
      },
      "execution_count": null,
      "outputs": [
        {
          "data": {
            "application/vnd.jupyter.widget-view+json": {
              "model_id": "8bea3c3c3cec4fce851cbd68e60e064d",
              "version_major": 2,
              "version_minor": 0
            },
            "text/plain": [
              "  0%|          | 0/3057 [00:00<?, ?it/s]"
            ]
          },
          "metadata": {},
          "output_type": "display_data"
        },
        {
          "output_type": "stream",
          "name": "stdout",
          "text": [
            "Objects: 0.6187599418056647\n",
            "Aspect: 0.5749024662360096\n"
          ]
        }
      ]
    },
    {
      "cell_type": "markdown",
      "source": [
        "# T5"
      ],
      "metadata": {
        "id": "FWvKSz9kR5vs"
      }
    },
    {
      "cell_type": "markdown",
      "source": [
        "## few shot+"
      ],
      "metadata": {
        "id": "7AkUhLx1zn1B"
      }
    },
    {
      "cell_type": "code",
      "source": [
        "t5_fewshot_large_df = pd.read_csv('./drive/My Drive/t5_fewshot_big.csv', sep='\\t', encoding='utf-8')"
      ],
      "metadata": {
        "id": "T9sv0z_MzrZU"
      },
      "execution_count": null,
      "outputs": []
    },
    {
      "cell_type": "code",
      "source": [
        "t5_fewshot_large_df = delete_unnes_aspects(t5_fewshot_large_df, unnes_asps)"
      ],
      "metadata": {
        "id": "kEjpmgG6gAkc"
      },
      "execution_count": null,
      "outputs": []
    },
    {
      "cell_type": "code",
      "source": [
        "answer_aspect = []\n",
        "answer_objects = []\n",
        "\n",
        "for i in range(len(t5_fewshot_large_df)):\n",
        "  answer = t5_fewshot_large_df.iloc[i, 4]\n",
        "  lines = answer.split('Objects')\n",
        "\n",
        "  asps = []\n",
        "  objs = []\n",
        "\n",
        "  for l in lines:\n",
        "\n",
        "    if 'Aspect' in l:\n",
        "      aspect = l.split('Aspect')[1].strip(':').strip(' ')\n",
        "      if aspect and aspect not in asps:\n",
        "        asps.append(aspect.split(' Wh')[0].strip('\\''))\n",
        "\n",
        "      obj = l.split('Aspect')[0].strip(':').strip(' ')\n",
        "      obj = re.sub('[\\' ],[ \\']', '\\',\\'', obj)\n",
        "      if obj:\n",
        "        obj = obj.split(',')\n",
        "        for o in obj:\n",
        "          if o not in objs:\n",
        "            objs.append(o.strip('\\''))\n",
        "  if asps:\n",
        "    answer_aspect.append(asps[0]) \n",
        "  else:\n",
        "    answer_aspect.append('')\n",
        "  answer_objects.append(objs) \n",
        "\n"
      ],
      "metadata": {
        "id": "TQiEIqqtz6to"
      },
      "execution_count": null,
      "outputs": []
    },
    {
      "cell_type": "code",
      "source": [
        "clear_answer_aspect = []\n",
        "for a in answer_aspect:\n",
        "  if a in unnes_asps:\n",
        "    clear_answer_aspect.append('')\n",
        "  else:\n",
        "    clear_answer_aspect.append(a)   \n",
        "\n",
        "answer_aspect = clear_answer_aspect "
      ],
      "metadata": {
        "id": "P8cp6SDOg-eF"
      },
      "execution_count": null,
      "outputs": []
    },
    {
      "cell_type": "markdown",
      "source": [
        "### MUC, CEAF"
      ],
      "metadata": {
        "id": "Y5OY6OKVQlFj"
      }
    },
    {
      "cell_type": "code",
      "source": [
        "evaluate_muc_ceaf_bcubed_f1(t5_fewshot_large_df, answer_aspect, answer_objects)"
      ],
      "metadata": {
        "colab": {
          "base_uri": "https://localhost:8080/"
        },
        "id": "bMphSHO-QmPS",
        "outputId": "76300818-263d-47bb-f91e-ea87071e860c"
      },
      "execution_count": null,
      "outputs": [
        {
          "output_type": "stream",
          "name": "stdout",
          "text": [
            "MUC\n",
            "Objects:\n",
            "  precision: 0.7806698138102716\n",
            "  recall: 0.7685025361264732\n",
            "  f-score: 0.711594713220498\n",
            "Aspect:\n",
            "  precision: 0.36329584867662246\n",
            "  recall: 0.4145039413912354\n",
            "  f-score: 0.35102016969256766\n",
            "\n",
            "CEAF\n",
            "Objects:\n",
            "  precision: 0.44891587511997183\n",
            "  recall: 0.6726700738715234\n",
            "  f-score: 0.4988518558849245\n",
            "Aspect:\n",
            "  precision: 0.2991233473948296\n",
            "  recall: 0.34597046023234584\n",
            "  f-score: 0.29523168981043124\n"
          ]
        }
      ]
    },
    {
      "cell_type": "markdown",
      "source": [
        "### edit_distance"
      ],
      "metadata": {
        "id": "kLUI94Qy0pGi"
      }
    },
    {
      "cell_type": "code",
      "source": [
        "evaluate_edit_distance(t5_fewshot_large_df, answer_aspect, answer_objects)"
      ],
      "metadata": {
        "colab": {
          "base_uri": "https://localhost:8080/"
        },
        "id": "NyqTlh2c0cuI",
        "outputId": "6b5eb768-adb2-4d47-cb59-b9031d023cb1"
      },
      "execution_count": null,
      "outputs": [
        {
          "output_type": "stream",
          "name": "stdout",
          "text": [
            "Objects: 3.8754578754578755\n",
            "Aspect: 10.34020618556701\n"
          ]
        }
      ]
    },
    {
      "cell_type": "markdown",
      "source": [
        "### strict"
      ],
      "metadata": {
        "id": "EhtsE6yy0s1O"
      }
    },
    {
      "cell_type": "markdown",
      "source": [
        "Полное совпадение"
      ],
      "metadata": {
        "id": "LEf_U6fF0GFn"
      }
    },
    {
      "cell_type": "code",
      "source": [
        "evaluate_full_match(t5_fewshot_large_df, answer_aspect, answer_objects)"
      ],
      "metadata": {
        "colab": {
          "base_uri": "https://localhost:8080/"
        },
        "id": "sbceQ7Ti0xa4",
        "outputId": "35dd605d-1b6b-4a73-9cf9-4a103d620efc"
      },
      "execution_count": null,
      "outputs": [
        {
          "output_type": "stream",
          "name": "stdout",
          "text": [
            "Objects: 0.356\n",
            "Aspect: 0.284\n"
          ]
        }
      ]
    },
    {
      "cell_type": "markdown",
      "source": [
        "Косинусная близость"
      ],
      "metadata": {
        "id": "lKz2I_og0NsO"
      }
    },
    {
      "cell_type": "code",
      "source": [
        "evaluate_cos_sim(t5_fewshot_large_df, answer_aspect, answer_objects) "
      ],
      "metadata": {
        "colab": {
          "base_uri": "https://localhost:8080/",
          "referenced_widgets": [
            "02371bbeb9c14c1ab128a02b90cfd903",
            "889af13a2a4844869e8beba03bcc5022",
            "12f2456b54224cacb35e7fbcaaaae428",
            "996684fac725473a94cc98d39e1c6baf",
            "d9397aadf16245ab9f828c54a0a87bf1",
            "be0e406b586042e2ab8ef128f2199349",
            "4dc544a2652f41638fc21bf8574030eb",
            "6347641365b64e71be168f7c83f95bb6",
            "49d566486a0f4ecfad7607b1d868b000",
            "b8af85d46af84e8894864555d8b94e18",
            "070c8d301680459ba9c44612c20742e9"
          ]
        },
        "id": "5uOFTXuD02lo",
        "outputId": "f10ae23d-5043-4607-ec1f-cf3d3a621f1d"
      },
      "execution_count": null,
      "outputs": [
        {
          "output_type": "display_data",
          "data": {
            "text/plain": [
              "  0%|          | 0/500 [00:00<?, ?it/s]"
            ],
            "application/vnd.jupyter.widget-view+json": {
              "version_major": 2,
              "version_minor": 0,
              "model_id": "02371bbeb9c14c1ab128a02b90cfd903"
            }
          },
          "metadata": {}
        },
        {
          "output_type": "stream",
          "name": "stdout",
          "text": [
            "Objects: 0.24649174040555955\n",
            "Aspect: 0.46939751715958117\n"
          ]
        }
      ]
    },
    {
      "cell_type": "code",
      "source": [
        "evaluate_cos_sim_found(t5_fewshot_large_df, answer_aspect, answer_objects)"
      ],
      "metadata": {
        "id": "T4csmG0XEqWn",
        "colab": {
          "base_uri": "https://localhost:8080/",
          "referenced_widgets": [
            "e230a21985044d6ea78ae854932d276c",
            "83f695c63d3149ef93e89ce8df03796c",
            "287f7c0b1cb140b5ad1ef8314b0ffcbd",
            "9ca1bac8b4da4877a47c775bab188c0a",
            "118659611816433582db309bfc593269",
            "2156869dbafb4b0abf54cadeb204712d",
            "11e82ae9c92e4d3382531fe736d4b204",
            "947cc2ca94f24675a516437c9ad50e5c",
            "37538ee029354afaae984f020535be3a",
            "847ddc04f67447fda8e97dbc6a579ab3",
            "199987c454fe472096a3a331c9172d4e"
          ]
        },
        "outputId": "cf8a5046-a21c-4e04-ae07-b234724f5d27"
      },
      "execution_count": null,
      "outputs": [
        {
          "output_type": "display_data",
          "data": {
            "text/plain": [
              "  0%|          | 0/500 [00:00<?, ?it/s]"
            ],
            "application/vnd.jupyter.widget-view+json": {
              "version_major": 2,
              "version_minor": 0,
              "model_id": "e230a21985044d6ea78ae854932d276c"
            }
          },
          "metadata": {}
        },
        {
          "output_type": "stream",
          "name": "stdout",
          "text": [
            "Objects: 0.7927860410884022\n",
            "Aspect: 0.7797300949494704\n"
          ]
        }
      ]
    },
    {
      "cell_type": "markdown",
      "source": [
        "### relaxed"
      ],
      "metadata": {
        "id": "OySV6e5Z1DPu"
      }
    },
    {
      "cell_type": "markdown",
      "source": [
        "Полное совпадение"
      ],
      "metadata": {
        "id": "CmRtfnpo1kxB"
      }
    },
    {
      "cell_type": "code",
      "source": [
        "evaluate_full_match_relaxed(t5_fewshot_large_df, answer_aspect, answer_objects)"
      ],
      "metadata": {
        "id": "0Ar7D8WK1FCG",
        "colab": {
          "base_uri": "https://localhost:8080/"
        },
        "outputId": "7fbc3522-62cc-4591-a1ae-473df1d33406"
      },
      "execution_count": null,
      "outputs": [
        {
          "output_type": "stream",
          "name": "stdout",
          "text": [
            "Objects: 0.961\n",
            "Aspect: 0.284\n"
          ]
        }
      ]
    },
    {
      "cell_type": "markdown",
      "source": [
        "Косинусная близость"
      ],
      "metadata": {
        "id": "4lv4Px4_1mNI"
      }
    },
    {
      "cell_type": "code",
      "source": [
        "evaluate_cos_sim_relaxed(t5_fewshot_large_df, answer_aspect, answer_objects)"
      ],
      "metadata": {
        "id": "-iOFe8St1LOH",
        "colab": {
          "base_uri": "https://localhost:8080/",
          "referenced_widgets": [
            "1e599a0cbada45b88d15a33795a4b299",
            "26fa961f57ea49f9aea7777726d681a9",
            "be7fed1827f945cf9a5a021c7fc06b2f",
            "f4dde99165c24d41a71b3bd368a4a3b9",
            "a7a56c6f9b9e4268900909f10227f129",
            "31b6c849a20d467bb7a25f93c4b1c780",
            "51ab596f805a47fb809a3ac7163e25e2",
            "454a039fb9384600bdd8a49c51ca25a4",
            "6a3aba6f03b84a0b969e1709b4485ed0",
            "0afc2d6ee5614b2cbc1c54cc12bb7ea8",
            "d33e798331f64508ba54d51e67ce655e"
          ]
        },
        "outputId": "8fb6abf0-f80c-4caa-8710-fcc12a332419"
      },
      "execution_count": null,
      "outputs": [
        {
          "output_type": "display_data",
          "data": {
            "text/plain": [
              "  0%|          | 0/500 [00:00<?, ?it/s]"
            ],
            "application/vnd.jupyter.widget-view+json": {
              "version_major": 2,
              "version_minor": 0,
              "model_id": "1e599a0cbada45b88d15a33795a4b299"
            }
          },
          "metadata": {}
        },
        {
          "output_type": "stream",
          "name": "stdout",
          "text": [
            "Objects: 0.25009163677692414\n",
            "Aspect: 0.46939751715958117\n"
          ]
        }
      ]
    },
    {
      "cell_type": "markdown",
      "source": [
        "## few shot"
      ],
      "metadata": {
        "id": "E19bSJfRSDRr"
      }
    },
    {
      "cell_type": "code",
      "source": [
        "t5_fewshot_df = pd.read_csv('./drive/My Drive/t5_fewshot.csv', sep='\\t', encoding='utf-8')"
      ],
      "metadata": {
        "id": "NKSwmuzJSGwr"
      },
      "execution_count": null,
      "outputs": []
    },
    {
      "cell_type": "code",
      "source": [
        "t5_fewshot_df = delete_unnes_aspects(t5_fewshot_df, unnes_asps)"
      ],
      "metadata": {
        "id": "WuwgtyvegDbR"
      },
      "execution_count": null,
      "outputs": []
    },
    {
      "cell_type": "code",
      "source": [
        "answer_aspect = []\n",
        "answer_objects = []\n",
        "\n",
        "for i in range(len(t5_fewshot_df)):\n",
        "  answer = t5_fewshot_df.iloc[i, 4]\n",
        "  lines = answer.split('Objects')\n",
        "\n",
        "  asps = []\n",
        "  objs = []\n",
        "\n",
        "  for l in lines:\n",
        "\n",
        "    if 'Aspect' in l:\n",
        "      aspect = l.split('Aspect')[1].strip(':').strip(' ')\n",
        "      if aspect and aspect not in asps:\n",
        "        asps.append(aspect.split(' Wh')[0].strip('\\''))\n",
        "\n",
        "      obj = l.split('Aspect')[0].strip(':').strip(' ')\n",
        "      obj = re.sub('[\\' ],[ \\']', '\\',\\'', obj)\n",
        "      if obj:\n",
        "        obj = obj.split(',')\n",
        "        for o in obj:\n",
        "          if o not in objs:\n",
        "            objs.append(o.strip('\\''))\n",
        "\n",
        "  if asps:\n",
        "    answer_aspect.append(asps[0]) \n",
        "  else:\n",
        "    answer_aspect.append('') \n",
        "  answer_objects.append(objs)\n",
        "\n"
      ],
      "metadata": {
        "id": "YRAvgSD4tObL"
      },
      "execution_count": null,
      "outputs": []
    },
    {
      "cell_type": "code",
      "source": [
        "clear_answer_aspect = []\n",
        "for a in answer_aspect:\n",
        "  if a in unnes_asps:\n",
        "    clear_answer_aspect.append('')\n",
        "  else:\n",
        "    clear_answer_aspect.append(a)   \n",
        "\n",
        "answer_aspect = clear_answer_aspect "
      ],
      "metadata": {
        "id": "pdYuiG5ahBGy"
      },
      "execution_count": null,
      "outputs": []
    },
    {
      "cell_type": "markdown",
      "source": [
        "### MUC, CEAF"
      ],
      "metadata": {
        "id": "P2waw_0IQsDH"
      }
    },
    {
      "cell_type": "code",
      "source": [
        "evaluate_muc_ceaf_bcubed_f1(t5_fewshot_df, answer_aspect, answer_objects)"
      ],
      "metadata": {
        "colab": {
          "base_uri": "https://localhost:8080/"
        },
        "id": "mbAjo6NbQtKT",
        "outputId": "e089a3de-f0af-407f-8a30-3dd45fef6602"
      },
      "execution_count": null,
      "outputs": [
        {
          "output_type": "stream",
          "name": "stdout",
          "text": [
            "MUC\n",
            "Objects:\n",
            "  precision: 0.8486767545819883\n",
            "  recall: 0.7252750444825334\n",
            "  f-score: 0.7248236230433327\n",
            "Aspect:\n",
            "  precision: 0.4055111325711769\n",
            "  recall: 0.4433006119037392\n",
            "  f-score: 0.3861198951243622\n",
            "\n",
            "CEAF\n",
            "Objects:\n",
            "  precision: 0.6730975921818193\n",
            "  recall: 0.644654583346271\n",
            "  f-score: 0.6239526844838434\n",
            "Aspect:\n",
            "  precision: 0.3300141100290674\n",
            "  recall: 0.35904912496951463\n",
            "  f-score: 0.3207179109290249\n"
          ]
        }
      ]
    },
    {
      "cell_type": "markdown",
      "source": [
        "### edit_distance"
      ],
      "metadata": {
        "id": "w_difYog_GeZ"
      }
    },
    {
      "cell_type": "code",
      "source": [
        "evaluate_edit_distance(t5_fewshot_df, answer_aspect, answer_objects)"
      ],
      "metadata": {
        "colab": {
          "base_uri": "https://localhost:8080/"
        },
        "id": "_Rf8eXtW_IBW",
        "outputId": "b941bdab-9233-4905-baeb-583cd85dca8d"
      },
      "execution_count": null,
      "outputs": [
        {
          "output_type": "stream",
          "name": "stdout",
          "text": [
            "Objects: 4.643356643356643\n",
            "Aspect: 8.560165975103734\n"
          ]
        }
      ]
    },
    {
      "cell_type": "markdown",
      "source": [
        "### strict"
      ],
      "metadata": {
        "id": "B2z7Oqr6WIoB"
      }
    },
    {
      "cell_type": "markdown",
      "source": [
        "Полное совпадение"
      ],
      "metadata": {
        "id": "HfbGGHUV0U4e"
      }
    },
    {
      "cell_type": "code",
      "source": [
        "evaluate_full_match(t5_fewshot_df, answer_aspect, answer_objects)"
      ],
      "metadata": {
        "colab": {
          "base_uri": "https://localhost:8080/"
        },
        "id": "wDltMwq23hep",
        "outputId": "ac38f084-674c-49b2-cae9-a56ac375dde3"
      },
      "execution_count": null,
      "outputs": [
        {
          "output_type": "stream",
          "name": "stdout",
          "text": [
            "Objects: 0.418\n",
            "Aspect: 0.318\n"
          ]
        }
      ]
    },
    {
      "cell_type": "markdown",
      "source": [
        "Косинусная близость"
      ],
      "metadata": {
        "id": "lpxBE5ak0TJV"
      }
    },
    {
      "cell_type": "code",
      "source": [
        "evaluate_cos_sim(t5_fewshot_df, answer_aspect, answer_objects) "
      ],
      "metadata": {
        "id": "9KqUfOLf-F1u",
        "colab": {
          "base_uri": "https://localhost:8080/",
          "referenced_widgets": [
            "1dc1a1ec4df0409e9002cf5d6126b89e",
            "963c4db063a24f019a43e2d3bea497ae",
            "76f908d505c24afba341d89d8e55254e",
            "fcfde589be8e42b1a5c912fdafafb6a2",
            "0d2cdfd137d04be89606cc6997a05c8e",
            "ccf0c28ee9034615a8232c66e6613f7f",
            "a3f3784b4fa94a8d96a7e4dc4785fd08",
            "42fbea6c684d43e8938685c39c1b5acc",
            "8edae54297d0443f9ac1939a3ca9fa01",
            "7490b4fb3ef846ada12157e335f891b7",
            "0faf4d1e4d284f04b577468c0353a33c"
          ]
        },
        "outputId": "029fde69-5547-4530-96dd-b3749631ba3d"
      },
      "execution_count": null,
      "outputs": [
        {
          "output_type": "display_data",
          "data": {
            "text/plain": [
              "  0%|          | 0/500 [00:00<?, ?it/s]"
            ],
            "application/vnd.jupyter.widget-view+json": {
              "version_major": 2,
              "version_minor": 0,
              "model_id": "1dc1a1ec4df0409e9002cf5d6126b89e"
            }
          },
          "metadata": {}
        },
        {
          "output_type": "stream",
          "name": "stdout",
          "text": [
            "Objects: 0.6995942766666412\n",
            "Aspect: 0.4976346382051706\n"
          ]
        }
      ]
    },
    {
      "cell_type": "code",
      "source": [
        "evaluate_cos_sim_found(t5_fewshot_df, answer_aspect, answer_objects)"
      ],
      "metadata": {
        "id": "mrLW58M4FOtR",
        "colab": {
          "base_uri": "https://localhost:8080/",
          "referenced_widgets": [
            "95b12dd6921b4c0ebb52d9edc1683792",
            "05c5346528d34d908e41c3539cbc9e24",
            "4ffc3b4187f3469693ea7ae4a869ed02",
            "822f49f6739849b8b0d7f50f038585da",
            "b77d8e9e2c47498ca138b73e16eaea93",
            "073ffa1a8b32419ca8e1d2e6fb95ac84",
            "12e476dbac4d4434a24a83c170cfe3e6",
            "558cd880b69342718a4a9482f79d543a",
            "32bbad9c5a1642c38ac8d27d1ae2a0f7",
            "b0b5c1a83cf645ef83896e86bf6cef83",
            "2b6706722a0346ed85f53d319cf2ed0e"
          ]
        },
        "outputId": "7c2d4312-b01f-4e4c-911a-34855fa19d78"
      },
      "execution_count": null,
      "outputs": [
        {
          "output_type": "display_data",
          "data": {
            "text/plain": [
              "  0%|          | 0/500 [00:00<?, ?it/s]"
            ],
            "application/vnd.jupyter.widget-view+json": {
              "version_major": 2,
              "version_minor": 0,
              "model_id": "95b12dd6921b4c0ebb52d9edc1683792"
            }
          },
          "metadata": {}
        },
        {
          "output_type": "stream",
          "name": "stdout",
          "text": [
            "Objects: 0.8629814709348632\n",
            "Aspect: 0.8052340424031887\n"
          ]
        }
      ]
    },
    {
      "cell_type": "markdown",
      "source": [
        "### relaxed"
      ],
      "metadata": {
        "id": "1ZVDymG7WD2X"
      }
    },
    {
      "cell_type": "markdown",
      "source": [
        "Полное совпадение"
      ],
      "metadata": {
        "id": "T667mHgp1PpB"
      }
    },
    {
      "cell_type": "code",
      "source": [
        "evaluate_full_match_relaxed(t5_fewshot_df, answer_aspect, answer_objects)"
      ],
      "metadata": {
        "id": "Zd7sWm-9WHI2",
        "colab": {
          "base_uri": "https://localhost:8080/"
        },
        "outputId": "bceb4856-1442-4cdc-a3e2-494e39c1e31c"
      },
      "execution_count": null,
      "outputs": [
        {
          "output_type": "stream",
          "name": "stdout",
          "text": [
            "Objects: 0.649\n",
            "Aspect: 0.318\n"
          ]
        }
      ]
    },
    {
      "cell_type": "markdown",
      "source": [
        "Косинусная близость"
      ],
      "metadata": {
        "id": "SqKHAAjk1ReF"
      }
    },
    {
      "cell_type": "code",
      "source": [
        "evaluate_cos_sim_relaxed(t5_fewshot_df, answer_aspect, answer_objects)"
      ],
      "metadata": {
        "id": "75Ah83YaEFHv",
        "colab": {
          "base_uri": "https://localhost:8080/",
          "referenced_widgets": [
            "6de684f278044438bd1c7e3f1524694e",
            "4bf80191775347729874fcae0fcd8ab5",
            "753fc324fed74d31b3eff9b924c15d03",
            "34bfee3947b348299c0e3e1af31968e7",
            "d2b25ad4cd5042d88ed58a14c30f9862",
            "7ce025c5ed434501a6603d882ff57216",
            "acd3a28d64c54db2930edc71d7252a1e",
            "29ed06cff1d34af3bbd0d5f6ce6c99d8",
            "94535dc4aca74a9ca37f6fb297c48262",
            "e283f3b3251341a19ab45bdae5eb3e49",
            "aceb71caa29442c68b3236c7d07e61d5"
          ]
        },
        "outputId": "1816e387-6786-4f0a-8dd3-74acd54bf8d7"
      },
      "execution_count": null,
      "outputs": [
        {
          "output_type": "display_data",
          "data": {
            "text/plain": [
              "  0%|          | 0/500 [00:00<?, ?it/s]"
            ],
            "application/vnd.jupyter.widget-view+json": {
              "version_major": 2,
              "version_minor": 0,
              "model_id": "6de684f278044438bd1c7e3f1524694e"
            }
          },
          "metadata": {}
        },
        {
          "output_type": "stream",
          "name": "stdout",
          "text": [
            "Objects: 0.7001676155328751\n",
            "Aspect: 0.4976346382051706\n"
          ]
        }
      ]
    },
    {
      "cell_type": "markdown",
      "source": [
        "# Flan-T5"
      ],
      "metadata": {
        "id": "PqeGkRNWSIXP"
      }
    },
    {
      "cell_type": "markdown",
      "source": [
        "## zero shot"
      ],
      "metadata": {
        "id": "vtm96brcSLya"
      }
    },
    {
      "cell_type": "code",
      "source": [
        "flant5_zeroshot_df = pd.read_csv('./drive/My Drive/flant5_zeroshot.csv', sep='\\t', encoding='utf-8')"
      ],
      "metadata": {
        "id": "r3_AuiFOSQjE"
      },
      "execution_count": null,
      "outputs": []
    },
    {
      "cell_type": "code",
      "source": [
        "words = ['and', 'or', 'vs', 'versus', 'than']\n",
        "separators = [',', '&', '/']"
      ],
      "metadata": {
        "id": "SoSlhpyUyPtW"
      },
      "execution_count": null,
      "outputs": []
    },
    {
      "cell_type": "code",
      "source": [
        "answer_objects = []\n",
        "\n",
        "for i in range(len(flant5_zeroshot_df)):\n",
        "  answer = flant5_zeroshot_df.iloc[i,4].lower()\n",
        "\n",
        "  if 'and' in answer:\n",
        "    objects = answer.split(' and ')\n",
        "  elif 'or' in answer:\n",
        "    objects = answer.split(' or ')\n",
        "  elif 'vs' in answer:\n",
        "    objects = answer.split(' vs ')\n",
        "  elif 'versus' in answer:\n",
        "    objects = answer.split(' versus ')\n",
        "  elif 'than' in answer:\n",
        "    objects = answer.split(' than ')\n",
        "\n",
        "  elif ',' in answer:\n",
        "    objects = answer.split(',')\n",
        "    objects = [obj.strip(' ') for obj in objects]\n",
        "  elif '&' in answer:\n",
        "    objects = answer.split('&')\n",
        "    objects = [obj.strip(' ') for obj in objects]\n",
        "  elif '/' in answer:\n",
        "    objects = answer.split('/')\n",
        "    objects = [obj.strip(' ') for obj in objects]\n",
        "\n",
        "  elif len(answer.split(' ')) % 2 == 0:\n",
        "    objects_ = answer.split(' ')\n",
        "    obj1 = ' '.join(objects_[:int(len(answer.split(' '))/2)])\n",
        "    obj2 = ' '.join(objects_[int(len(answer.split(' '))/2):])\n",
        "    objects = [obj1, obj2]\n",
        "\n",
        "  else:\n",
        "    objects = []\n",
        "  \n",
        "  answer_objects.append(objects)"
      ],
      "metadata": {
        "id": "_FpP6jHLvpxG"
      },
      "execution_count": null,
      "outputs": []
    },
    {
      "cell_type": "markdown",
      "source": [
        "### MUC, CEAF"
      ],
      "metadata": {
        "id": "cqokwx92RE3Y"
      }
    },
    {
      "cell_type": "code",
      "source": [
        "muc_objects = []\n",
        "ceaf_objects = []\n",
        "\n",
        "for i in range(len(flant5_zeroshot_df)):\n",
        "  objs = [flant5_zeroshot_df.iloc[i,1].lower(), flant5_zeroshot_df.iloc[i,2].lower()]\n",
        "  objs = [obj+'_' if len(obj)==1 else obj for obj in objs]\n",
        "\n",
        "  pred_objects = [ans.lower() for ans in answer_objects[i]]\n",
        "  pred_objects = [obj+'_' if len(obj)==1 else obj for obj in pred_objects]\n",
        "\n",
        "  split_objs = [[i for i in obj] for obj in objs]\n",
        "  if pred_objects == []:\n",
        "    split_pred_objs = [['_', '_'], ['_', '_']]\n",
        "  elif len(pred_objects) == 1:\n",
        "    split_pred_objs = [[i for i in obj] for obj in pred_objects]\n",
        "    split_pred_objs.append(['_', '_'])\n",
        "  else:\n",
        "    split_pred_objs = [[i for i in obj] for obj in pred_objects]\n",
        "\n",
        "  muc_objects.append(muc(split_pred_objs, split_objs))\n",
        "  ceaf_objects.append(ceaf(split_pred_objs, split_objs))\n",
        "\n",
        "print('MUC')\n",
        "print(f'''precision: {sum([m[0] for m in muc_objects])/len(muc_objects)}\n",
        "recall: {sum([m[1] for m in muc_objects])/len(muc_objects)}\n",
        "f-score: {sum([m[2] for m in muc_objects])/len(muc_objects)}''')\n",
        "  \n",
        "print('\\nCEAF')\n",
        "print(f'''precision: {sum([c[0] for c in ceaf_objects])/len(ceaf_objects)}\n",
        "recall: {sum([c[1] for c in ceaf_objects])/len(ceaf_objects)}\n",
        "f-score: {sum([c[2] for c in ceaf_objects])/len(ceaf_objects)}''')"
      ],
      "metadata": {
        "colab": {
          "base_uri": "https://localhost:8080/"
        },
        "id": "zY8EC_9jRF_1",
        "outputId": "4ea0eb99-e4d3-473a-db24-eecc2ba39742"
      },
      "execution_count": null,
      "outputs": [
        {
          "output_type": "stream",
          "name": "stdout",
          "text": [
            "MUC\n",
            "precision: 0.6632730944075892\n",
            "recall: 0.7507671274079546\n",
            "f-score: 0.6162572704993214\n",
            "\n",
            "CEAF\n",
            "precision: 0.5555744922430175\n",
            "recall: 0.568095864820556\n",
            "f-score: 0.517266530844181\n"
          ]
        }
      ]
    },
    {
      "cell_type": "markdown",
      "source": [
        "### edit_distance"
      ],
      "metadata": {
        "id": "4cKXS6GB-0-o"
      }
    },
    {
      "cell_type": "code",
      "source": [
        "object_distance = []\n",
        "\n",
        "for i in range(len(flant5_zeroshot_df)):\n",
        "  objs = [flant5_zeroshot_df.iloc[i,1].lower(), flant5_zeroshot_df.iloc[i,2].lower()]\n",
        "\n",
        "  pred_objects = [ans.lower() for ans in answer_objects[i]]\n",
        "\n",
        "  if set(objs) == set(pred_objects):\n",
        "    object_distance.append(0)\n",
        "  elif len(objs) == len(pred_objects):\n",
        "    ed_obj1 = nltk.edit_distance(objs[0], pred_objects[0], transpositions=False)\n",
        "    ed_obj2 = nltk.edit_distance(objs[1], pred_objects[1], transpositions=False)\n",
        "    object_distance.append((ed_obj1+ed_obj2)/2)\n",
        "  # else: # добавить, если считаем и те, которые не нашлись\n",
        "  #   object_distance.append((len(objs[0])+len(objs[1]))/2)\n",
        "\n",
        "\n",
        "print(sum(object_distance)/len(object_distance))\n"
      ],
      "metadata": {
        "id": "4zkEllVBzWi1",
        "colab": {
          "base_uri": "https://localhost:8080/"
        },
        "outputId": "4ef9f5d6-92ad-472e-820b-8874f12d8c09"
      },
      "execution_count": null,
      "outputs": [
        {
          "output_type": "stream",
          "name": "stdout",
          "text": [
            "8.919293820933165\n"
          ]
        }
      ]
    },
    {
      "cell_type": "markdown",
      "source": [
        "### strict"
      ],
      "metadata": {
        "id": "oBSIopy0V_2a"
      }
    },
    {
      "cell_type": "markdown",
      "source": [
        "Полное совпадение"
      ],
      "metadata": {
        "id": "6exyI5gq1Bme"
      }
    },
    {
      "cell_type": "code",
      "source": [
        "correct_answers = 0\n",
        "\n",
        "for i in range(len(flant5_zeroshot_df)):\n",
        "  objs = [flant5_zeroshot_df.iloc[i,1].lower(), flant5_zeroshot_df.iloc[i,2].lower()]\n",
        "\n",
        "\n",
        "  pred_objects = [ans.lower() for ans in answer_objects[i]]\n",
        "\n",
        "\n",
        "  if set(objs) == set(pred_objects):\n",
        "    correct_answers += 1\n",
        "\n",
        "print(correct_answers/len(flant5_zeroshot_df))\n"
      ],
      "metadata": {
        "colab": {
          "base_uri": "https://localhost:8080/"
        },
        "id": "Yn_1kBKGvZht",
        "outputId": "0aaeccc5-2239-4dde-d4a8-4ec0a89b457b"
      },
      "execution_count": null,
      "outputs": [
        {
          "output_type": "stream",
          "name": "stdout",
          "text": [
            "0.20543016028786393\n"
          ]
        }
      ]
    },
    {
      "cell_type": "markdown",
      "source": [
        "Косинусная близость"
      ],
      "metadata": {
        "id": "u4EHUN-k0_vH"
      }
    },
    {
      "cell_type": "code",
      "source": [
        "cos_objects = []\n",
        "\n",
        "for i in tqdm(range(len(flant5_zeroshot_df))):\n",
        "  objs = [flant5_zeroshot_df.iloc[i,1].lower(), flant5_zeroshot_df.iloc[i,2].lower()]\n",
        "  pred_objs = [ans.lower() for ans in answer_objects[i]]\n",
        "\n",
        "  if len(objs) == len(pred_objs):\n",
        "    ob1_cos = cosine_sim(pred_objs[0], objs[0])\n",
        "    ob2_cos = cosine_sim(pred_objs[1], objs[1])\n",
        "    cos_objects.append((ob1_cos+ob2_cos)/2)\n",
        "  else:\n",
        "    cos_objects.append(0)\n",
        "\n",
        "\n",
        "print(sum(cos_objects)/len(cos_objects))\n"
      ],
      "metadata": {
        "id": "E75CYuVm03e5",
        "colab": {
          "base_uri": "https://localhost:8080/",
          "referenced_widgets": [
            "a79e958d3b4447f5904f53f460d3d4a5",
            "13330cffcc4d4bcd9c24341381f67284",
            "d4ba61b775a445119035e9d56f410afc",
            "d48ab3d18ca6444c814d626f8ca472ed",
            "a6777ecd56b04a35be3cc58572a1c937",
            "e063dbc241c842feb1efae59363ac8f2",
            "8faa85639bf9416eac83574f08b7348a",
            "198a18f34be948c7a56004f8a76e243e",
            "39950d0f48b0484c9ef6b14f7d411928",
            "2e2d909a86564eb0a6f53ba4efbbd91c",
            "18e8f82a97e14fef8d326e792defd95a"
          ]
        },
        "outputId": "1d868e09-fc88-468a-9014-58403ca3b81a"
      },
      "execution_count": null,
      "outputs": [
        {
          "output_type": "display_data",
          "data": {
            "text/plain": [
              "  0%|          | 0/3057 [00:00<?, ?it/s]"
            ],
            "application/vnd.jupyter.widget-view+json": {
              "version_major": 2,
              "version_minor": 0,
              "model_id": "a79e958d3b4447f5904f53f460d3d4a5"
            }
          },
          "metadata": {}
        },
        {
          "output_type": "stream",
          "name": "stdout",
          "text": [
            "0.5955132797145944\n"
          ]
        }
      ]
    },
    {
      "cell_type": "code",
      "source": [
        "# если не учитывать ненайденные \n",
        "\n",
        "cos_objects = []\n",
        "\n",
        "for i in tqdm(range(len(flant5_zeroshot_df))):\n",
        "  objs = [flant5_zeroshot_df.iloc[i,1].lower(), flant5_zeroshot_df.iloc[i,2].lower()]\n",
        "\n",
        "  pred_objs = [ans.lower() for ans in answer_objects[i]]\n",
        "\n",
        "  if len(objs) == len(pred_objs):\n",
        "    ob1_cos = cosine_sim(pred_objs[0], objs[0])\n",
        "    ob2_cos = cosine_sim(pred_objs[1], objs[1])\n",
        "    cos_objects.append((ob1_cos+ob2_cos)/2) # 0.835279246163902, 0.9263402552981126, если без того что ниже\n",
        "  if len(pred_objs) == 1:\n",
        "    ob1_cos = cosine_sim(pred_objs[0], objs[0])\n",
        "    ob2_cos = cosine_sim(pred_objs[0], objs[1])\n",
        "    cos_objects.append(max(ob1_cos, ob2_cos))\n",
        "\n",
        "\n",
        "\n",
        "print(sum(cos_objects)/len(cos_objects))\n"
      ],
      "metadata": {
        "colab": {
          "base_uri": "https://localhost:8080/",
          "referenced_widgets": [
            "4bfb83723b8245588946ce7d72a5fa1b",
            "e23025555be34477871433f225895465",
            "d7d73488d81d4cfdacb8a07a94fb3e97",
            "d918332f9f524416ac1af2216cc1d0d7",
            "cc91623af0ca4fad8a1d532d7fc16953",
            "12e537b4bbaf42f796d7cc7213d757c9",
            "2550f10b9c2c49b7a4a4304b5ec91cd1",
            "9683ad1a845a44ada5618006f32cd30f",
            "bbc7a8da22e848cf9e744499ebe20d68",
            "da5224faa5c14cf0b056b7debfa1724a",
            "7dfea9caec0e4cf49c9b31d919dfb6a0"
          ]
        },
        "id": "WKyCp9Y3Az0X",
        "outputId": "9c6a24ca-f171-450f-f5c6-0c0a0a7215c1"
      },
      "execution_count": null,
      "outputs": [
        {
          "output_type": "display_data",
          "data": {
            "text/plain": [
              "  0%|          | 0/3057 [00:00<?, ?it/s]"
            ],
            "application/vnd.jupyter.widget-view+json": {
              "version_major": 2,
              "version_minor": 0,
              "model_id": "4bfb83723b8245588946ce7d72a5fa1b"
            }
          },
          "metadata": {}
        },
        {
          "output_type": "stream",
          "name": "stdout",
          "text": [
            "0.7571863607395135\n"
          ]
        }
      ]
    },
    {
      "cell_type": "markdown",
      "source": [
        "### relaxed"
      ],
      "metadata": {
        "id": "rPcsmeh9V5so"
      }
    },
    {
      "cell_type": "markdown",
      "source": [
        "Полное совпадение"
      ],
      "metadata": {
        "id": "0cosL62J1E5e"
      }
    },
    {
      "cell_type": "code",
      "source": [
        "correct_answers = 0\n",
        "\n",
        "for i in range(len(flant5_zeroshot_df)):\n",
        "  objs = [flant5_zeroshot_df.iloc[i,1].lower(), flant5_zeroshot_df.iloc[i,2].lower()]\n",
        "\n",
        "\n",
        "  pred_objects = [ans.lower() for ans in answer_objects[i]]\n",
        "\n",
        "  for o in pred_objects:\n",
        "    if o in objs:\n",
        "      correct_answers += 0.5\n",
        "\n",
        "\n",
        "eval_df['flant5_zero_1'] = [correct_answers/len(flant5_zeroshot_df), 0]\n",
        "\n",
        "print(correct_answers/len(flant5_zeroshot_df))\n"
      ],
      "metadata": {
        "id": "XLwpNv3CV9BR",
        "colab": {
          "base_uri": "https://localhost:8080/"
        },
        "outputId": "d1bd793a-cd50-4ca0-98b0-0e4152ff4c63"
      },
      "execution_count": null,
      "outputs": [
        {
          "output_type": "stream",
          "name": "stdout",
          "text": [
            "0.32106640497219496\n"
          ]
        }
      ]
    },
    {
      "cell_type": "markdown",
      "source": [
        "Косинусная близость"
      ],
      "metadata": {
        "id": "M748iMN91GW0"
      }
    },
    {
      "cell_type": "code",
      "source": [
        "cos_objects = []\n",
        "\n",
        "for i in tqdm(range(len(flant5_zeroshot_df))):\n",
        "  objs = [flant5_zeroshot_df.iloc[i,1].lower(), flant5_zeroshot_df.iloc[i,2].lower()]\n",
        "\n",
        "  pred_objs = [ans.lower() for ans in answer_objects[i]]\n",
        "\n",
        "  # if one obects predicted\n",
        "  if len(pred_objs) == 1:\n",
        "    max_cos = 0\n",
        "    for obj in objs:\n",
        "      obj_cos = cosine_sim(pred_objs[0], obj)\n",
        "      if obj_cos > max_cos:\n",
        "        max_cos = obj_cos\n",
        "    cos_objects.append(max_cos*0.5)\n",
        "\n",
        "  # if two objects predicted\n",
        "  elif len(objs) == len(pred_objs):\n",
        "    ob1_cos = cosine_sim(pred_objs[0], objs[0])\n",
        "    ob2_cos = cosine_sim(pred_objs[1], objs[1])\n",
        "    cos_objects.append((ob1_cos+ob2_cos)/2)\n",
        "\n",
        "  # if no objects predicted\n",
        "  else:\n",
        "    cos_objects.append(0)\n",
        "\n",
        "\n",
        "print(sum(cos_objects)/len(cos_objects))"
      ],
      "metadata": {
        "colab": {
          "base_uri": "https://localhost:8080/",
          "referenced_widgets": [
            "2a5c353bc0ed4f76b3b6e17e5c42dfb1",
            "bcc2d79bfe664206807d517730e0f7bc",
            "35a85952df224ef8a5848df9c351bfc5",
            "40124d4b8b344c1992eedcc0e8ce5749",
            "5a8661f845014600ad80db7363d4eae8",
            "9abafc84f21b4f7e8ffd40aee026ea00",
            "1f09a956482f419fa889a4213348e46c",
            "3088d87ee8f442858a2654bc0c1851d0",
            "39d1048888d24ef893148ea8e3f8b366",
            "6a43b280544747df82057cc36b92dc25",
            "3c9d33986195458384c82fce752d996a"
          ]
        },
        "id": "_TI70S1hFeCM",
        "outputId": "b4dc461c-c93a-49d0-fb10-d4886e1edd12"
      },
      "execution_count": null,
      "outputs": [
        {
          "output_type": "display_data",
          "data": {
            "text/plain": [
              "  0%|          | 0/3057 [00:00<?, ?it/s]"
            ],
            "application/vnd.jupyter.widget-view+json": {
              "version_major": 2,
              "version_minor": 0,
              "model_id": "2a5c353bc0ed4f76b3b6e17e5c42dfb1"
            }
          },
          "metadata": {}
        },
        {
          "output_type": "stream",
          "name": "stdout",
          "text": [
            "0.6565346721270953\n"
          ]
        }
      ]
    },
    {
      "cell_type": "markdown",
      "source": [
        "## few shot"
      ],
      "metadata": {
        "id": "evK5tiP7SL3r"
      }
    },
    {
      "cell_type": "code",
      "source": [
        "flant5_fewshot_df = pd.read_csv('./drive/My Drive/flant5xl_fewshot.csv', sep='\\t', encoding='utf-8')"
      ],
      "metadata": {
        "id": "Btz37Yw-SQBM"
      },
      "execution_count": null,
      "outputs": []
    },
    {
      "cell_type": "code",
      "source": [
        "flant5_fewshot_df = delete_unnes_aspects(flant5_fewshot_df, unnes_asps)"
      ],
      "metadata": {
        "id": "gys2HUcGgIOW"
      },
      "execution_count": null,
      "outputs": []
    },
    {
      "cell_type": "code",
      "source": [
        "answer_objects = []\n",
        "answer_aspect = []\n",
        "for i in range(len(flant5_fewshot_df)):\n",
        "  answer = flant5_fewshot_df.iloc[i,4]\n",
        "  if 'Aspect' in answer:\n",
        "    aspect = answer.split('Aspect')[1].strip(' ').strip(':')\n",
        "    objj = answer.split('Aspect')[0]\n",
        "    objj = re.sub('Objects', '', objj).strip(' ').strip(':')\n",
        "  else:\n",
        "    aspect = ''\n",
        "    if 'Objects' in answer:\n",
        "      obj = re.sub('Objects', '', answer).strip(' ').strip(':')\n",
        "    else:\n",
        "      obj = ''\n",
        "  if \"'\" in objj:\n",
        "    obj = re.sub(\"' ?, '\", \"','\", objj)\n",
        "    obj = re.sub(\"'\", '', obj).strip(' ').strip('\\'').split(\"','\")\n",
        "  else:\n",
        "    obj = re.sub(' ?, ', ',', objj).strip(' ').strip('\\'').split(',')\n",
        "\n",
        "  answer_objects.append(obj)\n",
        "  answer_aspect.append(aspect.strip(' '))"
      ],
      "metadata": {
        "id": "FAVhPnoRyyoB"
      },
      "execution_count": null,
      "outputs": []
    },
    {
      "cell_type": "code",
      "source": [
        "clear_answer_aspect = []\n",
        "for a in answer_aspect:\n",
        "  if a in unnes_asps:\n",
        "    clear_answer_aspect.append('')\n",
        "  else:\n",
        "    clear_answer_aspect.append(a)   \n",
        "\n",
        "answer_aspect = clear_answer_aspect "
      ],
      "metadata": {
        "id": "vYpcqTC0hEDb"
      },
      "execution_count": null,
      "outputs": []
    },
    {
      "cell_type": "markdown",
      "source": [
        "### MUC, CEAF"
      ],
      "metadata": {
        "id": "ByQ5k5IVQ0d9"
      }
    },
    {
      "cell_type": "code",
      "source": [
        "evaluate_muc_ceaf_bcubed_f1(flant5_fewshot_df, answer_aspect, answer_objects)"
      ],
      "metadata": {
        "colab": {
          "base_uri": "https://localhost:8080/"
        },
        "id": "aGXKcLEfQ1nx",
        "outputId": "dbec0f63-109e-453f-c4af-b1af98e28162"
      },
      "execution_count": null,
      "outputs": [
        {
          "output_type": "stream",
          "name": "stdout",
          "text": [
            "MUC\n",
            "Objects:\n",
            "  precision: 0.764060021321861\n",
            "  recall: 0.7912010197185368\n",
            "  f-score: 0.7243328431483609\n",
            "Aspect:\n",
            "  precision: 0.6833814707404906\n",
            "  recall: 0.6242309679677882\n",
            "  f-score: 0.629668329280108\n",
            "\n",
            "CEAF\n",
            "Objects:\n",
            "  precision: 0.6362241026235022\n",
            "  recall: 0.5906614364062405\n",
            "  f-score: 0.5917628493228793\n",
            "Aspect:\n",
            "  precision: 0.4773852481415366\n",
            "  recall: 0.43068851055216667\n",
            "  f-score: 0.44012712445590363\n"
          ]
        }
      ]
    },
    {
      "cell_type": "markdown",
      "source": [
        "### edit-distance"
      ],
      "metadata": {
        "id": "zeiFGaCnwD9D"
      }
    },
    {
      "cell_type": "code",
      "source": [
        "evaluate_edit_distance(flant5_fewshot_df, answer_aspect, answer_objects)"
      ],
      "metadata": {
        "colab": {
          "base_uri": "https://localhost:8080/"
        },
        "id": "NlrTeQKDwC4H",
        "outputId": "de21af29-993c-4a10-9fd7-7c4a9e0d3e88"
      },
      "execution_count": null,
      "outputs": [
        {
          "output_type": "stream",
          "name": "stdout",
          "text": [
            "Objects: 4.4\n",
            "Aspect: 3.011013215859031\n"
          ]
        }
      ]
    },
    {
      "cell_type": "markdown",
      "source": [
        "### strict"
      ],
      "metadata": {
        "id": "dvv6CZVDVwa7"
      }
    },
    {
      "cell_type": "markdown",
      "source": [
        "Полное совпадение"
      ],
      "metadata": {
        "id": "X7AlOTZx0qYM"
      }
    },
    {
      "cell_type": "code",
      "source": [
        "evaluate_full_match(flant5_fewshot_df, answer_aspect, answer_objects)"
      ],
      "metadata": {
        "colab": {
          "base_uri": "https://localhost:8080/"
        },
        "id": "he1lZAPAENxr",
        "outputId": "fa948be3-20f4-4805-b46e-52f2d3fd6889"
      },
      "execution_count": null,
      "outputs": [
        {
          "output_type": "stream",
          "name": "stdout",
          "text": [
            "Objects: 0.378\n",
            "Aspect: 0.59\n"
          ]
        }
      ]
    },
    {
      "cell_type": "markdown",
      "source": [
        "Косинусная близость"
      ],
      "metadata": {
        "id": "AkFXvMDd0olw"
      }
    },
    {
      "cell_type": "code",
      "source": [
        "evaluate_cos_sim(flant5_fewshot_df, answer_aspect, answer_objects) "
      ],
      "metadata": {
        "id": "c7scirqkAlkY",
        "colab": {
          "base_uri": "https://localhost:8080/",
          "referenced_widgets": [
            "cff9e9ee0bd1424e9f50ef5fa99f3b55",
            "3ff29d17f01345dabfd487565c0414f6",
            "be8694ccaa6447a7a1d128755a9ac31c",
            "72358f5e778e49d49a5a4bc68edeaafe",
            "8fce8eb5f80d4323af02bc8069b2d398",
            "3859ac72b12647e1a3aae253ae94529f",
            "7c3f9e784f0c4b3a83a41b4ec303e33e",
            "bfeb3d537340419a910eeb2eea05cd98",
            "e82653bdcf4f4192a2d92e8243ca79ec",
            "6dfab8252b824496baefb5225449cff1",
            "09bcae0a51394aa28196ea0e6b6365bd"
          ]
        },
        "outputId": "8f11de14-894a-470d-909a-4bca75e8f015"
      },
      "execution_count": null,
      "outputs": [
        {
          "output_type": "display_data",
          "data": {
            "text/plain": [
              "  0%|          | 0/500 [00:00<?, ?it/s]"
            ],
            "application/vnd.jupyter.widget-view+json": {
              "version_major": 2,
              "version_minor": 0,
              "model_id": "cff9e9ee0bd1424e9f50ef5fa99f3b55"
            }
          },
          "metadata": {}
        },
        {
          "output_type": "stream",
          "name": "stdout",
          "text": [
            "Objects: 0.5596370953321457\n",
            "Aspect: 0.7040185940563679\n"
          ]
        }
      ]
    },
    {
      "cell_type": "code",
      "source": [
        "evaluate_cos_sim_found(flant5_fewshot_df, answer_aspect, answer_objects)"
      ],
      "metadata": {
        "colab": {
          "base_uri": "https://localhost:8080/",
          "referenced_widgets": [
            "264386f2d7e84a4196f59497e632814f",
            "92fa242fa53946dda08ee15c7d96d450",
            "0efc905fd4c247879405c8bdf75aa9d5",
            "ddfd859a785b4c489034396a41c94351",
            "ada9d0ea74c242e897f15c8c72391ed2",
            "ba0587665f6c4f439dec83c5bb54e110",
            "5fb7b0e3ec7e47f79f2e557b80ca4a92",
            "b49708a35caf47169149d23d8cca4e42",
            "b24aa96f62c347d8885e86018ecfbfa7",
            "a01c623d29fd47798b3b04761ccdb096",
            "58bb47126557413981d4638d0559c177"
          ]
        },
        "id": "Z82n6nO18AXQ",
        "outputId": "d05f1ab5-b00b-4706-fdd3-770c48f750fd"
      },
      "execution_count": null,
      "outputs": [
        {
          "output_type": "display_data",
          "data": {
            "text/plain": [
              "  0%|          | 0/500 [00:00<?, ?it/s]"
            ],
            "application/vnd.jupyter.widget-view+json": {
              "version_major": 2,
              "version_minor": 0,
              "model_id": "264386f2d7e84a4196f59497e632814f"
            }
          },
          "metadata": {}
        },
        {
          "output_type": "stream",
          "name": "stdout",
          "text": [
            "Objects: 0.8273048615912226\n",
            "Aspect: 0.9263402553373261\n"
          ]
        }
      ]
    },
    {
      "cell_type": "markdown",
      "source": [
        "### relaxed"
      ],
      "metadata": {
        "id": "ffiooyA1Vto7"
      }
    },
    {
      "cell_type": "markdown",
      "source": [
        "Полное совпадение"
      ],
      "metadata": {
        "id": "svA4uy9u0xYj"
      }
    },
    {
      "cell_type": "code",
      "source": [
        "evaluate_full_match_relaxed(flant5_fewshot_df, answer_aspect, answer_objects)"
      ],
      "metadata": {
        "id": "Iu_XbMoQV0ls",
        "colab": {
          "base_uri": "https://localhost:8080/"
        },
        "outputId": "3e7555ef-5820-4daa-eb13-ba8a3b19cb2e"
      },
      "execution_count": null,
      "outputs": [
        {
          "output_type": "stream",
          "name": "stdout",
          "text": [
            "Objects: 0.435\n",
            "Aspect: 0.59\n"
          ]
        }
      ]
    },
    {
      "cell_type": "markdown",
      "source": [
        "Косинусная близость"
      ],
      "metadata": {
        "id": "cuaiUsPD0vSf"
      }
    },
    {
      "cell_type": "code",
      "source": [
        "evaluate_cos_sim_relaxed(flant5_fewshot_df, answer_aspect, answer_objects)"
      ],
      "metadata": {
        "colab": {
          "base_uri": "https://localhost:8080/",
          "referenced_widgets": [
            "b72dbdf1dd8044bea188180a8b693086",
            "e0ae98f0425d4bdba24d93f9857c321f",
            "d634c29037d840b1850689954b935394",
            "ef77bec548044572b979d55705f7dc3a",
            "23cc3fbec9ee4280955c9e0226baac16",
            "9dee5f12f2ba4a0c887194e738eefca2",
            "73bbdf0f17f14e8ca7d6e76f4b404831",
            "b6dbee1c0fe84310a8b7045ca7d876b6",
            "555b5284042d4c23a59936ebf32b8ef6",
            "61cde4274ca2451a997da1f320dfe81e",
            "3e6a538510e7496c873c926561900842"
          ]
        },
        "id": "Ty--_5KUFhVR",
        "outputId": "8f8b4643-801e-4dff-bcc0-76668da4fec6"
      },
      "execution_count": null,
      "outputs": [
        {
          "data": {
            "application/vnd.jupyter.widget-view+json": {
              "model_id": "b72dbdf1dd8044bea188180a8b693086",
              "version_major": 2,
              "version_minor": 0
            },
            "text/plain": [
              "  0%|          | 0/500 [00:00<?, ?it/s]"
            ]
          },
          "metadata": {},
          "output_type": "display_data"
        },
        {
          "metadata": {
            "tags": null
          },
          "name": "stdout",
          "output_type": "stream",
          "text": [
            "Objects: 0.6794067958146334\n",
            "Aspect: 0.7040185940563679\n"
          ]
        }
      ]
    }
  ]
}