{
  "nbformat": 4,
  "nbformat_minor": 0,
  "metadata": {
    "colab": {
      "provenance": []
    },
    "kernelspec": {
      "name": "python3",
      "display_name": "Python 3"
    },
    "language_info": {
      "name": "python"
    }
  },
  "cells": [
    {
      "cell_type": "code",
      "source": [
        "!pip install jsonlines"
      ],
      "metadata": {
        "colab": {
          "base_uri": "https://localhost:8080/"
        },
        "id": "oD2taeVLxcXY",
        "outputId": "b9f20e3b-2b3b-4477-fc94-726a7ad39276"
      },
      "execution_count": null,
      "outputs": [
        {
          "output_type": "stream",
          "name": "stdout",
          "text": [
            "Looking in indexes: https://pypi.org/simple, https://us-python.pkg.dev/colab-wheels/public/simple/\n",
            "Collecting jsonlines\n",
            "  Downloading jsonlines-3.1.0-py3-none-any.whl (8.6 kB)\n",
            "Requirement already satisfied: attrs>=19.2.0 in /usr/local/lib/python3.10/dist-packages (from jsonlines) (23.1.0)\n",
            "Installing collected packages: jsonlines\n",
            "Successfully installed jsonlines-3.1.0\n"
          ]
        }
      ]
    },
    {
      "cell_type": "code",
      "execution_count": null,
      "metadata": {
        "colab": {
          "base_uri": "https://localhost:8080/"
        },
        "id": "wwRQFTNnv06c",
        "outputId": "557b7039-f5ee-4210-c94c-90a8edd055f2"
      },
      "outputs": [
        {
          "output_type": "stream",
          "name": "stdout",
          "text": [
            "Mounted at /content/drive\n"
          ]
        }
      ],
      "source": [
        "from google.colab import files, drive\n",
        "import pandas as pd\n",
        "import re\n",
        "from tqdm.auto import tqdm\n",
        "import jsonlines\n",
        "import nltk\n",
        "nltk.download('punkt')\n",
        "\n",
        "\n",
        "drive.mount('/content/drive')"
      ]
    },
    {
      "cell_type": "markdown",
      "source": [
        "# getting some statistics from ChatGPT answers dataset"
      ],
      "metadata": {
        "id": "YoztyJLyK8LX"
      }
    },
    {
      "cell_type": "code",
      "source": [
        "with jsonlines.open('./drive/My Drive/chat_gpt_results_few_final.jsonlines', 'r') as jsonl_f:\n",
        "  lst = [obj for obj in jsonl_f]"
      ],
      "metadata": {
        "id": "xppI7laIwo2X"
      },
      "execution_count": null,
      "outputs": []
    },
    {
      "cell_type": "code",
      "source": [
        "from statistics import mean, median\n",
        "\n",
        "mean_input = mean([len(l['input']) for l in lst])\n",
        "mean_output = mean([mean([len(out) for out in l['outputs']]) for l in lst])\n",
        "median_input = median([len(l['input']) for l in lst])\n",
        "median_output = median([median([len(out) for out in l['outputs']]) for l in lst])"
      ],
      "metadata": {
        "id": "9AluV-u541Bh"
      },
      "execution_count": null,
      "outputs": []
    },
    {
      "cell_type": "code",
      "source": [
        "print(mean_input, mean_output)\n",
        "print(median_input, median_output)\n",
        "print(len(lst))"
      ],
      "metadata": {
        "colab": {
          "base_uri": "https://localhost:8080/"
        },
        "id": "DXu__HPG5Mz7",
        "outputId": "e5ab5e77-2bac-4bd9-ed25-40f5f8be3ea6"
      },
      "execution_count": null,
      "outputs": [
        {
          "output_type": "stream",
          "name": "stdout",
          "text": [
            "2456.2667910447763 1057.0957711442786\n",
            "2460.5 1051.5\n",
            "536\n"
          ]
        }
      ]
    },
    {
      "cell_type": "markdown",
      "source": [
        "# labeling references"
      ],
      "metadata": {
        "id": "huK_FPkPLEKe"
      }
    },
    {
      "cell_type": "code",
      "source": [
        "with jsonlines.open('./drive/My Drive/chat_gpt_results_few_final.jsonl', 'r') as jsonl_f:\n",
        "  lst = [obj for obj in jsonl_f]"
      ],
      "metadata": {
        "id": "Q991epiUMXYD"
      },
      "execution_count": null,
      "outputs": []
    },
    {
      "cell_type": "code",
      "source": [
        "new_jsonl_data = []"
      ],
      "metadata": {
        "id": "nH8wYWPfy5Y8"
      },
      "execution_count": null,
      "outputs": []
    },
    {
      "cell_type": "markdown",
      "source": [
        "the following code allows you to label each element of the dataset manually"
      ],
      "metadata": {
        "id": "vZnzaKUfLTtf"
      }
    },
    {
      "cell_type": "code",
      "source": [
        "i = 1 # index of the element of the dataset\n",
        "inp = lst[i]['input']\n",
        "obj1 = lst[i]['obj1']\n",
        "obj2 = lst[i]['obj2']\n",
        "output = lst[i]['outputs'][0]\n",
        "\n",
        "cam_sents = inp.split('\\n\\n')[1].split('\\n')\n",
        "cs = {}\n",
        "for s in cam_sents:\n",
        "  cs[int(s.split('. ')[0])] = s.split('. ')[1]\n",
        "\n",
        "mentioned_in_output = re.findall('\\[[0-9]+\\]', output)\n",
        "mentioned_in_output = [int(item.strip('[').strip(']')) for item in mentioned_in_output]\n",
        "\n",
        "sentences = dict(enumerate(nltk.sent_tokenize(output)))\n",
        "length = [_ for _ in range(len(sentences))]\n",
        "\n",
        "print('INPUT:') # prints only those phrases which are mentioned in the references\n",
        "for k, v in cs.items():\n",
        "  if k in mentioned_in_output:\n",
        "    print(f'{k}: {v}')\n",
        "\n",
        "print('\\n\\n\\n')\n",
        "print('OUTPUT:') # prints only those sentences of the output that contain references\n",
        "for k, v in sentences.items():\n",
        "  if '[' in v:\n",
        "    print(f'{k}: {v}')\n",
        "\n"
      ],
      "metadata": {
        "id": "25e1OZjJymRK"
      },
      "execution_count": null,
      "outputs": []
    },
    {
      "cell_type": "code",
      "source": [
        "new_output = {'text': output, 'sentences': {}}\n",
        "\n",
        "for i in length:\n",
        "  new_output['sentences'][i] = {'text': sentences[i], 'items': {}}"
      ],
      "metadata": {
        "id": "sN3iWicq7AUZ"
      },
      "execution_count": null,
      "outputs": []
    },
    {
      "cell_type": "markdown",
      "source": [
        "by default all references have a tag True"
      ],
      "metadata": {
        "id": "1S8f-NPyMFsh"
      }
    },
    {
      "cell_type": "code",
      "source": [
        "new_output = {'text': output, 'sentences': {}}\n",
        "\n",
        "for i in length:\n",
        "  items = re.findall('\\[[0-9]+\\]', sentences[i])\n",
        "  items = [int(i.strip('[').strip(']')) for i in items]\n",
        "  if items:\n",
        "    items = {i: True for i in items}\n",
        "    new_output['sentences'][i] = {'text': sentences[i], 'items': items}\n",
        "  else:\n",
        "    new_output['sentences'][i] = {'text': sentences[i], 'items': {}}\n"
      ],
      "metadata": {
        "id": "ud6qlCj_RRPn"
      },
      "execution_count": null,
      "outputs": []
    },
    {
      "cell_type": "markdown",
      "source": [
        "you can change the tag by specifying the sentence index and the reference number which is in brackets as many time as it needs"
      ],
      "metadata": {
        "id": "FWmgaBFhMIhU"
      }
    },
    {
      "cell_type": "code",
      "source": [
        "i_sent = 0 # sentence\n",
        "i_item = 0 # reference\n",
        "new_output['sentences'][i_sent]['items'][i_item] = False"
      ],
      "metadata": {
        "id": "fhB4y-jyR3QO"
      },
      "execution_count": null,
      "outputs": []
    },
    {
      "cell_type": "code",
      "source": [
        "data2append = {'obj1': obj1,\n",
        "               'obj2': obj2,\n",
        "               'input': inp,\n",
        "               'output':new_output}"
      ],
      "metadata": {
        "id": "dH0po2SEy_MV"
      },
      "execution_count": null,
      "outputs": []
    },
    {
      "cell_type": "code",
      "source": [
        "new_jsonl_data.append(data2append)"
      ],
      "metadata": {
        "id": "_sFtED5E2XrX"
      },
      "execution_count": null,
      "outputs": []
    },
    {
      "cell_type": "markdown",
      "source": [
        "when you finished making changes run the following code"
      ],
      "metadata": {
        "id": "D1ltukrqNJ7a"
      }
    },
    {
      "cell_type": "code",
      "source": [
        "with jsonlines.open('./drive/My Drive/chatgpt_results_checked_.jsonl', mode='w') as writer:\n",
        "    writer.write_all(new_jsonl_data)"
      ],
      "metadata": {
        "id": "EBSFZKv82v_e"
      },
      "execution_count": null,
      "outputs": []
    },
    {
      "cell_type": "markdown",
      "source": [
        "# evaluating precision of ChatGPT answers"
      ],
      "metadata": {
        "id": "CemJK6cQOMBG"
      }
    },
    {
      "cell_type": "code",
      "source": [
        "from collections import Counter as c"
      ],
      "metadata": {
        "id": "_iLy17-mQm1-"
      },
      "execution_count": null,
      "outputs": []
    },
    {
      "cell_type": "code",
      "source": [
        "with jsonlines.open('./drive/My Drive/chatgpt_results_checked.jsonl', 'r') as jsonl_f:\n",
        "  lst = [obj for obj in jsonl_f]"
      ],
      "metadata": {
        "id": "SJ1vx8LSOJYn"
      },
      "execution_count": null,
      "outputs": []
    },
    {
      "cell_type": "code",
      "source": [
        "vals = []\n",
        "for i in range(len(lst)):\n",
        "  sents = lst[i]['output']['sentences']\n",
        "  for ind in sents.keys():\n",
        "    vals.extend(sents[ind]['items'].values())"
      ],
      "metadata": {
        "id": "bCtcRF6GO3Lb"
      },
      "execution_count": null,
      "outputs": []
    },
    {
      "cell_type": "code",
      "source": [
        "total = len(vals)\n",
        "true = c(vals)[True]\n",
        "\n",
        "print(true/total)"
      ],
      "metadata": {
        "colab": {
          "base_uri": "https://localhost:8080/"
        },
        "id": "cUPO9qQKPib_",
        "outputId": "cf7e6140-13ae-4ec5-cbf7-45da4ed9642f"
      },
      "execution_count": null,
      "outputs": [
        {
          "output_type": "stream",
          "name": "stdout",
          "text": [
            "0.8979591836734694\n"
          ]
        }
      ]
    },
    {
      "cell_type": "markdown",
      "source": [
        "# correcting output"
      ],
      "metadata": {
        "id": "qHA7btnQUf0N"
      }
    },
    {
      "cell_type": "code",
      "source": [
        "with jsonlines.open('./drive/My Drive/chatgpt_results_checked.jsonl', 'r') as jsonl_f:\n",
        "  lst = [obj for obj in jsonl_f]"
      ],
      "metadata": {
        "id": "YQMyJKNgUjSY"
      },
      "execution_count": null,
      "outputs": []
    },
    {
      "cell_type": "code",
      "source": [
        "new_outputs = []"
      ],
      "metadata": {
        "id": "lDh2cmZtXg4L"
      },
      "execution_count": null,
      "outputs": []
    },
    {
      "cell_type": "code",
      "source": [
        "i = 0\n",
        "print(lst[i]['input'])\n",
        "print('\\n\\n')\n",
        "output = lst[i]['output']\n",
        "print(output['text'])\n",
        "sents = output['sentences']\n",
        "print('\\n\\n')\n",
        "\n",
        "itms = []\n",
        "ss = lst[i]['output']['sentences']\n",
        "for ind in ss.keys():\n",
        "  itms.extend(ss[ind]['items'].values())\n",
        "\n",
        "if len(set(itms)) > 1: \n",
        "  for v in sents.values():\n",
        "    print(v['text'])\n",
        "    print(v['items'])\n",
        "else: # if there is nothing to change (all tags are True) then it automatically appends in the list\n",
        "  new_outputs.append(output['text'])\n",
        "  print('done')"
      ],
      "metadata": {
        "id": "rQKC9dULUk3O"
      },
      "execution_count": null,
      "outputs": []
    },
    {
      "cell_type": "markdown",
      "source": [
        "example:"
      ],
      "metadata": {
        "id": "y08jI_4wMlxs"
      }
    },
    {
      "cell_type": "code",
      "source": [
        "new_outputs.append('''Steel and timber are both materials commonly used in construction, but each has its own advantages and disadvantages.\n",
        "\n",
        "Some argue that steel is lighter in weight than timber [1], performs better in earthquakes [2], and has greater durability [3]. It is also said to dissipate heat faster than high carbon steel [11] and is a cost-effective option for breakwalls [6]. However, others argue that steel structures can cause cracks from humidity [8] and may pose environmental concerns.\n",
        "\n",
        "Timber, on the other hand, is said to be strong, light, and reliable [12][13], making it simpler and safer for on-site construction than steel or concrete [13]. It is also cheaper and easier to transport [15][19], and can be a more environmentally friendly alternative to concrete and steel [17]. However, timber may not be as durable as steel and can be susceptible to damage from pests or weather.\n",
        "\n",
        "Overall, the choice between steel and timber depends on specific needs and preferences. For example, steel may be a better choice for break-walls, while timber may be preferred for trailer construction [15]. Examining the pros and cons of each material can help in making an informed decision.\n",
        "\n",
        "Arguments used: 1, 2, 3, 6, 8, 11, 12, 13, 15, 17, 19.''')"
      ],
      "metadata": {
        "id": "tCn6lUTefzcK"
      },
      "execution_count": null,
      "outputs": []
    },
    {
      "cell_type": "markdown",
      "source": [
        "when you finished making changes run the following code"
      ],
      "metadata": {
        "id": "5reNjwCIM5C1"
      }
    },
    {
      "cell_type": "code",
      "source": [
        "new_lst = []\n",
        "\n",
        "for i in range(len(lst)):\n",
        "  inp = lst[i]['input']\n",
        "  obj1 = lst[i]['obj1']\n",
        "  obj2 = lst[i]['obj2']\n",
        "  output = new_outputs[i]\n",
        "  new_lst.append({'obj1': obj1, 'obj2': obj2, 'input': inp, 'output': output})\n",
        "\n",
        "with jsonlines.open('./drive/My Drive/work/chatgpt_results_correct.jsonl', mode='w') as writer:\n",
        "    writer.write_all(new_lst)"
      ],
      "metadata": {
        "id": "XjcWHeqZuM6k"
      },
      "execution_count": null,
      "outputs": []
    }
  ]
}